{
 "cells": [
  {
   "cell_type": "markdown",
   "id": "77548e5d-7595-432b-a569-abaf6a5b1405",
   "metadata": {},
   "source": [
    "<h1 align=\"center\" , style=\"color:#B82727;\">  Évaluation Comparative des Modèles de Classification Zero-Shot </h1>"
   ]
  },
  {
   "cell_type": "markdown",
   "id": "89c3e99b-7c14-4cd7-be77-eaad94b6a078",
   "metadata": {},
   "source": [
    "## 1. Introduction \n",
    "\n",
    "Cette étude se concentre sur la comparaison et l'évaluation des modèles de classification zero-shot, largement utilisés sur la plateforme Hugging Face. L'objectif principal est d'analyser l'efficacité de ces modèles dans la tâche spécifique de classification des employés. Un élément clé de notre méthode consiste à utiliser divers prompts pour examiner comment ils influencent les performances de ces modèles en matière de précision et de fiabilité des prédictions. A travers cette recherche, nous cherchons à déterminer quels modèles et quels types de prompts offrent les meilleurs résultats pour cette application particulière."
   ]
  },
  {
   "cell_type": "code",
   "execution_count": 1,
   "id": "add9f5ee",
   "metadata": {},
   "outputs": [],
   "source": [
    "from transformers import pipeline\n",
    "import numpy as np\n",
    "import pandas as pd\n",
    "from sklearn import metrics\n",
    "from sklearn.metrics import confusion_matrix, precision_score, recall_score, f1_score, accuracy_score"
   ]
  },
  {
   "cell_type": "code",
   "execution_count": 2,
   "id": "9903b109-a120-4657-b49c-fb150c77e922",
   "metadata": {},
   "outputs": [],
   "source": [
    "import matplotlib.pyplot as plt\n",
    "import seaborn as sns"
   ]
  },
  {
   "cell_type": "code",
   "execution_count": 3,
   "id": "42aa21d4-4a6b-45e9-a1a1-34c92d20ac13",
   "metadata": {},
   "outputs": [],
   "source": [
    "from easynmt import EasyNMT\n",
    "import sentencepiece as sp"
   ]
  },
  {
   "cell_type": "code",
   "execution_count": 4,
   "id": "a543805e-285d-46c8-ba69-70b36b63c111",
   "metadata": {},
   "outputs": [],
   "source": [
    "import time"
   ]
  },
  {
   "cell_type": "markdown",
   "id": "8fc3ed92-19cd-427e-b87c-e12d6e006695",
   "metadata": {},
   "source": [
    "## 2. Préparation des modèles"
   ]
  },
  {
   "cell_type": "code",
   "execution_count": 5,
   "id": "d4edbf45",
   "metadata": {},
   "outputs": [],
   "source": [
    "#models = [\"facebook/bart-large-mnli\", \"MoritzLaurer/deberta-v3-large-zeroshot-v2.0\",\"MoritzLaurer/deberta-v3-large-zeroshot-v2.0-c\", \"MoritzLaurer/deberta-v3-base-zeroshot-v2.0\", \"MoritzLaurer/roberta-large-zeroshot-v2.0\",\"MoritzLaurer/bge-m3-zeroshot-v2.0\" ]\n",
    "classifier1 = pipeline(\"zero-shot-classification\", model=\"facebook/bart-large-mnli\" )\n",
    "classifier2 = pipeline(\"zero-shot-classification\", model =\"MoritzLaurer/deberta-v3-large-zeroshot-v2.0\")\n",
    "classifier3 = pipeline(\"zero-shot-classification\", model =\"MoritzLaurer/deberta-v3-large-zeroshot-v2.0-c\")\n",
    "classifier4 = pipeline(\"zero-shot-classification\", model =\"MoritzLaurer/deberta-v3-base-zeroshot-v2.0\")\n",
    "classifier5 = pipeline(\"zero-shot-classification\", model =\"MoritzLaurer/roberta-large-zeroshot-v2.0\")\n",
    "classifier6 = pipeline(\"zero-shot-classification\", model =\"MoritzLaurer/bge-m3-zeroshot-v2.0\")"
   ]
  },
  {
   "cell_type": "markdown",
   "id": "718ef437-fdd6-43b3-a720-3e9e6ccb3884",
   "metadata": {},
   "source": [
    "## Translator "
   ]
  },
  {
   "cell_type": "markdown",
   "id": "c9cd7383-48dc-4f19-8c12-f49ee07f573a",
   "metadata": {},
   "source": [
    "**Pour les modèles English-only**"
   ]
  },
  {
   "cell_type": "code",
   "execution_count": 6,
   "id": "103376a4-c270-4ada-9309-d530d4489ab0",
   "metadata": {},
   "outputs": [],
   "source": [
    "#translator.translate(text, target_lang='en')\n",
    "translator = EasyNMT('opus-mt') \n"
   ]
  },
  {
   "cell_type": "markdown",
   "id": "2b3aaa35-450b-4542-accf-33ac2f80148d",
   "metadata": {},
   "source": [
    "## 3. Préparation et Nettoyage de données"
   ]
  },
  {
   "cell_type": "code",
   "execution_count": 7,
   "id": "c22f55fb",
   "metadata": {},
   "outputs": [],
   "source": [
    "avis = pd.read_csv(\"Gestion des changements.csv\") "
   ]
  },
  {
   "cell_type": "code",
   "execution_count": 8,
   "id": "ffb2db32",
   "metadata": {},
   "outputs": [
    {
     "data": {
      "text/html": [
       "<div>\n",
       "<style scoped>\n",
       "    .dataframe tbody tr th:only-of-type {\n",
       "        vertical-align: middle;\n",
       "    }\n",
       "\n",
       "    .dataframe tbody tr th {\n",
       "        vertical-align: top;\n",
       "    }\n",
       "\n",
       "    .dataframe thead th {\n",
       "        text-align: right;\n",
       "    }\n",
       "</style>\n",
       "<table border=\"1\" class=\"dataframe\">\n",
       "  <thead>\n",
       "    <tr style=\"text-align: right;\">\n",
       "      <th></th>\n",
       "      <th>Sample_text</th>\n",
       "      <th>synergy</th>\n",
       "      <th>antagonism</th>\n",
       "      <th>class</th>\n",
       "    </tr>\n",
       "  </thead>\n",
       "  <tbody>\n",
       "    <tr>\n",
       "      <th>0</th>\n",
       "      <td>Je vois clairement les avantages du nouveau sy...</td>\n",
       "      <td>Engagé</td>\n",
       "      <td>Résistant</td>\n",
       "      <td>Moteur</td>\n",
       "    </tr>\n",
       "    <tr>\n",
       "      <th>1</th>\n",
       "      <td>Bonjour, Merci pour la mise à jour sur le proj...</td>\n",
       "      <td>Intéressé</td>\n",
       "      <td>Opposant</td>\n",
       "      <td>Opposant</td>\n",
       "    </tr>\n",
       "    <tr>\n",
       "      <th>2</th>\n",
       "      <td>Je tiens à dire combien je suis impressionné p...</td>\n",
       "      <td>Engagé</td>\n",
       "      <td>Résistant</td>\n",
       "      <td>Moteur</td>\n",
       "    </tr>\n",
       "    <tr>\n",
       "      <th>3</th>\n",
       "      <td>Je suis enthousiaste à l'idée d'intégrer la bl...</td>\n",
       "      <td>Coopérant</td>\n",
       "      <td>Conciliant</td>\n",
       "      <td>Aligné</td>\n",
       "    </tr>\n",
       "    <tr>\n",
       "      <th>4</th>\n",
       "      <td>Je tiens à souligner combien je suis investi d...</td>\n",
       "      <td>Engagé</td>\n",
       "      <td>Opposant</td>\n",
       "      <td>Déchiré</td>\n",
       "    </tr>\n",
       "  </tbody>\n",
       "</table>\n",
       "</div>"
      ],
      "text/plain": [
       "                                         Sample_text    synergy  antagonism  \\\n",
       "0  Je vois clairement les avantages du nouveau sy...     Engagé   Résistant   \n",
       "1  Bonjour, Merci pour la mise à jour sur le proj...  Intéressé    Opposant   \n",
       "2  Je tiens à dire combien je suis impressionné p...     Engagé   Résistant   \n",
       "3  Je suis enthousiaste à l'idée d'intégrer la bl...  Coopérant  Conciliant   \n",
       "4  Je tiens à souligner combien je suis investi d...     Engagé    Opposant   \n",
       "\n",
       "      class  \n",
       "0    Moteur  \n",
       "1  Opposant  \n",
       "2    Moteur  \n",
       "3    Aligné  \n",
       "4   Déchiré  "
      ]
     },
     "execution_count": 8,
     "metadata": {},
     "output_type": "execute_result"
    }
   ],
   "source": [
    "avis.head()"
   ]
  },
  {
   "cell_type": "code",
   "execution_count": 9,
   "id": "79938d45",
   "metadata": {},
   "outputs": [],
   "source": [
    "avis.dropna(inplace=True)\n"
   ]
  },
  {
   "cell_type": "code",
   "execution_count": 10,
   "id": "d0edf4a4-9e6d-422c-ac20-bf4b04b90a3b",
   "metadata": {},
   "outputs": [],
   "source": [
    "regions = {\n",
    "        (\"Conciliant\",\"Minimaliste\" ):\"Passif\",\n",
    "        (\"Conciliant\", \"Intéressé\"): \"Passif\",\n",
    "        (\"Résistant\", \"Minimaliste\"): \"Passif\",\n",
    "        (\"Résistant\", \"Intéressé\"): \"Passif\",\n",
    "        (\"Conciliant\", \"Coopérant\"): \"Aligné\",\n",
    "        (\"Conciliant\", \"Engagé\"):\"Engagé\",\n",
    "        (\"Résistant\", \"Coopérant\"):\"Moteur\",\n",
    "        (\"Résistant\", \"Engagé\"): \"Moteur\",\n",
    "        (\"Opposant\", \"Coopérant\"): \"Moteur\",\n",
    "        (\"Opposant\", \"Engagé\"): \"Moteur\" ,\n",
    "        (\"Opposant\", \"Minimaliste\"):\"Opposant\",\n",
    "        (\"Opposant\", \"Intéressé\"):\"Opposant\",\n",
    "        (\"Irréconciliant\", \"Minimaliste\"):\"Irréductible\",\n",
    "        (\"Irréconciliant\", \"Intéressé\"):\"Irréductible\",\n",
    "        (\"Irréconciliant\", \"Coopérant\"): \"Déchiré\",\n",
    "        (\"Irréconciliant\", \"Engagé\"):\"Déchiré\"\n",
    "        }\n",
    "def assign_group(row):\n",
    "    tuple = (row['antagonism'],row['synergy'])\n",
    "    return regions[tuple]"
   ]
  },
  {
   "cell_type": "code",
   "execution_count": 11,
   "id": "38dddce2-0dc7-4325-9c17-967fce8451ff",
   "metadata": {
    "scrolled": true
   },
   "outputs": [
    {
     "data": {
      "text/plain": [
       "array(['Engagé', 'Intéressé', 'Coopérant', 'Interessé', 'Minimaliste',\n",
       "       'Engagé '], dtype=object)"
      ]
     },
     "execution_count": 11,
     "metadata": {},
     "output_type": "execute_result"
    }
   ],
   "source": [
    "avis[\"synergy\"].unique()"
   ]
  },
  {
   "cell_type": "code",
   "execution_count": 12,
   "id": "004dc683-1002-4ab5-94db-ea0b341a46e7",
   "metadata": {},
   "outputs": [],
   "source": [
    "avis[\"synergy\"] = avis[\"synergy\"].replace({\"Interessé\": \"Intéressé\", \"Engagé \": \"Engagé\"})"
   ]
  },
  {
   "cell_type": "code",
   "execution_count": 13,
   "id": "a073f6b7-c874-4224-bb01-dfb404c68ea1",
   "metadata": {},
   "outputs": [
    {
     "data": {
      "text/plain": [
       "Minimaliste    30\n",
       "Engagé         27\n",
       "Intéressé      24\n",
       "Coopérant      19\n",
       "Name: synergy, dtype: int64"
      ]
     },
     "execution_count": 13,
     "metadata": {},
     "output_type": "execute_result"
    }
   ],
   "source": [
    "avis['synergy'].value_counts()"
   ]
  },
  {
   "cell_type": "code",
   "execution_count": 14,
   "id": "fb356c66-c498-405f-8f16-89d0c0861bb0",
   "metadata": {},
   "outputs": [
    {
     "data": {
      "text/plain": [
       "array(['Résistant', 'Opposant', 'Conciliant', 'Concillant',\n",
       "       'Irréconciliant'], dtype=object)"
      ]
     },
     "execution_count": 14,
     "metadata": {},
     "output_type": "execute_result"
    }
   ],
   "source": [
    "avis[\"antagonism\"].unique()"
   ]
  },
  {
   "cell_type": "code",
   "execution_count": 15,
   "id": "4a62e030-c98c-4a15-a8e0-f87b197ad8fc",
   "metadata": {},
   "outputs": [],
   "source": [
    "avis[\"antagonism\"] = avis[\"antagonism\"].replace({\"Concillant\": \"Conciliant\"})"
   ]
  },
  {
   "cell_type": "code",
   "execution_count": 16,
   "id": "19a36366-3e32-4e00-8e3d-b539f11049af",
   "metadata": {
    "scrolled": true
   },
   "outputs": [
    {
     "data": {
      "text/plain": [
       "Résistant         33\n",
       "Conciliant        26\n",
       "Opposant          24\n",
       "Irréconciliant    17\n",
       "Name: antagonism, dtype: int64"
      ]
     },
     "execution_count": 16,
     "metadata": {},
     "output_type": "execute_result"
    }
   ],
   "source": [
    "avis['antagonism'].value_counts()"
   ]
  },
  {
   "cell_type": "code",
   "execution_count": 17,
   "id": "31fb3861-89fc-4445-a6dc-008f82a5f3b8",
   "metadata": {},
   "outputs": [
    {
     "data": {
      "text/plain": [
       "array(['Moteur', 'Opposant', 'Aligné', 'Déchiré', 'Passif',\n",
       "       'Irréductible', 'Engagé'], dtype=object)"
      ]
     },
     "execution_count": 17,
     "metadata": {},
     "output_type": "execute_result"
    }
   ],
   "source": [
    "avis['class'].unique()"
   ]
  },
  {
   "cell_type": "code",
   "execution_count": 18,
   "id": "f93212c0-7930-4f38-9fbc-9fcadac0dd78",
   "metadata": {},
   "outputs": [],
   "source": [
    "avis [\"class\"] = avis.apply(assign_group, axis=1)"
   ]
  },
  {
   "cell_type": "markdown",
   "id": "65160bee-55ca-4432-9e8d-683efb1d398a",
   "metadata": {},
   "source": [
    "## 4. Formulation des prompts "
   ]
  },
  {
   "cell_type": "code",
   "execution_count": 19,
   "id": "650ffd91",
   "metadata": {},
   "outputs": [],
   "source": [
    "#Francais \n",
    "#formulation 1 : formulation minimaliste\n",
    "text_synergy_labels1 =[\"1 Minimaliste\",\"2 Intéressé\", \"3 Coopérant\" , \"4 Engagé\"] \n",
    "text_antagonism_labels1 = [ \"1 Conciliant\",\"2 Résistant\" , \"3 Opposant\", \"4 Irréconciliant\" ]\n",
    "#formulation 2 : formulation explicite \n",
    "text_synergy_labels2 =[\"1 Minimaliste  Se limite strictement à exécuter les tâches assignées avec un effort minimal N'initie aucune action au-delà de ce qui est explicitement demandé\",\n",
    "                        \"2 Intéressé Manifeste un intérêt verbal  pour le projet, et participe sans hésitation. Engagé au niveau basique, mais sans initiative significative.\",\n",
    "                        \"3 Coopérant S'implique de manière proactive prenant des initiatives concrètes sans attendre de directives\" ,\n",
    "                        \"4 Engagé Démontre un engagement maximal en prenant des initiatives majeures qui influencent le cours des projets. Travaille avec passion pour inspirer et entraîner les autres\"] \n",
    "text_antagonism_labels2 = [ \"1 Conciliant : Adopte une approche souple et s'adapte facilement aux décisions de groupe, même si personnellement en désaccord.\"\n",
    "                            ,\"2 Résistant: Exprime ouvertement son désaccord ou ses critiques concernant les propositions ou les projets, mais reste ouvert à la discussion et peut être persuadé de soutenir la décision finale avec des ajustements.\" ,\n",
    "                            \"3 Opposant: Manifeste activement son opposition à travers ses actions ou son comportement, créant des obstacles ou des retards. Toutefois, il peut être amené à se rallier si placé sous une pression \", \n",
    "                            \"4 Irréconciliant :S'oppose fermement et utilise tous les moyens à sa disposition pour contrecarrer les initiatives ou les changements proposés. Refuse de se rallier quelles que soient les circonstances ou les pressions exercées\" ]\n",
    "# formulation 3 : formulation optimale \n",
    "text_synergy_labels3 = [\"1 fait les directives assignés sans des initiatives actives\",\n",
    "                        \"2 fait les directives assignés et manifeste un interet verbal pour le projet mais sans initiatives actives \",\n",
    "                        \"3 fait des initiatives actives \" ,\n",
    "                        \"4 fait des initiatives actives avec ton élevé de responsabilité \"   ]\n",
    "text_antagonism_labels3 =[\"1  Soutient les décisions et approches du projet\",\n",
    "                            \"2 contre le projet ou certaines décisions ou approches  et ouvert à la discussion\",\n",
    "                            \"3 contre le projet ou certaines décisions ou approches et moins flexible à la discussion\",\n",
    "                            \"4 contre le projet ou certaines décisions ou approches  et inflexible  à la discussion\" ]\n",
    "#English\n",
    "# formulation 1\n",
    "text_synergy_labels1e =[\"1 Minimalist\",\"2 Interested\", \"3 Cooperative\" , \"4 Engaged\"]\n",
    "text_antagonism_labels1e = [ \"1 Conciliatory\",\"2 Resistant\" , \"3 Opposing\", \"4 Irreconcilable\" ]\n",
    "#formulation 2 \n",
    "text_synergy_labels2e =[\"1 Minimalist: Strictly limits themselves to executing assigned tasks with minimal effort. Does not initiate any actions beyond what is explicitly requested.\",\n",
    "                        \"2 Interested: Verbally expresses interest in the project and participates without hesitation. Engaged at a basic level, but without significant initiative.\",\n",
    "                        \"3 Cooperative: Actively engages by taking concrete initiatives without waiting for directives.\",\n",
    "                        \"4 Engaged: Demonstrates maximum commitment by taking major initiatives that influence the course of projects. Works passionately to inspire and lead others.\"]\n",
    "\n",
    "text_antagonism_labels2e = [ \"1 Conciliatory: Adopts a flexible approach and easily adapts to group decisions, even if personally in disagreement.\",\n",
    "                             \"2 Resistant: Openly expresses disagreement or criticism regarding proposals or projects but remains open to discussion and can be persuaded to support the final decision with adjustments.\",\n",
    "                             \"3 Opposing: Actively opposes through actions or behavior, creating obstacles or delays. However, may be persuaded to join if placed under sufficient pressure.\",\n",
    "                             \"4 Irreconcilable: Firmly opposes and uses all means at their disposal to counter proposed initiatives or changes. Refuses to align under any circumstances or pressures.\" ]\n",
    "#formulation 3\n",
    "text_synergy_labels3e = [\"1 performs assigned directives without active initiatives\",\n",
    "                         \"2 performs assigned directives and expresses verbal interest in the project but without active initiatives\",\n",
    "                         \"3 takes active initiatives\",\n",
    "                         \"4 takes active initiatives with a high level of responsibility\"]\n",
    "text_antagonism_labels3e = [\"1 Supports the project's decisions and approaches.\",\n",
    "                            \"2 against the project or certain decisions or approaches and open to discussion\",\n",
    "                            \"3 against the project or certain decisions or approaches and less flexible to discussion\",\n",
    "                            \"4 against the project or certain decisions or approaches and inflexible to discussion\"]\n",
    "\n"
   ]
  },
  {
   "cell_type": "code",
   "execution_count": 20,
   "id": "b1ecbef2-80b7-4c39-8a05-00dec0bd45e7",
   "metadata": {},
   "outputs": [
    {
     "data": {
      "text/plain": [
       "0     Je vois clairement les avantages du nouveau sy...\n",
       "1     Bonjour, Merci pour la mise à jour sur le proj...\n",
       "2     Je tiens à dire combien je suis impressionné p...\n",
       "3     Je suis enthousiaste à l'idée d'intégrer la bl...\n",
       "4     Je tiens à souligner combien je suis investi d...\n",
       "                            ...                        \n",
       "95    L'idée du projet possède certes un certain pot...\n",
       "96    je suis extrêmement enthousiaste à propos de c...\n",
       "97    Je fais ce qui est demandé. Aucune initiative....\n",
       "98    \"L'idée est intéressante sur le papier, et j'a...\n",
       "99    L'idée du projet est bien pensée, elle a du po...\n",
       "Name: Sample_text, Length: 100, dtype: object"
      ]
     },
     "execution_count": 20,
     "metadata": {},
     "output_type": "execute_result"
    }
   ],
   "source": [
    "avis[\"Sample_text\"]"
   ]
  },
  {
   "cell_type": "code",
   "execution_count": 45,
   "id": "4ea50c59-76f4-42ef-9898-d4a7bceb5d71",
   "metadata": {},
   "outputs": [],
   "source": [
    "y_test = avis [\"class\"]"
   ]
  },
  {
   "cell_type": "markdown",
   "id": "d1bbc658-46f3-4738-9353-6715c5944652",
   "metadata": {},
   "source": [
    "# Formulation minimaliste "
   ]
  },
  {
   "cell_type": "markdown",
   "id": "e5feb55a-9e2f-40d1-a7be-00cd39fdf99f",
   "metadata": {},
   "source": [
    "## Modèle 1 : facebook/bart-large-mnli\""
   ]
  },
  {
   "cell_type": "markdown",
   "id": "21ef98f8-13df-4340-a2b2-2409d2c7b581",
   "metadata": {},
   "source": [
    "### Tache 1 : classification selon son niveau de synergie"
   ]
  },
  {
   "cell_type": "code",
   "execution_count": 38,
   "id": "8a97c299",
   "metadata": {},
   "outputs": [],
   "source": [
    "y_test_synergy= avis[\"synergy\"]"
   ]
  },
  {
   "cell_type": "code",
   "execution_count": 24,
   "id": "f4358ca0-6084-421c-9e1b-dea9e9c04c65",
   "metadata": {},
   "outputs": [],
   "source": [
    "y_pred_synergy11 = []"
   ]
  },
  {
   "cell_type": "code",
   "execution_count": 25,
   "id": "41b44d9c-27d6-4448-913f-429ae5a2f863",
   "metadata": {},
   "outputs": [
    {
     "name": "stderr",
     "output_type": "stream",
     "text": [
      "C:\\Users\\HP\\anaconda3\\lib\\site-packages\\torch\\_utils.py:776: UserWarning: TypedStorage is deprecated. It will be removed in the future and UntypedStorage will be the only storage class. This should only matter to you if you are using storages directly.  To access UntypedStorage directly, use tensor.untyped_storage() instead of tensor.storage()\n",
      "  return self.fget.__get__(instance, owner)()\n"
     ]
    },
    {
     "name": "stdout",
     "output_type": "stream",
     "text": [
      "Temps d'exécution : 11.19minutes\n"
     ]
    }
   ],
   "source": [
    "start = time.time()\n",
    "for text in avis[\"Sample_text\"]:\n",
    "    text = translator.translate(text, target_lang='en')\n",
    "    result = classifier1(text, text_synergy_labels1e, multi_label = False )\n",
    "    result = result['labels'][0].split()[0]\n",
    "    if result == \"1\":\n",
    "        y_pred_synergy11.append(\"Minimaliste\")\n",
    "    elif result == \"2\":\n",
    "        y_pred_synergy11.append(\"Intéressé\")\n",
    "    elif result == \"3\" :\n",
    "        y_pred_synergy11.append(\"Coopérant\")\n",
    "    else :\n",
    "        y_pred_synergy11.append(\"Engagé\")\n",
    "end = time.time()\n",
    "execution_time111 = end - start\n",
    "execution_time111 = execution_time111/60\n",
    "\n",
    "print(f'Temps d\\'exécution : {execution_time111:.2f}minutes')\n"
   ]
  },
  {
   "cell_type": "code",
   "execution_count": 26,
   "id": "285345bb-be94-4ff6-b521-e8a19fa23f52",
   "metadata": {},
   "outputs": [],
   "source": [
    "y_pred_synergy11 = np.array(y_pred_synergy11)"
   ]
  },
  {
   "cell_type": "code",
   "execution_count": 27,
   "id": "5c69bb38-eab1-46a7-b7ae-7b54528d6998",
   "metadata": {},
   "outputs": [
    {
     "data": {
      "text/plain": [
       "array(['Intéressé', 'Intéressé', 'Intéressé', 'Intéressé', 'Intéressé',\n",
       "       'Intéressé', 'Intéressé', 'Intéressé', 'Intéressé', 'Intéressé',\n",
       "       'Minimaliste', 'Intéressé', 'Intéressé', 'Intéressé', 'Intéressé',\n",
       "       'Engagé', 'Intéressé', 'Intéressé', 'Minimaliste', 'Engagé',\n",
       "       'Intéressé', 'Intéressé', 'Minimaliste', 'Engagé', 'Engagé',\n",
       "       'Intéressé', 'Intéressé', 'Intéressé', 'Intéressé', 'Intéressé',\n",
       "       'Intéressé', 'Intéressé', 'Intéressé', 'Intéressé', 'Intéressé',\n",
       "       'Intéressé', 'Intéressé', 'Intéressé', 'Intéressé', 'Intéressé',\n",
       "       'Minimaliste', 'Intéressé', 'Intéressé', 'Intéressé', 'Intéressé',\n",
       "       'Intéressé', 'Intéressé', 'Intéressé', 'Intéressé', 'Intéressé',\n",
       "       'Intéressé', 'Intéressé', 'Intéressé', 'Intéressé', 'Intéressé',\n",
       "       'Intéressé', 'Intéressé', 'Intéressé', 'Intéressé', 'Intéressé',\n",
       "       'Intéressé', 'Intéressé', 'Intéressé', 'Engagé', 'Intéressé',\n",
       "       'Intéressé', 'Intéressé', 'Intéressé', 'Intéressé', 'Intéressé',\n",
       "       'Intéressé', 'Intéressé', 'Intéressé', 'Intéressé', 'Engagé',\n",
       "       'Intéressé', 'Engagé', 'Intéressé', 'Intéressé', 'Intéressé',\n",
       "       'Intéressé', 'Intéressé', 'Intéressé', 'Intéressé', 'Intéressé',\n",
       "       'Intéressé', 'Intéressé', 'Intéressé', 'Intéressé', 'Minimaliste',\n",
       "       'Intéressé', 'Intéressé', 'Intéressé', 'Intéressé', 'Intéressé',\n",
       "       'Intéressé', 'Intéressé', 'Minimaliste', 'Intéressé', 'Intéressé'],\n",
       "      dtype='<U11')"
      ]
     },
     "execution_count": 27,
     "metadata": {},
     "output_type": "execute_result"
    }
   ],
   "source": [
    "y_pred_synergy11"
   ]
  },
  {
   "cell_type": "code",
   "execution_count": 28,
   "id": "3c7fc8f7-63e4-4112-a0e8-3e5322528628",
   "metadata": {},
   "outputs": [
    {
     "name": "stdout",
     "output_type": "stream",
     "text": [
      "[[ 6 21  0  3]\n",
      " [ 0 24  0  0]\n",
      " [ 0 17  0  2]\n",
      " [ 0 25  0  2]]\n",
      "Précision: 0.39039408866995073\n",
      "Rappel: 0.3185185185185185\n",
      "Score F1: 0.2208532061473238\n",
      "Accuracy: 0.32\n"
     ]
    },
    {
     "name": "stderr",
     "output_type": "stream",
     "text": [
      "C:\\Users\\HP\\anaconda3\\lib\\site-packages\\sklearn\\metrics\\_classification.py:1318: UndefinedMetricWarning: Precision is ill-defined and being set to 0.0 in labels with no predicted samples. Use `zero_division` parameter to control this behavior.\n",
      "  _warn_prf(average, modifier, msg_start, len(result))\n"
     ]
    }
   ],
   "source": [
    "cm = confusion_matrix(y_test_synergy, y_pred_synergy11, labels = [\"Minimaliste\", \"Intéressé\", \"Coopérant\",\"Engagé\"])\n",
    "print(cm)\n",
    "print(\"Précision:\", precision_score(y_test_synergy, y_pred_synergy11, average='macro'))\n",
    "print(\"Rappel:\", recall_score(y_test_synergy, y_pred_synergy11, average='macro'))\n",
    "print(\"Score F1:\", f1_score(y_test_synergy, y_pred_synergy11, average='macro'))\n",
    "print(\"Accuracy:\", accuracy_score(y_test_synergy, y_pred_synergy11))"
   ]
  },
  {
   "cell_type": "markdown",
   "id": "38279b7d-4b82-4522-a150-f31717203f3d",
   "metadata": {},
   "source": [
    "### Tache 2 : classification selon son niveau d'antagonisme"
   ]
  },
  {
   "cell_type": "code",
   "execution_count": 39,
   "id": "f3452f67-a97a-4b8a-ad91-8e390714392c",
   "metadata": {},
   "outputs": [],
   "source": [
    "y_test_antagonism = avis[\"antagonism\"]"
   ]
  },
  {
   "cell_type": "code",
   "execution_count": 30,
   "id": "ab1856d0-b3f8-445e-810b-e16e817c1ef3",
   "metadata": {},
   "outputs": [],
   "source": [
    "y_pred_antagonism11 = []"
   ]
  },
  {
   "cell_type": "code",
   "execution_count": 31,
   "id": "84042b54-fdb5-4519-9200-cea4393d98d9",
   "metadata": {},
   "outputs": [
    {
     "name": "stdout",
     "output_type": "stream",
     "text": [
      "Temps d'exécution : 11.84minutes\n"
     ]
    }
   ],
   "source": [
    "start = time.time()\n",
    "for text in avis[\"Sample_text\"]:\n",
    "    text = translator.translate(text, target_lang='en')\n",
    "    result = classifier1(text, text_antagonism_labels1e, multi_label = False )\n",
    "    result = result['labels'][0].split()[0]\n",
    "    if result == \"1\":\n",
    "        y_pred_antagonism11.append(\"Conciliant\")\n",
    "    elif result == \"2\":\n",
    "        y_pred_antagonism11.append(\"Résistant\")\n",
    "    elif result == \"3\" :\n",
    "        y_pred_antagonism11.append(\"Opposant\")\n",
    "    else :\n",
    "        y_pred_antagonism11.append(\"Irréconciliant\")\n",
    "end = time.time()\n",
    "execution_time112 = end - start\n",
    "execution_time112 = execution_time112/60\n",
    "\n",
    "print(f'Temps d\\'exécution : {execution_time112:.2f}minutes')"
   ]
  },
  {
   "cell_type": "code",
   "execution_count": 32,
   "id": "32384d1a-3fee-49d6-8d81-04e95dcbc910",
   "metadata": {},
   "outputs": [],
   "source": [
    "y_pred_antagonism11 = np.array(y_pred_antagonism11)"
   ]
  },
  {
   "cell_type": "code",
   "execution_count": 33,
   "id": "57549f2b-ade6-4fc8-b05b-d24f9a14251e",
   "metadata": {},
   "outputs": [
    {
     "name": "stdout",
     "output_type": "stream",
     "text": [
      "[[23  0  3  0]\n",
      " [ 8  0 25  0]\n",
      " [ 5  0 19  0]\n",
      " [ 0  4 13  0]]\n",
      "Précision: 0.23888888888888887\n",
      "Rappel: 0.4190705128205128\n",
      "Score F1: 0.29857910906298\n",
      "Accuracy: 0.42\n"
     ]
    },
    {
     "name": "stderr",
     "output_type": "stream",
     "text": [
      "C:\\Users\\HP\\anaconda3\\lib\\site-packages\\sklearn\\metrics\\_classification.py:1318: UndefinedMetricWarning: Precision is ill-defined and being set to 0.0 in labels with no predicted samples. Use `zero_division` parameter to control this behavior.\n",
      "  _warn_prf(average, modifier, msg_start, len(result))\n"
     ]
    }
   ],
   "source": [
    "cm2 = confusion_matrix(y_test_antagonism, y_pred_antagonism11, labels = [\"Conciliant\", \"Résistant\", \"Opposant\",\"Irréconciliant\"])\n",
    "print(cm2)\n",
    "print(\"Précision:\", precision_score(y_test_antagonism, y_pred_antagonism11, average='macro'))\n",
    "print(\"Rappel:\", recall_score(y_test_antagonism, y_pred_antagonism11, average='macro'))\n",
    "print(\"Score F1:\", f1_score(y_test_antagonism, y_pred_antagonism11, average='macro'))\n",
    "print(\"Accuracy:\", accuracy_score(y_test_antagonism, y_pred_antagonism11))"
   ]
  },
  {
   "cell_type": "code",
   "execution_count": 34,
   "id": "28db6ec2-9adf-4bc7-8d10-15eb0223e665",
   "metadata": {},
   "outputs": [],
   "source": [
    "predictions_bart_large_mnli_1 = pd.DataFrame({\n",
    "    'synergy': y_pred_synergy11,\n",
    "    'antagonism': y_pred_antagonism11\n",
    "})"
   ]
  },
  {
   "cell_type": "markdown",
   "id": "65be6640-901b-4bc1-bf04-8b0c0d9f3279",
   "metadata": {},
   "source": [
    "### Tache 3 : classification finale"
   ]
  },
  {
   "cell_type": "code",
   "execution_count": 35,
   "id": "fa033e26",
   "metadata": {},
   "outputs": [],
   "source": [
    "y_test = avis [\"class\"]"
   ]
  },
  {
   "cell_type": "code",
   "execution_count": 36,
   "id": "ec220eb8-8313-4e01-a741-a8440012fafc",
   "metadata": {},
   "outputs": [],
   "source": [
    "predictions_bart_large_mnli_1['class'] = predictions_bart_large_mnli_1.apply(assign_group, axis=1)"
   ]
  },
  {
   "cell_type": "code",
   "execution_count": 37,
   "id": "2dae5b86-1d60-4989-9a58-8e6bfa782810",
   "metadata": {},
   "outputs": [],
   "source": [
    "y_pred11 = predictions_bart_large_mnli_1 [\"class\"]"
   ]
  },
  {
   "cell_type": "code",
   "execution_count": 38,
   "id": "a75c4295-3bed-45f4-b96e-e55b074fc142",
   "metadata": {},
   "outputs": [
    {
     "name": "stdout",
     "output_type": "stream",
     "text": [
      "[[15  0  1  1  0 11  0]\n",
      " [ 7  0  0  0  0  0  0]\n",
      " [ 3  0  0  0  0  2  0]\n",
      " [ 6  0  0  4  0 18  0]\n",
      " [ 2  0  0  0  0  4  0]\n",
      " [ 4  0  0  0  0 11  0]\n",
      " [ 1  0  0  1  0  9  0]]\n",
      "Précision: 0.18020050125313286\n",
      "Rappel: 0.20170068027210883\n",
      "Score F1: 0.1434464694968897\n",
      "Accuracy: 0.3\n"
     ]
    },
    {
     "name": "stderr",
     "output_type": "stream",
     "text": [
      "C:\\Users\\HP\\anaconda3\\lib\\site-packages\\sklearn\\metrics\\_classification.py:1318: UndefinedMetricWarning: Precision is ill-defined and being set to 0.0 in labels with no predicted samples. Use `zero_division` parameter to control this behavior.\n",
      "  _warn_prf(average, modifier, msg_start, len(result))\n"
     ]
    }
   ],
   "source": [
    "cm3 = confusion_matrix(y_test, y_pred11, labels = [\"Passif\", \"Aligné\", \"Engagé\",\"Moteur\",\"Déchiré\", \"Opposant\", \"Irréductible\"])\n",
    "print(cm3)\n",
    "print(\"Précision:\", precision_score(y_test, y_pred11, average='macro'))\n",
    "print(\"Rappel:\", recall_score(y_test, y_pred11, average='macro'))\n",
    "print(\"Score F1:\", f1_score(y_test, y_pred11, average='macro'))\n",
    "print(\"Accuracy:\", accuracy_score(y_test, y_pred11))"
   ]
  },
  {
   "cell_type": "markdown",
   "id": "a2ba02b7-7f35-4a1c-821c-0cd5277aa36c",
   "metadata": {},
   "source": [
    "## Modèle 2 : \"MoritzLaurer/deberta-v3-large-zeroshot-v2.0\""
   ]
  },
  {
   "cell_type": "markdown",
   "id": "e8c2e7e0-454e-4067-8f53-44dce869551f",
   "metadata": {},
   "source": [
    "### Tache 1 : classification selon son niveau de synergie"
   ]
  },
  {
   "cell_type": "code",
   "execution_count": 39,
   "id": "a3145f85-fbc0-4982-a7cc-1ac161161cf0",
   "metadata": {},
   "outputs": [],
   "source": [
    "y_pred_synergy12 = []"
   ]
  },
  {
   "cell_type": "code",
   "execution_count": 41,
   "id": "74fc3831-00cf-4027-9d7b-102594801ba3",
   "metadata": {},
   "outputs": [
    {
     "name": "stdout",
     "output_type": "stream",
     "text": [
      "Temps d'exécution : 11.19minutes\n"
     ]
    }
   ],
   "source": [
    "start = time.time()\n",
    "for text in avis[\"Sample_text\"]:\n",
    "    result = classifier2(text, text_synergy_labels1, multi_label = False )\n",
    "    result = result['labels'][0].split()[0]\n",
    "    if result == \"1\":\n",
    "        y_pred_synergy12.append(\"Minimaliste\")\n",
    "    elif result == \"2\":\n",
    "        y_pred_synergy12.append(\"Intéressé\")\n",
    "    elif result == \"3\" :\n",
    "        y_pred_synergy12.append(\"Coopérant\")\n",
    "    else :\n",
    "        y_pred_synergy12.append(\"Engagé\")\n",
    "end = time.time()\n",
    "execution_time121 = end - start\n",
    "execution_time121 = execution_time121/60\n",
    "\n",
    "print(f'Temps d\\'exécution : {execution_time111:.2f}minutes')\n"
   ]
  },
  {
   "cell_type": "code",
   "execution_count": 42,
   "id": "4e8e5da4-8df4-4558-b9b6-03c70b84754a",
   "metadata": {},
   "outputs": [],
   "source": [
    "y_pred_synergy12 = np.array(y_pred_synergy12)"
   ]
  },
  {
   "cell_type": "code",
   "execution_count": 43,
   "id": "ef2d0430-f02d-47a3-aa20-1427b13323a1",
   "metadata": {},
   "outputs": [
    {
     "name": "stdout",
     "output_type": "stream",
     "text": [
      "[[16  1  0 13]\n",
      " [ 7  8  0  9]\n",
      " [ 2  0  0 17]\n",
      " [ 0  1  0 26]]\n",
      "Précision: 0.4600000000000001\n",
      "Rappel: 0.4574074074074074\n",
      "Score F1: 0.4044059521041618\n",
      "Accuracy: 0.5\n"
     ]
    },
    {
     "name": "stderr",
     "output_type": "stream",
     "text": [
      "C:\\Users\\HP\\anaconda3\\lib\\site-packages\\sklearn\\metrics\\_classification.py:1318: UndefinedMetricWarning: Precision is ill-defined and being set to 0.0 in labels with no predicted samples. Use `zero_division` parameter to control this behavior.\n",
      "  _warn_prf(average, modifier, msg_start, len(result))\n"
     ]
    }
   ],
   "source": [
    "cm = confusion_matrix(y_test_synergy, y_pred_synergy12, labels = [\"Minimaliste\", \"Intéressé\", \"Coopérant\",\"Engagé\"])\n",
    "print(cm)\n",
    "print(\"Précision:\", precision_score(y_test_synergy, y_pred_synergy12, average='macro'))\n",
    "print(\"Rappel:\", recall_score(y_test_synergy, y_pred_synergy12, average='macro'))\n",
    "print(\"Score F1:\", f1_score(y_test_synergy, y_pred_synergy12, average='macro'))\n",
    "print(\"Accuracy:\", accuracy_score(y_test_synergy, y_pred_synergy12))"
   ]
  },
  {
   "cell_type": "markdown",
   "id": "b6b2b3ca-2bee-4cd9-9dc4-137832c1f27e",
   "metadata": {},
   "source": [
    "### Tache 2 : classification selon son niveau d'antagonisme"
   ]
  },
  {
   "cell_type": "code",
   "execution_count": 44,
   "id": "ad07b91b-0572-4801-a067-bbb7602333fe",
   "metadata": {},
   "outputs": [],
   "source": [
    "y_pred_antagonism12 = []"
   ]
  },
  {
   "cell_type": "code",
   "execution_count": 45,
   "id": "d90eebc4-20f1-4533-bb05-8342f43b4a4f",
   "metadata": {},
   "outputs": [
    {
     "name": "stdout",
     "output_type": "stream",
     "text": [
      "Temps d'exécution : 9.67minutes\n"
     ]
    }
   ],
   "source": [
    "start = time.time()\n",
    "for text in avis[\"Sample_text\"]:\n",
    "    result = classifier2(text, text_antagonism_labels1, multi_label = False )\n",
    "    result = result['labels'][0].split()[0]\n",
    "    if result == \"1\":\n",
    "        y_pred_antagonism12.append(\"Conciliant\")\n",
    "    elif result == \"2\":\n",
    "        y_pred_antagonism12.append(\"Résistant\")\n",
    "    elif result == \"3\" :\n",
    "        y_pred_antagonism12.append(\"Opposant\")\n",
    "    else :\n",
    "        y_pred_antagonism12.append(\"Irréconciliant\")\n",
    "end = time.time()\n",
    "execution_time122 = end - start\n",
    "execution_time122 = execution_time122/60\n",
    "\n",
    "print(f'Temps d\\'exécution : {execution_time122:.2f}minutes')"
   ]
  },
  {
   "cell_type": "code",
   "execution_count": 46,
   "id": "549b7fd3-d459-4821-927d-f43aae74ccf9",
   "metadata": {},
   "outputs": [],
   "source": [
    "y_pred_antagonism12 = np.array(y_pred_antagonism12)"
   ]
  },
  {
   "cell_type": "code",
   "execution_count": 47,
   "id": "10c3b789-3ae1-4dc6-b4a6-43c8c5dda889",
   "metadata": {},
   "outputs": [
    {
     "name": "stdout",
     "output_type": "stream",
     "text": [
      "[[22  0  4  0]\n",
      " [13  2 17  1]\n",
      " [ 0  5 17  2]\n",
      " [ 1  4  9  3]]\n",
      "Précision: 0.41365785514721687\n",
      "Rappel: 0.44789095708213356\n",
      "Score F1: 0.38508232872948517\n",
      "Accuracy: 0.44\n"
     ]
    }
   ],
   "source": [
    "cm2 = confusion_matrix(y_test_antagonism, y_pred_antagonism12, labels = [\"Conciliant\", \"Résistant\", \"Opposant\",\"Irréconciliant\"])\n",
    "print(cm2)\n",
    "print(\"Précision:\", precision_score(y_test_antagonism, y_pred_antagonism12, average='macro'))\n",
    "print(\"Rappel:\", recall_score(y_test_antagonism, y_pred_antagonism12, average='macro'))\n",
    "print(\"Score F1:\", f1_score(y_test_antagonism, y_pred_antagonism12, average='macro'))\n",
    "print(\"Accuracy:\", accuracy_score(y_test_antagonism, y_pred_antagonism12))"
   ]
  },
  {
   "cell_type": "code",
   "execution_count": 48,
   "id": "839c928d-9579-47f9-99dc-4306249e844f",
   "metadata": {},
   "outputs": [],
   "source": [
    "predictions_deberta_v3_large_zeroshot_v2_0_1 = pd.DataFrame({\n",
    "    'synergy': y_pred_synergy12,\n",
    "    'antagonism': y_pred_antagonism12\n",
    "})"
   ]
  },
  {
   "cell_type": "markdown",
   "id": "a18279a1-f8aa-4ed6-a6a1-c153d43ceedc",
   "metadata": {},
   "source": [
    "### Tache 3 : classification finale"
   ]
  },
  {
   "cell_type": "code",
   "execution_count": 49,
   "id": "8ec0fff7-052c-40ec-a8ea-fbd9046018ab",
   "metadata": {},
   "outputs": [],
   "source": [
    "predictions_deberta_v3_large_zeroshot_v2_0_1['class'] =predictions_deberta_v3_large_zeroshot_v2_0_1.apply(assign_group, axis=1)"
   ]
  },
  {
   "cell_type": "code",
   "execution_count": 50,
   "id": "aaf9714c-5115-466d-882e-26b527bdd4fb",
   "metadata": {},
   "outputs": [],
   "source": [
    "y_pred12 = predictions_deberta_v3_large_zeroshot_v2_0_1[\"class\"]"
   ]
  },
  {
   "cell_type": "code",
   "execution_count": 51,
   "id": "1f664fa2-111f-405b-b1c6-4ac3812b41f5",
   "metadata": {},
   "outputs": [
    {
     "name": "stdout",
     "output_type": "stream",
     "text": [
      "[[ 4  0 12  3  0  9  0]\n",
      " [ 0  0  7  0  0  0  0]\n",
      " [ 0  0  5  0  0  0  0]\n",
      " [ 0  0  7 16  2  3  0]\n",
      " [ 0  0  1  4  1  0  0]\n",
      " [ 3  0  0  2  1  9  0]\n",
      " [ 2  0  0  3  1  4  1]]\n",
      "Précision: 0.39030328798185937\n",
      "Rappel: 0.367408781694496\n",
      "Score F1: 0.26519998662855804\n",
      "Accuracy: 0.36\n"
     ]
    },
    {
     "name": "stderr",
     "output_type": "stream",
     "text": [
      "C:\\Users\\HP\\anaconda3\\lib\\site-packages\\sklearn\\metrics\\_classification.py:1318: UndefinedMetricWarning: Precision is ill-defined and being set to 0.0 in labels with no predicted samples. Use `zero_division` parameter to control this behavior.\n",
      "  _warn_prf(average, modifier, msg_start, len(result))\n"
     ]
    }
   ],
   "source": [
    "cm3 = confusion_matrix(y_test, y_pred12, labels = [\"Passif\", \"Aligné\", \"Engagé\",\"Moteur\",\"Déchiré\", \"Opposant\", \"Irréductible\"])\n",
    "print(cm3)\n",
    "print(\"Précision:\", precision_score(y_test, y_pred12, average='macro'))\n",
    "print(\"Rappel:\", recall_score(y_test, y_pred12, average='macro'))\n",
    "print(\"Score F1:\", f1_score(y_test, y_pred12, average='macro'))\n",
    "print(\"Accuracy:\", accuracy_score(y_test, y_pred12))"
   ]
  },
  {
   "cell_type": "markdown",
   "id": "8b49a173-410d-46be-94b1-0c64b7424fae",
   "metadata": {},
   "source": [
    "## Modèle 3 : MoritzLaurer/deberta-v3-large-zeroshot-v2.0-c"
   ]
  },
  {
   "cell_type": "markdown",
   "id": "a6522375-73e6-40b3-a40b-9c2b6f5a25e1",
   "metadata": {},
   "source": [
    "## Tache 1 : classification selon son niveau de synergie"
   ]
  },
  {
   "cell_type": "code",
   "execution_count": 52,
   "id": "bc410b49-3fda-4379-bbd8-604071bfe34e",
   "metadata": {},
   "outputs": [],
   "source": [
    "y_pred_synergy13 = []"
   ]
  },
  {
   "cell_type": "code",
   "execution_count": 53,
   "id": "adbd8766-0831-4d25-8f7b-fdf724407e23",
   "metadata": {},
   "outputs": [
    {
     "name": "stdout",
     "output_type": "stream",
     "text": [
      "Temps d'exécution : 9.90minutes\n"
     ]
    }
   ],
   "source": [
    "start = time.time()\n",
    "for text in avis[\"Sample_text\"]:\n",
    "    result = classifier3(text, text_synergy_labels1, multi_label = False )\n",
    "    result = result['labels'][0].split()[0]\n",
    "    if result == \"1\":\n",
    "        y_pred_synergy13.append(\"Minimaliste\")\n",
    "    elif result == \"2\":\n",
    "        y_pred_synergy13.append(\"Intéressé\")\n",
    "    elif result == \"3\" :\n",
    "        y_pred_synergy13.append(\"Coopérant\")\n",
    "    else :\n",
    "        y_pred_synergy13.append(\"Engagé\")\n",
    "end = time.time()\n",
    "execution_time131 = end - start\n",
    "execution_time131 = execution_time131/60\n",
    "\n",
    "print(f'Temps d\\'exécution : {execution_time131:.2f}minutes')"
   ]
  },
  {
   "cell_type": "code",
   "execution_count": 54,
   "id": "fcbc80d8-11a7-4362-a30f-20524dffa27e",
   "metadata": {},
   "outputs": [],
   "source": [
    "y_pred_synergy13 = np.array(y_pred_synergy13)"
   ]
  },
  {
   "cell_type": "code",
   "execution_count": 55,
   "id": "bdd37081-8c4c-428f-af6e-aafe53075af9",
   "metadata": {},
   "outputs": [
    {
     "name": "stdout",
     "output_type": "stream",
     "text": [
      "[[12  1 10  7]\n",
      " [ 4 14  4  2]\n",
      " [ 2  8  1  8]\n",
      " [ 0  8  1 18]]\n",
      "Précision: 0.4237663210445468\n",
      "Rappel: 0.4256578947368421\n",
      "Score F1: 0.4117197318810222\n",
      "Accuracy: 0.45\n"
     ]
    }
   ],
   "source": [
    "cm = confusion_matrix(y_test_synergy, y_pred_synergy13, labels = [\"Minimaliste\", \"Intéressé\", \"Coopérant\",\"Engagé\"])\n",
    "print(cm)\n",
    "print(\"Précision:\", precision_score(y_test_synergy, y_pred_synergy13, average='macro'))\n",
    "print(\"Rappel:\", recall_score(y_test_synergy, y_pred_synergy13, average='macro'))\n",
    "print(\"Score F1:\", f1_score(y_test_synergy, y_pred_synergy13, average='macro'))\n",
    "print(\"Accuracy:\", accuracy_score(y_test_synergy, y_pred_synergy13))"
   ]
  },
  {
   "cell_type": "markdown",
   "id": "678ef369-c9fc-42a3-9180-9d8c3906e25b",
   "metadata": {},
   "source": [
    "### Tache 2 : classification selon son niveau d'antagonisme"
   ]
  },
  {
   "cell_type": "code",
   "execution_count": 56,
   "id": "d7c6d59b-75b8-40bc-8232-ae50c5f3eef9",
   "metadata": {},
   "outputs": [],
   "source": [
    "y_pred_antagonism13 = []"
   ]
  },
  {
   "cell_type": "code",
   "execution_count": 57,
   "id": "8a121589-2758-4104-b92d-2dc50c21d686",
   "metadata": {},
   "outputs": [
    {
     "name": "stdout",
     "output_type": "stream",
     "text": [
      "Temps d'exécution : 10.14minutes\n"
     ]
    }
   ],
   "source": [
    "start = time.time()\n",
    "for text in avis[\"Sample_text\"]:\n",
    "    result = classifier3(text, text_antagonism_labels1, multi_label = False )\n",
    "    result = result['labels'][0].split()[0]\n",
    "    if result == \"1\":\n",
    "        y_pred_antagonism13.append(\"Conciliant\")\n",
    "    elif result == \"2\":\n",
    "        y_pred_antagonism13.append(\"Résistant\")\n",
    "    elif result == \"3\" :\n",
    "        y_pred_antagonism13.append(\"Opposant\")\n",
    "    else :\n",
    "        y_pred_antagonism13.append(\"Irréconciliant\")\n",
    "end = time.time()\n",
    "execution_time132 = end - start\n",
    "execution_time132 = execution_time132/60\n",
    "\n",
    "print(f'Temps d\\'exécution : {execution_time132:.2f}minutes')"
   ]
  },
  {
   "cell_type": "code",
   "execution_count": 58,
   "id": "370cea91-effc-487c-a86b-f3b5cba4aee2",
   "metadata": {},
   "outputs": [],
   "source": [
    "y_pred_antagonism13 = np.array(y_pred_antagonism13)"
   ]
  },
  {
   "cell_type": "code",
   "execution_count": 59,
   "id": "1dfb9b99-814b-4c33-9b7c-ba82e4f94033",
   "metadata": {},
   "outputs": [
    {
     "name": "stdout",
     "output_type": "stream",
     "text": [
      "[[22  1  3  0]\n",
      " [ 6  4 20  3]\n",
      " [ 0  5 15  4]\n",
      " [ 0  3  8  6]]\n",
      "Précision: 0.47025800286669855\n",
      "Rappel: 0.4863267859591389\n",
      "Score F1: 0.4543248217161261\n",
      "Accuracy: 0.47\n"
     ]
    }
   ],
   "source": [
    "cm2 = confusion_matrix(y_test_antagonism, y_pred_antagonism13, labels = [\"Conciliant\", \"Résistant\", \"Opposant\",\"Irréconciliant\"])\n",
    "print(cm2)\n",
    "print(\"Précision:\", precision_score(y_test_antagonism, y_pred_antagonism13, average='macro'))\n",
    "print(\"Rappel:\", recall_score(y_test_antagonism, y_pred_antagonism13, average='macro'))\n",
    "print(\"Score F1:\", f1_score(y_test_antagonism, y_pred_antagonism13, average='macro'))\n",
    "print(\"Accuracy:\", accuracy_score(y_test_antagonism, y_pred_antagonism13))"
   ]
  },
  {
   "cell_type": "code",
   "execution_count": 60,
   "id": "c3334c23-2a86-4b01-915d-735de360d0f9",
   "metadata": {},
   "outputs": [],
   "source": [
    "predictions_deberta_v3_large_zeroshot_v2_0_c_1 = pd.DataFrame({\n",
    "    'synergy': y_pred_synergy13,\n",
    "    'antagonism': y_pred_antagonism13\n",
    "})"
   ]
  },
  {
   "cell_type": "markdown",
   "id": "b24e0358-a1da-428b-8f23-e350ff6c5c4e",
   "metadata": {},
   "source": [
    "### Tache 3 : classification finale "
   ]
  },
  {
   "cell_type": "code",
   "execution_count": 61,
   "id": "cf846f3e-375f-4c9a-9c56-99cb6c4d99b7",
   "metadata": {},
   "outputs": [],
   "source": [
    "predictions_deberta_v3_large_zeroshot_v2_0_c_1['class'] =predictions_deberta_v3_large_zeroshot_v2_0_c_1.apply(assign_group, axis=1)"
   ]
  },
  {
   "cell_type": "code",
   "execution_count": 62,
   "id": "ec37f5d4-88f8-44b4-b1d9-4ba1dd9b6d0c",
   "metadata": {},
   "outputs": [],
   "source": [
    "y_pred13 = predictions_deberta_v3_large_zeroshot_v2_0_c_1[\"class\"]"
   ]
  },
  {
   "cell_type": "code",
   "execution_count": 63,
   "id": "cbd2efa2-3295-4f91-b597-d9bf0e47d354",
   "metadata": {},
   "outputs": [
    {
     "name": "stdout",
     "output_type": "stream",
     "text": [
      "[[ 8  5  1  7  0  7  0]\n",
      " [ 5  0  2  0  0  0  0]\n",
      " [ 4  0  1  0  0  0  0]\n",
      " [ 3  0  1 13  6  5  0]\n",
      " [ 0  0  0  3  2  1  0]\n",
      " [ 2  0  0  4  1  8  0]\n",
      " [ 2  0  0  1  4  4  0]]\n",
      "Précision: 0.21020931449502878\n",
      "Rappel: 0.2595238095238095\n",
      "Score F1: 0.22607204825249938\n",
      "Accuracy: 0.32\n"
     ]
    },
    {
     "name": "stderr",
     "output_type": "stream",
     "text": [
      "C:\\Users\\HP\\anaconda3\\lib\\site-packages\\sklearn\\metrics\\_classification.py:1318: UndefinedMetricWarning: Precision is ill-defined and being set to 0.0 in labels with no predicted samples. Use `zero_division` parameter to control this behavior.\n",
      "  _warn_prf(average, modifier, msg_start, len(result))\n"
     ]
    }
   ],
   "source": [
    "cm3 = confusion_matrix(y_test, y_pred13, labels = [\"Passif\", \"Aligné\", \"Engagé\",\"Moteur\",\"Déchiré\", \"Opposant\", \"Irréductible\"])\n",
    "print(cm3)\n",
    "print(\"Précision:\", precision_score(y_test, y_pred13, average='macro'))\n",
    "print(\"Rappel:\", recall_score(y_test, y_pred13, average='macro'))\n",
    "print(\"Score F1:\", f1_score(y_test, y_pred13, average='macro'))\n",
    "print(\"Accuracy:\", accuracy_score(y_test, y_pred13))"
   ]
  },
  {
   "cell_type": "markdown",
   "id": "8e485494-e756-432f-9fb7-6269ae073d35",
   "metadata": {},
   "source": [
    "## Modèle 4 : MoritzLaurer/deberta-v3-base-zeroshot-v2.0"
   ]
  },
  {
   "cell_type": "markdown",
   "id": "28f04c85-4b16-4ca4-9f38-58f3f2cb951c",
   "metadata": {},
   "source": [
    "### Tache 1 : classification selon son niveau de synergie"
   ]
  },
  {
   "cell_type": "code",
   "execution_count": 64,
   "id": "751c7b8c-9e2d-4795-b833-dc7ed19c6cb3",
   "metadata": {},
   "outputs": [],
   "source": [
    "y_pred_synergy14 = []"
   ]
  },
  {
   "cell_type": "code",
   "execution_count": 65,
   "id": "226a23b7-bfef-4ac7-9aa4-47623d32930e",
   "metadata": {},
   "outputs": [
    {
     "name": "stdout",
     "output_type": "stream",
     "text": [
      "Temps d'exécution : 2.85minutes\n"
     ]
    }
   ],
   "source": [
    "start = time.time()\n",
    "for text in avis[\"Sample_text\"]:\n",
    "    result = classifier4(text, text_synergy_labels1, multi_label = False )\n",
    "    result = result['labels'][0].split()[0]\n",
    "    if result == \"1\":\n",
    "        y_pred_synergy14.append(\"Minimaliste\")\n",
    "    elif result == \"2\":\n",
    "        y_pred_synergy14.append(\"Intéressé\")\n",
    "    elif result == \"3\" :\n",
    "        y_pred_synergy14.append(\"Coopérant\")\n",
    "    else :\n",
    "        y_pred_synergy14.append(\"Engagé\")\n",
    "end = time.time()\n",
    "execution_time141 = end - start\n",
    "execution_time141 = execution_time141/60\n",
    "\n",
    "print(f'Temps d\\'exécution : {execution_time141:.2f}minutes')"
   ]
  },
  {
   "cell_type": "code",
   "execution_count": 66,
   "id": "ad9ea41d-48bb-45b2-b78e-425cbcaa74cd",
   "metadata": {},
   "outputs": [],
   "source": [
    "y_pred_synergy14 = np.array(y_pred_synergy14 )"
   ]
  },
  {
   "cell_type": "code",
   "execution_count": 67,
   "id": "7e4e19ac-8553-477a-9119-21e50cb43e52",
   "metadata": {},
   "outputs": [
    {
     "name": "stdout",
     "output_type": "stream",
     "text": [
      "[[ 4 20  5  1]\n",
      " [ 3 17  3  1]\n",
      " [ 0 11  6  2]\n",
      " [ 0 16  8  3]]\n",
      "Précision: 0.3845880681818182\n",
      "Rappel: 0.3171418128654971\n",
      "Score F1: 0.26793334191110374\n",
      "Accuracy: 0.3\n"
     ]
    }
   ],
   "source": [
    "cm = confusion_matrix(y_test_synergy, y_pred_synergy14, labels = [\"Minimaliste\", \"Intéressé\", \"Coopérant\",\"Engagé\"])\n",
    "print(cm)\n",
    "print(\"Précision:\", precision_score(y_test_synergy, y_pred_synergy14, average='macro'))\n",
    "print(\"Rappel:\", recall_score(y_test_synergy, y_pred_synergy14, average='macro'))\n",
    "print(\"Score F1:\", f1_score(y_test_synergy, y_pred_synergy14, average='macro'))\n",
    "print(\"Accuracy:\", accuracy_score(y_test_synergy, y_pred_synergy14))"
   ]
  },
  {
   "cell_type": "markdown",
   "id": "7d1fee07-3d8c-449b-9838-5e828761f054",
   "metadata": {},
   "source": [
    "### Tache 2 : classification selon son niveau d'antagonisme"
   ]
  },
  {
   "cell_type": "code",
   "execution_count": 68,
   "id": "45b22005-6350-4180-a4e3-4b4d9ef1d78c",
   "metadata": {},
   "outputs": [],
   "source": [
    "y_pred_antagonism14 = []"
   ]
  },
  {
   "cell_type": "code",
   "execution_count": 69,
   "id": "34a663d8-0c2c-4ad3-95d8-2a08259805d4",
   "metadata": {},
   "outputs": [
    {
     "name": "stdout",
     "output_type": "stream",
     "text": [
      "Temps d'exécution : 3.04minutes\n"
     ]
    }
   ],
   "source": [
    "start = time.time()\n",
    "for text in avis[\"Sample_text\"]:\n",
    "    result = classifier4(text, text_antagonism_labels1, multi_label = False )\n",
    "    result = result['labels'][0].split()[0]\n",
    "    if result == \"1\":\n",
    "        y_pred_antagonism14.append(\"Conciliant\")\n",
    "    elif result == \"2\":\n",
    "        y_pred_antagonism14.append(\"Résistant\")\n",
    "    elif result == \"3\" :\n",
    "        y_pred_antagonism14.append(\"Opposant\")\n",
    "    else :\n",
    "        y_pred_antagonism14.append(\"Irréconciliant\")\n",
    "end = time.time()\n",
    "execution_time142 = end - start\n",
    "execution_time142 = execution_time142/60\n",
    "\n",
    "print(f'Temps d\\'exécution : {execution_time142:.2f}minutes')"
   ]
  },
  {
   "cell_type": "code",
   "execution_count": 70,
   "id": "76ceec73-4c01-4481-83a1-f6d147bfc13d",
   "metadata": {},
   "outputs": [],
   "source": [
    "y_pred_antagonism14 = np.array(y_pred_antagonism14)"
   ]
  },
  {
   "cell_type": "code",
   "execution_count": 71,
   "id": "10eb45c6-ea65-4ced-a5b8-a58e4c1a6a59",
   "metadata": {},
   "outputs": [
    {
     "name": "stdout",
     "output_type": "stream",
     "text": [
      "[[26  0  0  0]\n",
      " [22  3  8  0]\n",
      " [11  0  9  4]\n",
      " [ 2  1  7  7]]\n",
      "Précision: 0.5468982861400894\n",
      "Rappel: 0.4694184491978609\n",
      "Score F1: 0.40871582789686234\n",
      "Accuracy: 0.45\n"
     ]
    }
   ],
   "source": [
    "cm2 = confusion_matrix(y_test_antagonism, y_pred_antagonism14, labels = [\"Conciliant\", \"Résistant\", \"Opposant\",\"Irréconciliant\"])\n",
    "print(cm2)\n",
    "print(\"Précision:\", precision_score(y_test_antagonism, y_pred_antagonism14, average='macro'))\n",
    "print(\"Rappel:\", recall_score(y_test_antagonism, y_pred_antagonism14, average='macro'))\n",
    "print(\"Score F1:\", f1_score(y_test_antagonism, y_pred_antagonism14, average='macro'))\n",
    "print(\"Accuracy:\", accuracy_score(y_test_antagonism, y_pred_antagonism14))"
   ]
  },
  {
   "cell_type": "code",
   "execution_count": 72,
   "id": "60bbc42b-0a96-484a-a2cc-4040d1e8add5",
   "metadata": {},
   "outputs": [],
   "source": [
    "predictions_deberta_v3_base_zeroshot_v2_0_1 = pd.DataFrame({\n",
    "    'synergy': y_pred_synergy14,\n",
    "    'antagonism': y_pred_antagonism14\n",
    "})"
   ]
  },
  {
   "cell_type": "markdown",
   "id": "786cca7d-cd28-4544-9f2b-9843ca468287",
   "metadata": {},
   "source": [
    "### Tache 3 : classification finale"
   ]
  },
  {
   "cell_type": "code",
   "execution_count": 73,
   "id": "f35a7dd1-544c-4477-8b1e-d9fd0b85d80d",
   "metadata": {},
   "outputs": [],
   "source": [
    "predictions_deberta_v3_base_zeroshot_v2_0_1['class'] =predictions_deberta_v3_base_zeroshot_v2_0_1.apply(assign_group, axis=1)"
   ]
  },
  {
   "cell_type": "code",
   "execution_count": 74,
   "id": "117e5e6f-a351-4525-a269-8006a610ce22",
   "metadata": {},
   "outputs": [],
   "source": [
    "y_pred14 = predictions_deberta_v3_base_zeroshot_v2_0_1[\"class\"]"
   ]
  },
  {
   "cell_type": "code",
   "execution_count": 75,
   "id": "cb4555a9-32f0-4dee-9d1b-fe2b2ee42d17",
   "metadata": {},
   "outputs": [
    {
     "name": "stdout",
     "output_type": "stream",
     "text": [
      "[[20  5  1  0  0  2  0]\n",
      " [ 2  4  1  0  0  0  0]\n",
      " [ 2  2  1  0  0  0  0]\n",
      " [ 9  6  2  0  2  8  1]\n",
      " [ 2  0  0  1  0  1  2]\n",
      " [ 6  1  0  1  1  6  0]\n",
      " [ 1  0  0  0  1  5  4]]\n",
      "Précision: 0.2489383632240775\n",
      "Rappel: 0.3213358070500928\n",
      "Score F1: 0.2657424771710486\n",
      "Accuracy: 0.35\n"
     ]
    }
   ],
   "source": [
    "cm3 = confusion_matrix(y_test, y_pred14, labels = [\"Passif\", \"Aligné\", \"Engagé\",\"Moteur\",\"Déchiré\", \"Opposant\", \"Irréductible\"])\n",
    "print(cm3)\n",
    "print(\"Précision:\", precision_score(y_test, y_pred14, average='macro'))\n",
    "print(\"Rappel:\", recall_score(y_test, y_pred14, average='macro'))\n",
    "print(\"Score F1:\", f1_score(y_test, y_pred14, average='macro'))\n",
    "print(\"Accuracy:\", accuracy_score(y_test, y_pred14))"
   ]
  },
  {
   "cell_type": "markdown",
   "id": "bd98cba0-e6fd-4a35-b757-c2c3f8de038e",
   "metadata": {},
   "source": [
    "## Modèle 5 : MoritzLaurer/roberta-large-zeroshot-v2.0"
   ]
  },
  {
   "cell_type": "markdown",
   "id": "ef249808-ae7f-4bad-9868-db1b2eceb0d1",
   "metadata": {},
   "source": [
    "### Tache 1 : classification selon son niveau de synergie"
   ]
  },
  {
   "cell_type": "code",
   "execution_count": 76,
   "id": "1fba3e6f-cf56-463f-867e-d9abf379760f",
   "metadata": {},
   "outputs": [],
   "source": [
    "y_pred_synergy15 = []"
   ]
  },
  {
   "cell_type": "code",
   "execution_count": 77,
   "id": "6ed1bf38-d886-440e-96e2-c707ff54b1ec",
   "metadata": {},
   "outputs": [
    {
     "name": "stdout",
     "output_type": "stream",
     "text": [
      "Temps d'exécution : 10.79minutes\n"
     ]
    }
   ],
   "source": [
    "start = time.time()\n",
    "for text in avis[\"Sample_text\"]:\n",
    "    text = translator.translate(text, target_lang='en')\n",
    "    result = classifier5(text, text_synergy_labels1e, multi_label = False )\n",
    "    result = result['labels'][0].split()[0]\n",
    "    if result == \"1\":\n",
    "        y_pred_synergy15.append(\"Minimaliste\")\n",
    "    elif result == \"2\":\n",
    "        y_pred_synergy15.append(\"Intéressé\")\n",
    "    elif result == \"3\" :\n",
    "        y_pred_synergy15.append(\"Coopérant\")\n",
    "    else :\n",
    "        y_pred_synergy15.append(\"Engagé\")\n",
    "end = time.time()\n",
    "execution_time151 = end - start\n",
    "execution_time151 = execution_time151/60\n",
    "\n",
    "print(f'Temps d\\'exécution : {execution_time151:.2f}minutes')\n"
   ]
  },
  {
   "cell_type": "code",
   "execution_count": 78,
   "id": "07dc821e-b908-46bd-af63-2c05c70b3f85",
   "metadata": {},
   "outputs": [],
   "source": [
    "y_pred_synergy15 = np.array(y_pred_synergy15 )"
   ]
  },
  {
   "cell_type": "code",
   "execution_count": 79,
   "id": "1643b67e-a35b-4f43-9bc0-51770bcac2a5",
   "metadata": {},
   "outputs": [
    {
     "name": "stdout",
     "output_type": "stream",
     "text": [
      "[[14  2  4 10]\n",
      " [ 4 14  0  6]\n",
      " [ 3  4  1 11]\n",
      " [ 6  2  0 19]]\n",
      "Précision: 0.44198140828575616\n",
      "Rappel: 0.45158382066276803\n",
      "Score F1: 0.4259512502220411\n",
      "Accuracy: 0.48\n"
     ]
    }
   ],
   "source": [
    "cm = confusion_matrix(y_test_synergy, y_pred_synergy15, labels = [\"Minimaliste\", \"Intéressé\", \"Coopérant\",\"Engagé\"])\n",
    "print(cm)\n",
    "print(\"Précision:\", precision_score(y_test_synergy, y_pred_synergy15, average='macro'))\n",
    "print(\"Rappel:\", recall_score(y_test_synergy, y_pred_synergy15, average='macro'))\n",
    "print(\"Score F1:\", f1_score(y_test_synergy, y_pred_synergy15, average='macro'))\n",
    "print(\"Accuracy:\", accuracy_score(y_test_synergy, y_pred_synergy15))"
   ]
  },
  {
   "cell_type": "markdown",
   "id": "02eb4fde-1122-4661-8af1-17fc0aa4b24b",
   "metadata": {},
   "source": [
    "### Tache 2 : classification selon son niveau d'antagonisme"
   ]
  },
  {
   "cell_type": "code",
   "execution_count": 80,
   "id": "f2cd3738-986f-4a7f-b91d-c4d9475d025b",
   "metadata": {},
   "outputs": [],
   "source": [
    "y_pred_antagonism15 = []"
   ]
  },
  {
   "cell_type": "code",
   "execution_count": 81,
   "id": "02590e05-86f8-4b0e-ae1e-8bc84b991d07",
   "metadata": {},
   "outputs": [
    {
     "name": "stdout",
     "output_type": "stream",
     "text": [
      "Temps d'exécution : 10.06minutes\n"
     ]
    }
   ],
   "source": [
    "start = time.time()\n",
    "for text in avis[\"Sample_text\"]:\n",
    "    text = translator.translate(text, target_lang='en')\n",
    "    result = classifier5(text, text_antagonism_labels1e, multi_label = False )\n",
    "    result = result['labels'][0].split()[0]\n",
    "    if result == \"1\":\n",
    "        y_pred_antagonism15.append(\"Conciliant\")\n",
    "    elif result == \"2\":\n",
    "        y_pred_antagonism15.append(\"Résistant\")\n",
    "    elif result == \"3\" :\n",
    "        y_pred_antagonism15.append(\"Opposant\")\n",
    "    else :\n",
    "        y_pred_antagonism15.append(\"Irréconciliant\")\n",
    "end = time.time()\n",
    "execution_time152 = end - start\n",
    "execution_time152 = execution_time152/60\n",
    "\n",
    "print(f'Temps d\\'exécution : {execution_time152:.2f}minutes')"
   ]
  },
  {
   "cell_type": "code",
   "execution_count": 82,
   "id": "35aedf00-6d24-4779-a6b1-297804489b6c",
   "metadata": {},
   "outputs": [],
   "source": [
    "y_pred_antagonism15 = np.array(y_pred_antagonism15)"
   ]
  },
  {
   "cell_type": "code",
   "execution_count": 83,
   "id": "cc2a5898-75db-4c1a-b1b5-28711ac5ed5a",
   "metadata": {},
   "outputs": [
    {
     "name": "stdout",
     "output_type": "stream",
     "text": [
      "[[21  5  0  0]\n",
      " [ 4 14 15  0]\n",
      " [ 0  9 14  1]\n",
      " [ 1  7  7  2]]\n",
      "Précision: 0.5658119658119658\n",
      "Rappel: 0.4832287810228987\n",
      "Score F1: 0.4715309200603318\n",
      "Accuracy: 0.51\n"
     ]
    }
   ],
   "source": [
    "cm2 = confusion_matrix(y_test_antagonism, y_pred_antagonism15, labels = [\"Conciliant\", \"Résistant\", \"Opposant\",\"Irréconciliant\"])\n",
    "print(cm2)\n",
    "print(\"Précision:\", precision_score(y_test_antagonism, y_pred_antagonism15, average='macro'))\n",
    "print(\"Rappel:\", recall_score(y_test_antagonism, y_pred_antagonism15, average='macro'))\n",
    "print(\"Score F1:\", f1_score(y_test_antagonism, y_pred_antagonism15, average='macro'))\n",
    "print(\"Accuracy:\", accuracy_score(y_test_antagonism, y_pred_antagonism15))"
   ]
  },
  {
   "cell_type": "code",
   "execution_count": 84,
   "id": "a3b27cb3-d78a-47e0-b087-3f7969685893",
   "metadata": {},
   "outputs": [],
   "source": [
    "predictions_roberta_large_zeroshot_v2_0_1 = pd.DataFrame({\n",
    "    'synergy': y_pred_synergy15,\n",
    "    'antagonism': y_pred_antagonism15\n",
    "})"
   ]
  },
  {
   "cell_type": "markdown",
   "id": "3a51b341-4f6c-493d-be4a-0a9fb096de6e",
   "metadata": {},
   "source": [
    "### Tache 3 : classification finale"
   ]
  },
  {
   "cell_type": "code",
   "execution_count": 85,
   "id": "bc3046b4-7af0-4f4b-b09b-a70331cb43cf",
   "metadata": {},
   "outputs": [],
   "source": [
    "predictions_roberta_large_zeroshot_v2_0_1['class'] =predictions_roberta_large_zeroshot_v2_0_1.apply(assign_group, axis=1)"
   ]
  },
  {
   "cell_type": "code",
   "execution_count": 86,
   "id": "3ac42327-1519-4ee6-a088-72c4f62264bb",
   "metadata": {},
   "outputs": [],
   "source": [
    "y_pred15 = predictions_roberta_large_zeroshot_v2_0_1[\"class\"]"
   ]
  },
  {
   "cell_type": "code",
   "execution_count": 87,
   "id": "66f89126-85fc-4f9d-b80e-a0b5a7859b8f",
   "metadata": {},
   "outputs": [
    {
     "name": "stdout",
     "output_type": "stream",
     "text": [
      "[[11  1  7  5  0  4  0]\n",
      " [ 2  1  4  0  0  0  0]\n",
      " [ 1  0  4  0  0  0  0]\n",
      " [ 1  0  2 16  1  8  0]\n",
      " [ 0  0  1  1  1  3  0]\n",
      " [ 6  0  0  5  0  4  0]\n",
      " [ 4  0  0  2  0  4  1]]\n",
      "Précision: 0.48397991480450253\n",
      "Rappel: 0.3473407544836116\n",
      "Score F1: 0.3105341628613508\n",
      "Accuracy: 0.38\n"
     ]
    }
   ],
   "source": [
    "cm3 = confusion_matrix(y_test, y_pred15, labels = [\"Passif\", \"Aligné\", \"Engagé\",\"Moteur\",\"Déchiré\", \"Opposant\", \"Irréductible\"])\n",
    "print(cm3)\n",
    "print(\"Précision:\", precision_score(y_test, y_pred15, average='macro'))\n",
    "print(\"Rappel:\", recall_score(y_test, y_pred15, average='macro'))\n",
    "print(\"Score F1:\", f1_score(y_test, y_pred15, average='macro'))\n",
    "print(\"Accuracy:\", accuracy_score(y_test, y_pred15))"
   ]
  },
  {
   "cell_type": "markdown",
   "id": "df178140-7a8e-42b7-94fd-a4db5f192e71",
   "metadata": {},
   "source": [
    "## Modèle 6 : MoritzLaurer/bge-m3-zeroshot-v2.0"
   ]
  },
  {
   "cell_type": "markdown",
   "id": "2c3d1463-6366-428e-8cf3-808c5cf9ecfb",
   "metadata": {},
   "source": [
    "### Tache 1 : classification selon son niveau de synergie"
   ]
  },
  {
   "cell_type": "code",
   "execution_count": 88,
   "id": "f258fdef-3dcc-4ccf-b235-04b6909e151b",
   "metadata": {},
   "outputs": [],
   "source": [
    "y_pred_synergy16 = []"
   ]
  },
  {
   "cell_type": "code",
   "execution_count": 89,
   "id": "2b5ed108-336f-41cc-895f-32affe7247e0",
   "metadata": {},
   "outputs": [
    {
     "name": "stdout",
     "output_type": "stream",
     "text": [
      "Temps d'exécution : 4.83minutes\n"
     ]
    }
   ],
   "source": [
    "start = time.time()\n",
    "for text in avis[\"Sample_text\"]:\n",
    "    result = classifier6(text, text_synergy_labels1, multi_label = False )\n",
    "    result = result['labels'][0].split()[0]\n",
    "    if result == \"1\":\n",
    "        y_pred_synergy16.append(\"Minimaliste\")\n",
    "    elif result == \"2\":\n",
    "        y_pred_synergy16.append(\"Intéressé\")\n",
    "    elif result == \"3\" :\n",
    "        y_pred_synergy16.append(\"Coopérant\")\n",
    "    else :\n",
    "        y_pred_synergy16.append(\"Engagé\")\n",
    "end = time.time()\n",
    "execution_time161 = end - start\n",
    "execution_time161 = execution_time161/60\n",
    "\n",
    "print(f'Temps d\\'exécution : {execution_time161:.2f}minutes')"
   ]
  },
  {
   "cell_type": "code",
   "execution_count": 90,
   "id": "b3d867ec-cb07-4b89-85bc-1e39bf43b836",
   "metadata": {},
   "outputs": [],
   "source": [
    "y_pred_synergy16 = np.array(y_pred_synergy16 )"
   ]
  },
  {
   "cell_type": "code",
   "execution_count": 91,
   "id": "bb1f3fa0-f75a-47e0-a8fd-348aac2ca6b4",
   "metadata": {},
   "outputs": [
    {
     "name": "stdout",
     "output_type": "stream",
     "text": [
      "[[ 2 11  1 16]\n",
      " [ 1 21  1  1]\n",
      " [ 0  7  0 12]\n",
      " [ 0  9  3 15]]\n",
      "Précision: 0.36126893939393934\n",
      "Rappel: 0.37430555555555556\n",
      "Score F1: 0.281770166453265\n",
      "Accuracy: 0.38\n"
     ]
    }
   ],
   "source": [
    "cm = confusion_matrix(y_test_synergy, y_pred_synergy16, labels = [\"Minimaliste\", \"Intéressé\", \"Coopérant\",\"Engagé\"])\n",
    "print(cm)\n",
    "print(\"Précision:\", precision_score(y_test_synergy, y_pred_synergy16, average='macro'))\n",
    "print(\"Rappel:\", recall_score(y_test_synergy, y_pred_synergy16, average='macro'))\n",
    "print(\"Score F1:\", f1_score(y_test_synergy, y_pred_synergy16, average='macro'))\n",
    "print(\"Accuracy:\", accuracy_score(y_test_synergy, y_pred_synergy16))"
   ]
  },
  {
   "cell_type": "markdown",
   "id": "ff5e23d0-d89b-41f4-bf7e-2c2742f5c906",
   "metadata": {},
   "source": [
    "### Tache 2 : classification selon son niveau d'antagonisme"
   ]
  },
  {
   "cell_type": "code",
   "execution_count": 92,
   "id": "0169a692-7907-4370-9f43-f0f14fe9ead8",
   "metadata": {},
   "outputs": [],
   "source": [
    "y_pred_antagonism16 = []"
   ]
  },
  {
   "cell_type": "code",
   "execution_count": 93,
   "id": "c9204a83-32de-4285-a9bf-3ee55da8fe7d",
   "metadata": {},
   "outputs": [
    {
     "name": "stdout",
     "output_type": "stream",
     "text": [
      "Temps d'exécution : 4.51minutes\n"
     ]
    }
   ],
   "source": [
    "start = time.time()\n",
    "for text in avis[\"Sample_text\"]:\n",
    "    result = classifier6(text, text_antagonism_labels1, multi_label = False )\n",
    "    result = result['labels'][0].split()[0]\n",
    "    if result == \"1\":\n",
    "        y_pred_antagonism16.append(\"Conciliant\")\n",
    "    elif result == \"2\":\n",
    "        y_pred_antagonism16.append(\"Résistant\")\n",
    "    elif result == \"3\" :\n",
    "        y_pred_antagonism16.append(\"Opposant\")\n",
    "    else :\n",
    "        y_pred_antagonism16.append(\"Irréconciliant\")\n",
    "end = time.time()\n",
    "execution_time162 = end - start\n",
    "execution_time162 = execution_time162/60\n",
    "\n",
    "print(f'Temps d\\'exécution : {execution_time162:.2f}minutes')"
   ]
  },
  {
   "cell_type": "code",
   "execution_count": 94,
   "id": "434a85bf-dbba-4125-a1c5-b7f65e116346",
   "metadata": {},
   "outputs": [],
   "source": [
    "y_pred_antagonism16 = np.array(y_pred_antagonism16)"
   ]
  },
  {
   "cell_type": "code",
   "execution_count": 95,
   "id": "299c0cdd-b4b8-4dff-a86b-0fe1a77a64ad",
   "metadata": {},
   "outputs": [
    {
     "name": "stdout",
     "output_type": "stream",
     "text": [
      "[[12  4 10  0]\n",
      " [ 2  6 14 11]\n",
      " [ 1  8  7  8]\n",
      " [ 0  5  4  8]]\n",
      "Précision: 0.3892914653784219\n",
      "Rappel: 0.35140288632935696\n",
      "Score F1: 0.3501440167934587\n",
      "Accuracy: 0.33\n"
     ]
    }
   ],
   "source": [
    "cm2 = confusion_matrix(y_test_antagonism, y_pred_antagonism16, labels = [\"Conciliant\", \"Résistant\", \"Opposant\",\"Irréconciliant\"])\n",
    "print(cm2)\n",
    "print(\"Précision:\", precision_score(y_test_antagonism, y_pred_antagonism16, average='macro'))\n",
    "print(\"Rappel:\", recall_score(y_test_antagonism, y_pred_antagonism16, average='macro'))\n",
    "print(\"Score F1:\", f1_score(y_test_antagonism, y_pred_antagonism16, average='macro'))\n",
    "print(\"Accuracy:\", accuracy_score(y_test_antagonism, y_pred_antagonism16))"
   ]
  },
  {
   "cell_type": "code",
   "execution_count": 96,
   "id": "1ae5016a-6d5c-4b43-96a5-dd2b8c35936e",
   "metadata": {},
   "outputs": [],
   "source": [
    "predictions_bge_m3_zeroshot_v2_0_1 = pd.DataFrame({\n",
    "    'synergy': y_pred_synergy16,\n",
    "    'antagonism': y_pred_antagonism16\n",
    "})"
   ]
  },
  {
   "cell_type": "markdown",
   "id": "00a1320f-f5e7-4580-9624-5d7c90e856bb",
   "metadata": {},
   "source": [
    "### Tache 3 : classification finale"
   ]
  },
  {
   "cell_type": "code",
   "execution_count": 97,
   "id": "8b0ccad4-d272-46ec-8f2f-94dfec7467ec",
   "metadata": {},
   "outputs": [],
   "source": [
    "predictions_bge_m3_zeroshot_v2_0_1['class'] =predictions_bge_m3_zeroshot_v2_0_1.apply(assign_group, axis=1)"
   ]
  },
  {
   "cell_type": "code",
   "execution_count": 98,
   "id": "970dcc0c-c232-4b46-825b-282f98829ae9",
   "metadata": {},
   "outputs": [],
   "source": [
    "y_pred16 = predictions_bge_m3_zeroshot_v2_0_1[\"class\"]"
   ]
  },
  {
   "cell_type": "code",
   "execution_count": 99,
   "id": "e45015bf-0c62-4859-9994-acfd08947a15",
   "metadata": {},
   "outputs": [
    {
     "name": "stdout",
     "output_type": "stream",
     "text": [
      "[[ 9  0  5  5  0  8  1]\n",
      " [ 0  0  2  3  0  2  0]\n",
      " [ 2  0  0  2  0  1  0]\n",
      " [ 1  0  1 10  8  2  6]\n",
      " [ 1  0  0  2  2  1  0]\n",
      " [ 4  0  1  3  1  3  3]\n",
      " [ 2  0  0  1  3  2  3]]\n",
      "Précision: 0.19854581508716845\n",
      "Rappel: 0.21209029066171922\n",
      "Score F1: 0.19711709742998856\n",
      "Accuracy: 0.27\n"
     ]
    },
    {
     "name": "stderr",
     "output_type": "stream",
     "text": [
      "C:\\Users\\HP\\anaconda3\\lib\\site-packages\\sklearn\\metrics\\_classification.py:1318: UndefinedMetricWarning: Precision is ill-defined and being set to 0.0 in labels with no predicted samples. Use `zero_division` parameter to control this behavior.\n",
      "  _warn_prf(average, modifier, msg_start, len(result))\n"
     ]
    }
   ],
   "source": [
    "cm3 = confusion_matrix(y_test, y_pred16, labels = [\"Passif\", \"Aligné\", \"Engagé\",\"Moteur\",\"Déchiré\", \"Opposant\", \"Irréductible\"])\n",
    "print(cm3)\n",
    "print(\"Précision:\", precision_score(y_test, y_pred16, average='macro'))\n",
    "print(\"Rappel:\", recall_score(y_test, y_pred16, average='macro'))\n",
    "print(\"Score F1:\", f1_score(y_test, y_pred16, average='macro'))\n",
    "print(\"Accuracy:\", accuracy_score(y_test, y_pred16))"
   ]
  },
  {
   "cell_type": "markdown",
   "id": "2a08b1cf-c820-4b4e-babf-2a22b974512d",
   "metadata": {},
   "source": [
    "# Formulation explicite"
   ]
  },
  {
   "cell_type": "markdown",
   "id": "4e14bdc0-3c58-437e-8902-18e4ac4eb32b",
   "metadata": {},
   "source": [
    "## Modèle 1 : facebook/bart-large-mnli\""
   ]
  },
  {
   "cell_type": "markdown",
   "id": "380f850a-676b-4b02-b0d4-16240f50a52d",
   "metadata": {},
   "source": [
    "### Tache 1 : classification selon son niveau de synergie"
   ]
  },
  {
   "cell_type": "code",
   "execution_count": 100,
   "id": "fb49fcc0",
   "metadata": {},
   "outputs": [],
   "source": [
    "y_pred_synergy21 = []"
   ]
  },
  {
   "cell_type": "code",
   "execution_count": 101,
   "id": "6a5389fe",
   "metadata": {},
   "outputs": [
    {
     "name": "stdout",
     "output_type": "stream",
     "text": [
      "Temps d'exécution : 12.30minutes\n"
     ]
    }
   ],
   "source": [
    "start = time.time()\n",
    "for text in avis[\"Sample_text\"]:\n",
    "    text = translator.translate(text, target_lang='en')\n",
    "    result = classifier1(text, text_synergy_labels2e, multi_label = False )\n",
    "    result = result['labels'][0].split()[0]\n",
    "    if result == \"1\":\n",
    "        y_pred_synergy21.append(\"Minimaliste\")\n",
    "    elif result == \"2\":\n",
    "        y_pred_synergy21.append(\"Intéressé\")\n",
    "    elif result == \"3\" :\n",
    "        y_pred_synergy21.append(\"Coopérant\")\n",
    "    else :\n",
    "        y_pred_synergy21.append(\"Engagé\")\n",
    "end = time.time()\n",
    "execution_time211 = end - start\n",
    "execution_time211 = execution_time211/60\n",
    "\n",
    "print(f'Temps d\\'exécution : {execution_time211:.2f}minutes')\n"
   ]
  },
  {
   "cell_type": "code",
   "execution_count": 102,
   "id": "47a12588",
   "metadata": {},
   "outputs": [],
   "source": [
    "y_pred_synergy21 = np.array(y_pred_synergy21)"
   ]
  },
  {
   "cell_type": "code",
   "execution_count": 103,
   "id": "bfdc1191",
   "metadata": {},
   "outputs": [
    {
     "data": {
      "text/plain": [
       "array(['Engagé', 'Intéressé', 'Engagé', 'Engagé', 'Engagé', 'Intéressé',\n",
       "       'Intéressé', 'Engagé', 'Intéressé', 'Intéressé', 'Minimaliste',\n",
       "       'Intéressé', 'Engagé', 'Engagé', 'Engagé', 'Engagé', 'Engagé',\n",
       "       'Intéressé', 'Minimaliste', 'Engagé', 'Minimaliste', 'Engagé',\n",
       "       'Minimaliste', 'Minimaliste', 'Coopérant', 'Engagé', 'Engagé',\n",
       "       'Engagé', 'Engagé', 'Engagé', 'Engagé', 'Engagé', 'Engagé',\n",
       "       'Intéressé', 'Coopérant', 'Engagé', 'Engagé', 'Engagé', 'Engagé',\n",
       "       'Engagé', 'Minimaliste', 'Engagé', 'Engagé', 'Engagé', 'Engagé',\n",
       "       'Engagé', 'Engagé', 'Engagé', 'Engagé', 'Engagé', 'Intéressé',\n",
       "       'Engagé', 'Engagé', 'Engagé', 'Engagé', 'Intéressé', 'Intéressé',\n",
       "       'Engagé', 'Engagé', 'Engagé', 'Engagé', 'Coopérant', 'Engagé',\n",
       "       'Engagé', 'Engagé', 'Intéressé', 'Intéressé', 'Engagé',\n",
       "       'Intéressé', 'Minimaliste', 'Engagé', 'Engagé', 'Engagé', 'Engagé',\n",
       "       'Coopérant', 'Engagé', 'Engagé', 'Intéressé', 'Intéressé',\n",
       "       'Engagé', 'Engagé', 'Intéressé', 'Intéressé', 'Coopérant',\n",
       "       'Engagé', 'Intéressé', 'Engagé', 'Engagé', 'Engagé', 'Intéressé',\n",
       "       'Intéressé', 'Engagé', 'Engagé', 'Intéressé', 'Intéressé',\n",
       "       'Coopérant', 'Engagé', 'Minimaliste', 'Intéressé', 'Intéressé'],\n",
       "      dtype='<U11')"
      ]
     },
     "execution_count": 103,
     "metadata": {},
     "output_type": "execute_result"
    }
   ],
   "source": [
    "y_pred_synergy21"
   ]
  },
  {
   "cell_type": "code",
   "execution_count": 104,
   "id": "81ba7a52",
   "metadata": {},
   "outputs": [
    {
     "name": "stdout",
     "output_type": "stream",
     "text": [
      "[[ 8  8  2 12]\n",
      " [ 0 12  0 12]\n",
      " [ 0  2  3 14]\n",
      " [ 0  3  1 23]]\n",
      "Précision: 0.5892622950819673\n",
      "Rappel: 0.44410331384015594\n",
      "Score F1: 0.41839395566839177\n",
      "Accuracy: 0.46\n"
     ]
    }
   ],
   "source": [
    "cm = confusion_matrix(y_test_synergy, y_pred_synergy21, labels = [\"Minimaliste\", \"Intéressé\", \"Coopérant\",\"Engagé\"])\n",
    "print(cm)\n",
    "print(\"Précision:\", precision_score(y_test_synergy, y_pred_synergy21, average='macro'))\n",
    "print(\"Rappel:\", recall_score(y_test_synergy, y_pred_synergy21, average='macro'))\n",
    "print(\"Score F1:\", f1_score(y_test_synergy, y_pred_synergy21, average='macro'))\n",
    "print(\"Accuracy:\", accuracy_score(y_test_synergy, y_pred_synergy21))"
   ]
  },
  {
   "cell_type": "markdown",
   "id": "1b8c4b49-056a-41e3-bbb8-3b5a15d1e170",
   "metadata": {},
   "source": [
    "### Tache 2 : classification selon son niveau d'antagonisme"
   ]
  },
  {
   "cell_type": "code",
   "execution_count": 105,
   "id": "1f02eb04",
   "metadata": {},
   "outputs": [],
   "source": [
    "y_pred_antagonism21 = []"
   ]
  },
  {
   "cell_type": "code",
   "execution_count": 106,
   "id": "18eb658d",
   "metadata": {},
   "outputs": [
    {
     "name": "stdout",
     "output_type": "stream",
     "text": [
      "Temps d'exécution : 23.27minutes\n"
     ]
    }
   ],
   "source": [
    "start = time.time()\n",
    "for text in avis[\"Sample_text\"]:\n",
    "    text = translator.translate(text, target_lang='en')\n",
    "    result = classifier1(text, text_antagonism_labels2e, multi_label = False )\n",
    "    result = result['labels'][0].split()[0]\n",
    "    if result == \"1\":\n",
    "        y_pred_antagonism21.append(\"Conciliant\")\n",
    "    elif result == \"2\":\n",
    "        y_pred_antagonism21.append(\"Résistant\")\n",
    "    elif result == \"3\" :\n",
    "        y_pred_antagonism21.append(\"Opposant\")\n",
    "    else :\n",
    "        y_pred_antagonism21.append(\"Irréconciliant\")\n",
    "end = time.time()\n",
    "execution_time212 = end - start\n",
    "execution_time212 = execution_time212/60\n",
    "\n",
    "print(f'Temps d\\'exécution : {execution_time212:.2f}minutes')"
   ]
  },
  {
   "cell_type": "code",
   "execution_count": 107,
   "id": "94e23847",
   "metadata": {},
   "outputs": [],
   "source": [
    "y_pred_antagonism21 = np.array(y_pred_antagonism21)"
   ]
  },
  {
   "cell_type": "code",
   "execution_count": 108,
   "id": "b8d5aa80",
   "metadata": {},
   "outputs": [
    {
     "name": "stdout",
     "output_type": "stream",
     "text": [
      "[[25  1  0  0]\n",
      " [32  0  0  1]\n",
      " [15  2  0  7]\n",
      " [ 9  0  0  8]]\n",
      "Précision: 0.2021604938271605\n",
      "Rappel: 0.3580316742081448\n",
      "Score F1: 0.23803455111866328\n",
      "Accuracy: 0.33\n"
     ]
    },
    {
     "name": "stderr",
     "output_type": "stream",
     "text": [
      "C:\\Users\\HP\\anaconda3\\lib\\site-packages\\sklearn\\metrics\\_classification.py:1318: UndefinedMetricWarning: Precision is ill-defined and being set to 0.0 in labels with no predicted samples. Use `zero_division` parameter to control this behavior.\n",
      "  _warn_prf(average, modifier, msg_start, len(result))\n"
     ]
    }
   ],
   "source": [
    "cm2 = confusion_matrix(y_test_antagonism, y_pred_antagonism21, labels = [\"Conciliant\", \"Résistant\", \"Opposant\",\"Irréconciliant\"])\n",
    "print(cm2)\n",
    "print(\"Précision:\", precision_score(y_test_antagonism, y_pred_antagonism21, average='macro'))\n",
    "print(\"Rappel:\", recall_score(y_test_antagonism, y_pred_antagonism21, average='macro'))\n",
    "print(\"Score F1:\", f1_score(y_test_antagonism, y_pred_antagonism21, average='macro'))\n",
    "print(\"Accuracy:\", accuracy_score(y_test_antagonism, y_pred_antagonism21))"
   ]
  },
  {
   "cell_type": "code",
   "execution_count": 109,
   "id": "45f17cf7",
   "metadata": {},
   "outputs": [],
   "source": [
    "predictions_bart_large_mnli_2 = pd.DataFrame({\n",
    "    'synergy': y_pred_synergy21,\n",
    "    'antagonism': y_pred_antagonism21\n",
    "})"
   ]
  },
  {
   "cell_type": "markdown",
   "id": "8c28fdc2-6060-4a61-a400-79c3e76c3243",
   "metadata": {},
   "source": [
    "### Tache 3 : classification finale"
   ]
  },
  {
   "cell_type": "code",
   "execution_count": 110,
   "id": "4b10a82e",
   "metadata": {},
   "outputs": [],
   "source": [
    "predictions_bart_large_mnli_2['class'] = predictions_bart_large_mnli_2.apply(assign_group, axis=1)"
   ]
  },
  {
   "cell_type": "code",
   "execution_count": 111,
   "id": "6406a974",
   "metadata": {},
   "outputs": [],
   "source": [
    "y_pred21 = predictions_bart_large_mnli_2 [\"class\"]"
   ]
  },
  {
   "cell_type": "code",
   "execution_count": 112,
   "id": "0d463b16",
   "metadata": {},
   "outputs": [
    {
     "name": "stdout",
     "output_type": "stream",
     "text": [
      "[[15  2 10  0  0  0  1]\n",
      " [ 0  2  5  0  0  0  0]\n",
      " [ 0  0  4  1  0  0  0]\n",
      " [ 5  1 21  1  0  0  0]\n",
      " [ 0  0  3  0  3  0  0]\n",
      " [ 4  0  4  0  5  0  2]\n",
      " [ 4  0  2  0  3  0  2]]\n",
      "Précision: 0.31286774450039756\n",
      "Rappel: 0.33413729128014846\n",
      "Score F1: 0.2409719443332889\n",
      "Accuracy: 0.27\n"
     ]
    },
    {
     "name": "stderr",
     "output_type": "stream",
     "text": [
      "C:\\Users\\HP\\anaconda3\\lib\\site-packages\\sklearn\\metrics\\_classification.py:1318: UndefinedMetricWarning: Precision is ill-defined and being set to 0.0 in labels with no predicted samples. Use `zero_division` parameter to control this behavior.\n",
      "  _warn_prf(average, modifier, msg_start, len(result))\n"
     ]
    }
   ],
   "source": [
    "cm3 = confusion_matrix(y_test, y_pred21, labels = [\"Passif\", \"Aligné\", \"Engagé\",\"Moteur\",\"Déchiré\", \"Opposant\", \"Irréductible\"])\n",
    "print(cm3)\n",
    "print(\"Précision:\", precision_score(y_test, y_pred21, average='macro'))\n",
    "print(\"Rappel:\", recall_score(y_test, y_pred21, average='macro'))\n",
    "print(\"Score F1:\", f1_score(y_test, y_pred21, average='macro'))\n",
    "print(\"Accuracy:\", accuracy_score(y_test, y_pred21))"
   ]
  },
  {
   "cell_type": "markdown",
   "id": "79fd2118-7d6d-48c9-96a7-665d71531d0b",
   "metadata": {},
   "source": [
    "## Modèle 2 : \"MoritzLaurer/deberta-v3-large-zeroshot-v2.0\""
   ]
  },
  {
   "cell_type": "markdown",
   "id": "ac040838-d709-4015-8df3-634ce04fc75b",
   "metadata": {},
   "source": [
    "### Tache 1 : classification selon son niveau de synergie"
   ]
  },
  {
   "cell_type": "code",
   "execution_count": 113,
   "id": "4d6c2a9d",
   "metadata": {},
   "outputs": [],
   "source": [
    "y_pred_synergy22 = []"
   ]
  },
  {
   "cell_type": "code",
   "execution_count": 114,
   "id": "1c9a93c7",
   "metadata": {},
   "outputs": [
    {
     "name": "stdout",
     "output_type": "stream",
     "text": [
      "Temps d'exécution : 29.93minutes\n"
     ]
    }
   ],
   "source": [
    "start = time.time()\n",
    "for text in avis[\"Sample_text\"]:\n",
    "    result = classifier2(text, text_synergy_labels2, multi_label = False )\n",
    "    result = result['labels'][0].split()[0]\n",
    "    if result == \"1\":\n",
    "        y_pred_synergy22.append(\"Minimaliste\")\n",
    "    elif result == \"2\":\n",
    "        y_pred_synergy22.append(\"Intéressé\")\n",
    "    elif result == \"3\" :\n",
    "        y_pred_synergy22.append(\"Coopérant\")\n",
    "    else :\n",
    "        y_pred_synergy22.append(\"Engagé\")\n",
    "end = time.time()\n",
    "execution_time221 = end - start\n",
    "execution_time221 = execution_time221/60\n",
    "\n",
    "print(f'Temps d\\'exécution : {execution_time221:.2f}minutes')\n"
   ]
  },
  {
   "cell_type": "code",
   "execution_count": 115,
   "id": "0739c33e",
   "metadata": {},
   "outputs": [],
   "source": [
    "y_pred_synergy22 = np.array(y_pred_synergy22)"
   ]
  },
  {
   "cell_type": "code",
   "execution_count": 116,
   "id": "1a9365de",
   "metadata": {},
   "outputs": [
    {
     "name": "stdout",
     "output_type": "stream",
     "text": [
      "[[23  6  0  1]\n",
      " [14  5  0  5]\n",
      " [ 3  1  8  7]\n",
      " [ 0  0  9 18]]\n",
      "Précision: 0.5107250158127767\n",
      "Rappel: 0.5156798245614035\n",
      "Score F1: 0.5000136836343733\n",
      "Accuracy: 0.54\n"
     ]
    }
   ],
   "source": [
    "cm = confusion_matrix(y_test_synergy, y_pred_synergy22, labels = [\"Minimaliste\", \"Intéressé\", \"Coopérant\",\"Engagé\"])\n",
    "print(cm)\n",
    "print(\"Précision:\", precision_score(y_test_synergy, y_pred_synergy22, average='macro'))\n",
    "print(\"Rappel:\", recall_score(y_test_synergy, y_pred_synergy22, average='macro'))\n",
    "print(\"Score F1:\", f1_score(y_test_synergy, y_pred_synergy22, average='macro'))\n",
    "print(\"Accuracy:\", accuracy_score(y_test_synergy, y_pred_synergy22))"
   ]
  },
  {
   "cell_type": "markdown",
   "id": "d6ed452c-8b04-46fb-8efe-bfd5c781d5cf",
   "metadata": {},
   "source": [
    "### Tache 2 : classification selon son niveau d'antagonisme"
   ]
  },
  {
   "cell_type": "code",
   "execution_count": 34,
   "id": "6cd28b5b",
   "metadata": {},
   "outputs": [],
   "source": [
    "y_pred_antagonism22 = []"
   ]
  },
  {
   "cell_type": "code",
   "execution_count": 35,
   "id": "23803af7",
   "metadata": {},
   "outputs": [
    {
     "name": "stdout",
     "output_type": "stream",
     "text": [
      "Temps d'exécution : 16.94minutes\n"
     ]
    }
   ],
   "source": [
    "start = time.time()\n",
    "for text in avis[\"Sample_text\"]:\n",
    "    result = classifier2(text, text_antagonism_labels2, multi_label = False )\n",
    "    result = result['labels'][0].split()[0]\n",
    "    if result == \"1\":\n",
    "        y_pred_antagonism22.append(\"Conciliant\")\n",
    "    elif result == \"2\":\n",
    "        y_pred_antagonism22.append(\"Résistant\")\n",
    "    elif result == \"3\" :\n",
    "        y_pred_antagonism22.append(\"Opposant\")\n",
    "    else :\n",
    "        y_pred_antagonism22.append(\"Irréconciliant\")\n",
    "end = time.time()\n",
    "execution_time222 = end - start\n",
    "execution_time222 = execution_time222/60\n",
    "\n",
    "print(f'Temps d\\'exécution : {execution_time222:.2f}minutes')"
   ]
  },
  {
   "cell_type": "code",
   "execution_count": 36,
   "id": "f2cac7fd",
   "metadata": {},
   "outputs": [],
   "source": [
    "y_pred_antagonism22 = np.array(y_pred_antagonism22)"
   ]
  },
  {
   "cell_type": "code",
   "execution_count": 40,
   "id": "76472ca2",
   "metadata": {},
   "outputs": [
    {
     "name": "stdout",
     "output_type": "stream",
     "text": [
      "[[25  1  0  0]\n",
      " [11 14  8  0]\n",
      " [ 7  5  9  3]\n",
      " [ 2  0  4 11]]\n",
      "Précision: 0.6174603174603175\n",
      "Rappel: 0.6019599273275744\n",
      "Score F1: 0.5855511645649918\n",
      "Accuracy: 0.59\n"
     ]
    }
   ],
   "source": [
    "cm2 = confusion_matrix(y_test_antagonism, y_pred_antagonism22, labels = [\"Conciliant\", \"Résistant\", \"Opposant\",\"Irréconciliant\"])\n",
    "print(cm2)\n",
    "print(\"Précision:\", precision_score(y_test_antagonism, y_pred_antagonism22, average='macro'))\n",
    "print(\"Rappel:\", recall_score(y_test_antagonism, y_pred_antagonism22, average='macro'))\n",
    "print(\"Score F1:\", f1_score(y_test_antagonism, y_pred_antagonism22, average='macro'))\n",
    "print(\"Accuracy:\", accuracy_score(y_test_antagonism, y_pred_antagonism22))"
   ]
  },
  {
   "cell_type": "code",
   "execution_count": 41,
   "id": "46d6923b",
   "metadata": {},
   "outputs": [],
   "source": [
    "predictions_deberta_v3_large_zeroshot_v2_0_2 = pd.DataFrame({\n",
    "    'synergy': y_pred_synergy22,\n",
    "    'antagonism': y_pred_antagonism22\n",
    "})"
   ]
  },
  {
   "cell_type": "markdown",
   "id": "83bbb9d4-bd93-4daf-a2a8-5c507980fbf5",
   "metadata": {},
   "source": [
    "### Tache 3 : classification finale"
   ]
  },
  {
   "cell_type": "code",
   "execution_count": 42,
   "id": "af27da99",
   "metadata": {},
   "outputs": [],
   "source": [
    "predictions_deberta_v3_large_zeroshot_v2_0_2['class'] =predictions_deberta_v3_large_zeroshot_v2_0_2.apply(assign_group, axis=1)"
   ]
  },
  {
   "cell_type": "code",
   "execution_count": 43,
   "id": "cfd69f46",
   "metadata": {},
   "outputs": [],
   "source": [
    "y_pred22 = predictions_deberta_v3_large_zeroshot_v2_0_2[\"class\"]"
   ]
  },
  {
   "cell_type": "code",
   "execution_count": 46,
   "id": "8a2af7df",
   "metadata": {},
   "outputs": [
    {
     "name": "stdout",
     "output_type": "stream",
     "text": [
      "[[22  0  3  2  0  1  0]\n",
      " [ 2  3  2  0  0  0  0]\n",
      " [ 0  2  2  1  0  0  0]\n",
      " [ 1  1  4 20  2  0  0]\n",
      " [ 0  1  0  1  3  1  0]\n",
      " [12  0  0  0  0  2  1]\n",
      " [ 1  0  0  0  1  2  7]]\n",
      "Précision: 0.5330005207824757\n",
      "Rappel: 0.5140383426097712\n",
      "Score F1: 0.5059695943154588\n",
      "Accuracy: 0.59\n"
     ]
    }
   ],
   "source": [
    "cm3 = confusion_matrix(y_test, y_pred22, labels = [\"Passif\", \"Aligné\", \"Engagé\",\"Moteur\",\"Déchiré\", \"Opposant\", \"Irréductible\"])\n",
    "print(cm3)\n",
    "print(\"Précision:\", precision_score(y_test, y_pred22, average='macro'))\n",
    "print(\"Rappel:\", recall_score(y_test, y_pred22, average='macro'))\n",
    "print(\"Score F1:\", f1_score(y_test, y_pred22, average='macro'))\n",
    "print(\"Accuracy:\", accuracy_score(y_test, y_pred22))"
   ]
  },
  {
   "cell_type": "markdown",
   "id": "0d348a82-9405-4622-9563-c0f8ea57c17f",
   "metadata": {},
   "source": [
    "## Modèle 3 : MoritzLaurer/deberta-v3-large-zeroshot-v2.0-c"
   ]
  },
  {
   "cell_type": "markdown",
   "id": "6cfd1eb3-842e-41d7-8224-baca2497d1b1",
   "metadata": {},
   "source": [
    "## Tache 1 : classification selon son niveau de synergie"
   ]
  },
  {
   "cell_type": "code",
   "execution_count": 47,
   "id": "416e72e5",
   "metadata": {},
   "outputs": [],
   "source": [
    "y_pred_synergy23 = []"
   ]
  },
  {
   "cell_type": "code",
   "execution_count": 48,
   "id": "d0b62e0b",
   "metadata": {},
   "outputs": [
    {
     "name": "stdout",
     "output_type": "stream",
     "text": [
      "Temps d'exécution : 10.55minutes\n"
     ]
    }
   ],
   "source": [
    "start = time.time()\n",
    "for text in avis[\"Sample_text\"]:\n",
    "    result = classifier3(text, text_synergy_labels2, multi_label = False )\n",
    "    result = result['labels'][0].split()[0]\n",
    "    if result == \"1\":\n",
    "        y_pred_synergy23.append(\"Minimaliste\")\n",
    "    elif result == \"2\":\n",
    "        y_pred_synergy23.append(\"Intéressé\")\n",
    "    elif result == \"3\" :\n",
    "        y_pred_synergy23.append(\"Coopérant\")\n",
    "    else :\n",
    "        y_pred_synergy23.append(\"Engagé\")\n",
    "end = time.time()\n",
    "execution_time231 = end - start\n",
    "execution_time231 = execution_time231/60\n",
    "\n",
    "print(f'Temps d\\'exécution : {execution_time231:.2f}minutes')"
   ]
  },
  {
   "cell_type": "code",
   "execution_count": 49,
   "id": "2269802d",
   "metadata": {},
   "outputs": [],
   "source": [
    "y_pred_synergy23 = np.array(y_pred_synergy23)"
   ]
  },
  {
   "cell_type": "code",
   "execution_count": 50,
   "id": "8cb3fd69",
   "metadata": {},
   "outputs": [
    {
     "name": "stdout",
     "output_type": "stream",
     "text": [
      "[[27  2  0  1]\n",
      " [19  5  0  0]\n",
      " [ 5  3 10  1]\n",
      " [ 5  0 16  6]]\n",
      "Précision: 0.5291895604395604\n",
      "Rappel: 0.46421783625730995\n",
      "Score F1: 0.4273315527761492\n",
      "Accuracy: 0.48\n"
     ]
    }
   ],
   "source": [
    "cm = confusion_matrix(y_test_synergy, y_pred_synergy23, labels = [\"Minimaliste\", \"Intéressé\", \"Coopérant\",\"Engagé\"])\n",
    "print(cm)\n",
    "print(\"Précision:\", precision_score(y_test_synergy, y_pred_synergy23, average='macro'))\n",
    "print(\"Rappel:\", recall_score(y_test_synergy, y_pred_synergy23, average='macro'))\n",
    "print(\"Score F1:\", f1_score(y_test_synergy, y_pred_synergy23, average='macro'))\n",
    "print(\"Accuracy:\", accuracy_score(y_test_synergy, y_pred_synergy23))"
   ]
  },
  {
   "cell_type": "markdown",
   "id": "e8cb1da6-34e2-4fa7-8d07-25650766bb8d",
   "metadata": {},
   "source": [
    "### Tache 2 : classification selon son niveau d'antagonisme"
   ]
  },
  {
   "cell_type": "code",
   "execution_count": 51,
   "id": "31c89d2b",
   "metadata": {},
   "outputs": [],
   "source": [
    "y_pred_antagonism23 = []"
   ]
  },
  {
   "cell_type": "code",
   "execution_count": 52,
   "id": "af8e6ac1",
   "metadata": {},
   "outputs": [
    {
     "name": "stdout",
     "output_type": "stream",
     "text": [
      "Temps d'exécution : 11.80minutes\n"
     ]
    }
   ],
   "source": [
    "start = time.time()\n",
    "for text in avis[\"Sample_text\"]:\n",
    "    result = classifier3(text, text_antagonism_labels2, multi_label = False )\n",
    "    result = result['labels'][0].split()[0]\n",
    "    if result == \"1\":\n",
    "        y_pred_antagonism23.append(\"Conciliant\")\n",
    "    elif result == \"2\":\n",
    "        y_pred_antagonism23.append(\"Résistant\")\n",
    "    elif result == \"3\" :\n",
    "        y_pred_antagonism23.append(\"Opposant\")\n",
    "    else :\n",
    "        y_pred_antagonism23.append(\"Irréconciliant\")\n",
    "end = time.time()\n",
    "execution_time232 = end - start\n",
    "execution_time232 = execution_time232/60\n",
    "\n",
    "print(f'Temps d\\'exécution : {execution_time232:.2f}minutes')"
   ]
  },
  {
   "cell_type": "code",
   "execution_count": 53,
   "id": "73e98535",
   "metadata": {},
   "outputs": [],
   "source": [
    "y_pred_antagonism23 = np.array(y_pred_antagonism23)"
   ]
  },
  {
   "cell_type": "code",
   "execution_count": 54,
   "id": "bfd16d16",
   "metadata": {},
   "outputs": [
    {
     "name": "stdout",
     "output_type": "stream",
     "text": [
      "[[24  1  0  1]\n",
      " [ 7 22  4  0]\n",
      " [ 1  8 11  4]\n",
      " [ 1  2  2 12]]\n",
      "Précision: 0.6867201426024955\n",
      "Rappel: 0.6884898190045249\n",
      "Score F1: 0.68067342687385\n",
      "Accuracy: 0.69\n"
     ]
    }
   ],
   "source": [
    "cm2 = confusion_matrix(y_test_antagonism, y_pred_antagonism23, labels = [\"Conciliant\", \"Résistant\", \"Opposant\",\"Irréconciliant\"])\n",
    "print(cm2)\n",
    "print(\"Précision:\", precision_score(y_test_antagonism, y_pred_antagonism23, average='macro'))\n",
    "print(\"Rappel:\", recall_score(y_test_antagonism, y_pred_antagonism23, average='macro'))\n",
    "print(\"Score F1:\", f1_score(y_test_antagonism, y_pred_antagonism23, average='macro'))\n",
    "print(\"Accuracy:\", accuracy_score(y_test_antagonism, y_pred_antagonism23))"
   ]
  },
  {
   "cell_type": "code",
   "execution_count": 55,
   "id": "245a3e0d",
   "metadata": {},
   "outputs": [],
   "source": [
    "predictions_deberta_v3_large_zeroshot_v2_0_c_2 = pd.DataFrame({\n",
    "    'synergy': y_pred_synergy23,\n",
    "    'antagonism': y_pred_antagonism23\n",
    "})"
   ]
  },
  {
   "cell_type": "markdown",
   "id": "dfea4e17-ba92-4e8e-9579-c56f57ba59a9",
   "metadata": {},
   "source": [
    "### Tache 3 : classification finale "
   ]
  },
  {
   "cell_type": "code",
   "execution_count": 56,
   "id": "78e765ec",
   "metadata": {},
   "outputs": [],
   "source": [
    "predictions_deberta_v3_large_zeroshot_v2_0_c_2['class'] =predictions_deberta_v3_large_zeroshot_v2_0_c_2.apply(assign_group, axis=1)"
   ]
  },
  {
   "cell_type": "code",
   "execution_count": 57,
   "id": "6ad13a22",
   "metadata": {},
   "outputs": [],
   "source": [
    "y_pred23 = predictions_deberta_v3_large_zeroshot_v2_0_c_2[\"class\"]"
   ]
  },
  {
   "cell_type": "code",
   "execution_count": 58,
   "id": "b61e78be",
   "metadata": {},
   "outputs": [
    {
     "name": "stdout",
     "output_type": "stream",
     "text": [
      "[[26  0  0  0  0  1  1]\n",
      " [ 3  4  0  0  0  0  0]\n",
      " [ 0  4  0  1  0  0  0]\n",
      " [ 8  3  0 13  3  1  0]\n",
      " [ 0  0  0  2  3  0  1]\n",
      " [ 7  0  0  0  0  7  1]\n",
      " [ 2  0  0  0  1  1  7]]\n",
      "Précision: 0.5099893119303057\n",
      "Rappel: 0.5096165739022883\n",
      "Score F1: 0.4894659094659094\n",
      "Accuracy: 0.6\n"
     ]
    },
    {
     "name": "stderr",
     "output_type": "stream",
     "text": [
      "C:\\Users\\HP\\anaconda3\\lib\\site-packages\\sklearn\\metrics\\_classification.py:1318: UndefinedMetricWarning: Precision is ill-defined and being set to 0.0 in labels with no predicted samples. Use `zero_division` parameter to control this behavior.\n",
      "  _warn_prf(average, modifier, msg_start, len(result))\n"
     ]
    }
   ],
   "source": [
    "cm3 = confusion_matrix(y_test, y_pred23, labels = [\"Passif\", \"Aligné\", \"Engagé\",\"Moteur\",\"Déchiré\", \"Opposant\", \"Irréductible\"])\n",
    "print(cm3)\n",
    "print(\"Précision:\", precision_score(y_test, y_pred23, average='macro'))\n",
    "print(\"Rappel:\", recall_score(y_test, y_pred23, average='macro'))\n",
    "print(\"Score F1:\", f1_score(y_test, y_pred23, average='macro'))\n",
    "print(\"Accuracy:\", accuracy_score(y_test, y_pred23))"
   ]
  },
  {
   "cell_type": "markdown",
   "id": "ab5aa80e-1f99-4c46-96f3-e972e5348c37",
   "metadata": {},
   "source": [
    "## Modèle 4 : MoritzLaurer/deberta-v3-base-zeroshot-v2.0"
   ]
  },
  {
   "cell_type": "markdown",
   "id": "34f59bc0-fc94-4490-b248-9564c0ae342a",
   "metadata": {},
   "source": [
    "### Tache 1 : classification selon son niveau de synergie"
   ]
  },
  {
   "cell_type": "code",
   "execution_count": 59,
   "id": "61395738",
   "metadata": {},
   "outputs": [],
   "source": [
    "y_pred_synergy24 = []"
   ]
  },
  {
   "cell_type": "code",
   "execution_count": 60,
   "id": "28140774",
   "metadata": {},
   "outputs": [
    {
     "name": "stdout",
     "output_type": "stream",
     "text": [
      "Temps d'exécution : 3.39minutes\n"
     ]
    }
   ],
   "source": [
    "start = time.time()\n",
    "for text in avis[\"Sample_text\"]:\n",
    "    result = classifier4(text, text_synergy_labels2, multi_label = False )\n",
    "    result = result['labels'][0].split()[0]\n",
    "    if result == \"1\":\n",
    "        y_pred_synergy24.append(\"Minimaliste\")\n",
    "    elif result == \"2\":\n",
    "        y_pred_synergy24.append(\"Intéressé\")\n",
    "    elif result == \"3\" :\n",
    "        y_pred_synergy24.append(\"Coopérant\")\n",
    "    else :\n",
    "        y_pred_synergy24.append(\"Engagé\")\n",
    "end = time.time()\n",
    "execution_time241 = end - start\n",
    "execution_time241 = execution_time241/60\n",
    "\n",
    "print(f'Temps d\\'exécution : {execution_time241:.2f}minutes')"
   ]
  },
  {
   "cell_type": "code",
   "execution_count": 61,
   "id": "2a3857c9",
   "metadata": {},
   "outputs": [],
   "source": [
    "y_pred_synergy24 = np.array(y_pred_synergy24 )"
   ]
  },
  {
   "cell_type": "code",
   "execution_count": 62,
   "id": "978c8669",
   "metadata": {},
   "outputs": [
    {
     "name": "stdout",
     "output_type": "stream",
     "text": [
      "[[17  5  6  2]\n",
      " [ 5  3 11  5]\n",
      " [ 0  0 14  5]\n",
      " [ 0  0 18  9]]\n",
      "Précision: 0.4655032467532467\n",
      "Rappel: 0.44046052631578947\n",
      "Score F1: 0.4070277149321267\n",
      "Accuracy: 0.43\n"
     ]
    }
   ],
   "source": [
    "cm = confusion_matrix(y_test_synergy, y_pred_synergy24, labels = [\"Minimaliste\", \"Intéressé\", \"Coopérant\",\"Engagé\"])\n",
    "print(cm)\n",
    "print(\"Précision:\", precision_score(y_test_synergy, y_pred_synergy24, average='macro'))\n",
    "print(\"Rappel:\", recall_score(y_test_synergy, y_pred_synergy24, average='macro'))\n",
    "print(\"Score F1:\", f1_score(y_test_synergy, y_pred_synergy24, average='macro'))\n",
    "print(\"Accuracy:\", accuracy_score(y_test_synergy, y_pred_synergy24))"
   ]
  },
  {
   "cell_type": "markdown",
   "id": "4931e3c4-9557-4f5c-bf9e-3765eeda76a9",
   "metadata": {},
   "source": [
    "### Tache 2 : classification selon son niveau d'antagonisme"
   ]
  },
  {
   "cell_type": "code",
   "execution_count": 63,
   "id": "75701d72",
   "metadata": {},
   "outputs": [],
   "source": [
    "y_pred_antagonism24 = []"
   ]
  },
  {
   "cell_type": "code",
   "execution_count": 64,
   "id": "5afd3ecc",
   "metadata": {},
   "outputs": [
    {
     "name": "stdout",
     "output_type": "stream",
     "text": [
      "Temps d'exécution : 3.44minutes\n"
     ]
    }
   ],
   "source": [
    "start = time.time()\n",
    "for text in avis[\"Sample_text\"]:\n",
    "    result = classifier4(text, text_antagonism_labels2, multi_label = False )\n",
    "    result = result['labels'][0].split()[0]\n",
    "    if result == \"1\":\n",
    "        y_pred_antagonism24.append(\"Conciliant\")\n",
    "    elif result == \"2\":\n",
    "        y_pred_antagonism24.append(\"Résistant\")\n",
    "    elif result == \"3\" :\n",
    "        y_pred_antagonism24.append(\"Opposant\")\n",
    "    else :\n",
    "        y_pred_antagonism24.append(\"Irréconciliant\")\n",
    "end = time.time()\n",
    "execution_time242 = end - start\n",
    "execution_time242 = execution_time242/60\n",
    "\n",
    "print(f'Temps d\\'exécution : {execution_time242:.2f}minutes')"
   ]
  },
  {
   "cell_type": "code",
   "execution_count": 65,
   "id": "11a3be1b",
   "metadata": {},
   "outputs": [],
   "source": [
    "y_pred_antagonism24 = np.array(y_pred_antagonism24)"
   ]
  },
  {
   "cell_type": "code",
   "execution_count": 66,
   "id": "a3c86d94",
   "metadata": {},
   "outputs": [
    {
     "name": "stdout",
     "output_type": "stream",
     "text": [
      "[[20  0  4  2]\n",
      " [13  5  4 11]\n",
      " [ 5  2  3 14]\n",
      " [ 1  0  1 15]]\n",
      "Précision: 0.4585622710622711\n",
      "Rappel: 0.48202471548059783\n",
      "Score F1: 0.38513146458061714\n",
      "Accuracy: 0.43\n"
     ]
    }
   ],
   "source": [
    "cm2 = confusion_matrix(y_test_antagonism, y_pred_antagonism24, labels = [\"Conciliant\", \"Résistant\", \"Opposant\",\"Irréconciliant\"])\n",
    "print(cm2)\n",
    "print(\"Précision:\", precision_score(y_test_antagonism, y_pred_antagonism24, average='macro'))\n",
    "print(\"Rappel:\", recall_score(y_test_antagonism, y_pred_antagonism24, average='macro'))\n",
    "print(\"Score F1:\", f1_score(y_test_antagonism, y_pred_antagonism24, average='macro'))\n",
    "print(\"Accuracy:\", accuracy_score(y_test_antagonism, y_pred_antagonism24))"
   ]
  },
  {
   "cell_type": "code",
   "execution_count": 67,
   "id": "02d0a471",
   "metadata": {},
   "outputs": [],
   "source": [
    "predictions_deberta_v3_base_zeroshot_v2_0_2 = pd.DataFrame({\n",
    "    'synergy': y_pred_synergy24,\n",
    "    'antagonism': y_pred_antagonism24\n",
    "})"
   ]
  },
  {
   "cell_type": "markdown",
   "id": "391b5940-ea6b-4294-b26f-d328cc1b569f",
   "metadata": {},
   "source": [
    "### Tache 3 : classification finale"
   ]
  },
  {
   "cell_type": "code",
   "execution_count": 68,
   "id": "0e4a02e1",
   "metadata": {},
   "outputs": [],
   "source": [
    "predictions_deberta_v3_base_zeroshot_v2_0_2['class'] =predictions_deberta_v3_base_zeroshot_v2_0_2.apply(assign_group, axis=1)"
   ]
  },
  {
   "cell_type": "code",
   "execution_count": 69,
   "id": "ba83cde6",
   "metadata": {},
   "outputs": [],
   "source": [
    "y_pred24 = predictions_deberta_v3_base_zeroshot_v2_0_2[\"class\"]"
   ]
  },
  {
   "cell_type": "code",
   "execution_count": 70,
   "id": "aa5c4251",
   "metadata": {},
   "outputs": [
    {
     "name": "stdout",
     "output_type": "stream",
     "text": [
      "[[ 8  5  4  1  4  3  3]\n",
      " [ 0  2  3  1  1  0  0]\n",
      " [ 0  4  1  0  0  0  0]\n",
      " [ 0  7  0 11 10  0  0]\n",
      " [ 0  0  0  1  5  0  0]\n",
      " [ 2  2  0  2  3  0  6]\n",
      " [ 1  0  0  0  3  0  7]]\n",
      "Précision: 0.32422577422577425\n",
      "Rappel: 0.37628324056895485\n",
      "Score F1: 0.2918956043956044\n",
      "Accuracy: 0.34\n"
     ]
    }
   ],
   "source": [
    "cm3 = confusion_matrix(y_test, y_pred24, labels = [\"Passif\", \"Aligné\", \"Engagé\",\"Moteur\",\"Déchiré\", \"Opposant\", \"Irréductible\"])\n",
    "print(cm3)\n",
    "print(\"Précision:\", precision_score(y_test, y_pred24, average='macro'))\n",
    "print(\"Rappel:\", recall_score(y_test, y_pred24, average='macro'))\n",
    "print(\"Score F1:\", f1_score(y_test, y_pred24, average='macro'))\n",
    "print(\"Accuracy:\", accuracy_score(y_test, y_pred24))"
   ]
  },
  {
   "cell_type": "markdown",
   "id": "03525764-54a0-4caf-a1fd-30eec1454021",
   "metadata": {},
   "source": [
    "## Modèle 5 : MoritzLaurer/roberta-large-zeroshot-v2.0"
   ]
  },
  {
   "cell_type": "markdown",
   "id": "395af7bc-af5f-4024-8468-426442c52832",
   "metadata": {},
   "source": [
    "### Tache 1 : classification selon son niveau de synergie"
   ]
  },
  {
   "cell_type": "code",
   "execution_count": 71,
   "id": "ea644ffb",
   "metadata": {},
   "outputs": [],
   "source": [
    "y_pred_synergy25 = []"
   ]
  },
  {
   "cell_type": "code",
   "execution_count": 72,
   "id": "3bbae3c9",
   "metadata": {},
   "outputs": [
    {
     "name": "stderr",
     "output_type": "stream",
     "text": [
      "C:\\Users\\HP\\anaconda3\\lib\\site-packages\\torch\\_utils.py:776: UserWarning: TypedStorage is deprecated. It will be removed in the future and UntypedStorage will be the only storage class. This should only matter to you if you are using storages directly.  To access UntypedStorage directly, use tensor.untyped_storage() instead of tensor.storage()\n",
      "  return self.fget.__get__(instance, owner)()\n"
     ]
    },
    {
     "name": "stdout",
     "output_type": "stream",
     "text": [
      "Temps d'exécution : 10.92minutes\n"
     ]
    }
   ],
   "source": [
    "start = time.time()\n",
    "for text in avis[\"Sample_text\"]:\n",
    "    text = translator.translate(text, target_lang='en')\n",
    "    result = classifier5(text, text_synergy_labels2e, multi_label = False )\n",
    "    result = result['labels'][0].split()[0]\n",
    "    if result == \"1\":\n",
    "        y_pred_synergy25.append(\"Minimaliste\")\n",
    "    elif result == \"2\":\n",
    "        y_pred_synergy25.append(\"Intéressé\")\n",
    "    elif result == \"3\" :\n",
    "        y_pred_synergy25.append(\"Coopérant\")\n",
    "    else :\n",
    "        y_pred_synergy25.append(\"Engagé\")\n",
    "end = time.time()\n",
    "execution_time251 = end - start\n",
    "execution_time251 = execution_time251/60\n",
    "\n",
    "print(f'Temps d\\'exécution : {execution_time251:.2f}minutes')\n"
   ]
  },
  {
   "cell_type": "code",
   "execution_count": 73,
   "id": "8ec40ffd",
   "metadata": {},
   "outputs": [],
   "source": [
    "y_pred_synergy25 = np.array(y_pred_synergy25 )"
   ]
  },
  {
   "cell_type": "code",
   "execution_count": 74,
   "id": "284d540b",
   "metadata": {},
   "outputs": [
    {
     "name": "stdout",
     "output_type": "stream",
     "text": [
      "[[29  1  0  0]\n",
      " [21  3  0  0]\n",
      " [ 4  3 12  0]\n",
      " [12  0 13  2]]\n",
      "Précision: 0.586991341991342\n",
      "Rappel: 0.44932992202729044\n",
      "Score F1: 0.3702751584251862\n",
      "Accuracy: 0.46\n"
     ]
    }
   ],
   "source": [
    "cm = confusion_matrix(y_test_synergy, y_pred_synergy25, labels = [\"Minimaliste\", \"Intéressé\", \"Coopérant\",\"Engagé\"])\n",
    "print(cm)\n",
    "print(\"Précision:\", precision_score(y_test_synergy, y_pred_synergy25, average='macro'))\n",
    "print(\"Rappel:\", recall_score(y_test_synergy, y_pred_synergy25, average='macro'))\n",
    "print(\"Score F1:\", f1_score(y_test_synergy, y_pred_synergy25, average='macro'))\n",
    "print(\"Accuracy:\", accuracy_score(y_test_synergy, y_pred_synergy25))"
   ]
  },
  {
   "cell_type": "markdown",
   "id": "843455ad-66aa-42c1-ab3f-9e9ce78abbb8",
   "metadata": {},
   "source": [
    "### Tache 2 : classification selon son niveau d'antagonisme"
   ]
  },
  {
   "cell_type": "code",
   "execution_count": 75,
   "id": "8179196a",
   "metadata": {},
   "outputs": [],
   "source": [
    "y_pred_antagonism25 = []"
   ]
  },
  {
   "cell_type": "code",
   "execution_count": 76,
   "id": "23d92e4d",
   "metadata": {},
   "outputs": [
    {
     "name": "stdout",
     "output_type": "stream",
     "text": [
      "Temps d'exécution : 10.76minutes\n"
     ]
    }
   ],
   "source": [
    "start = time.time()\n",
    "for text in avis[\"Sample_text\"]:\n",
    "    text = translator.translate(text, target_lang='en')\n",
    "    result = classifier5(text, text_antagonism_labels2e, multi_label = False )\n",
    "    result = result['labels'][0].split()[0]\n",
    "    if result == \"1\":\n",
    "        y_pred_antagonism25.append(\"Conciliant\")\n",
    "    elif result == \"2\":\n",
    "        y_pred_antagonism25.append(\"Résistant\")\n",
    "    elif result == \"3\" :\n",
    "        y_pred_antagonism25.append(\"Opposant\")\n",
    "    else :\n",
    "        y_pred_antagonism25.append(\"Irréconciliant\")\n",
    "end = time.time()\n",
    "execution_time252 = end - start\n",
    "execution_time252 = execution_time252/60\n",
    "\n",
    "print(f'Temps d\\'exécution : {execution_time252:.2f}minutes')"
   ]
  },
  {
   "cell_type": "code",
   "execution_count": 77,
   "id": "29313ea3",
   "metadata": {},
   "outputs": [],
   "source": [
    "y_pred_antagonism25 = np.array(y_pred_antagonism25)"
   ]
  },
  {
   "cell_type": "code",
   "execution_count": 78,
   "id": "9d8598db",
   "metadata": {},
   "outputs": [
    {
     "name": "stdout",
     "output_type": "stream",
     "text": [
      "[[26  0  0  0]\n",
      " [ 6 25  1  1]\n",
      " [ 2 13  5  4]\n",
      " [ 3  3  0 11]]\n",
      "Précision: 0.708323033399253\n",
      "Rappel: 0.6532419786096256\n",
      "Score F1: 0.6252681252681254\n",
      "Accuracy: 0.67\n"
     ]
    }
   ],
   "source": [
    "cm2 = confusion_matrix(y_test_antagonism, y_pred_antagonism25, labels = [\"Conciliant\", \"Résistant\", \"Opposant\",\"Irréconciliant\"])\n",
    "print(cm2)\n",
    "print(\"Précision:\", precision_score(y_test_antagonism, y_pred_antagonism25, average='macro'))\n",
    "print(\"Rappel:\", recall_score(y_test_antagonism, y_pred_antagonism25, average='macro'))\n",
    "print(\"Score F1:\", f1_score(y_test_antagonism, y_pred_antagonism25, average='macro'))\n",
    "print(\"Accuracy:\", accuracy_score(y_test_antagonism, y_pred_antagonism25))"
   ]
  },
  {
   "cell_type": "code",
   "execution_count": 79,
   "id": "ba687a86",
   "metadata": {},
   "outputs": [],
   "source": [
    "predictions_roberta_large_zeroshot_v2_0_2 = pd.DataFrame({\n",
    "    'synergy': y_pred_synergy25,\n",
    "    'antagonism': y_pred_antagonism25\n",
    "})"
   ]
  },
  {
   "cell_type": "markdown",
   "id": "0465b2be-6d88-49fe-8ba2-6c8b0aa318ec",
   "metadata": {},
   "source": [
    "### Tache 3 : classification finale"
   ]
  },
  {
   "cell_type": "code",
   "execution_count": 80,
   "id": "0779d9d4",
   "metadata": {},
   "outputs": [],
   "source": [
    "predictions_roberta_large_zeroshot_v2_0_2['class'] =predictions_roberta_large_zeroshot_v2_0_2.apply(assign_group, axis=1)"
   ]
  },
  {
   "cell_type": "code",
   "execution_count": 81,
   "id": "b8281db5",
   "metadata": {},
   "outputs": [],
   "source": [
    "y_pred25 = predictions_roberta_large_zeroshot_v2_0_2[\"class\"]"
   ]
  },
  {
   "cell_type": "code",
   "execution_count": 82,
   "id": "df910b1f",
   "metadata": {},
   "outputs": [
    {
     "name": "stdout",
     "output_type": "stream",
     "text": [
      "[[27  0  0  0  0  1  0]\n",
      " [ 2  5  0  0  0  0  0]\n",
      " [ 0  4  1  0  0  0  0]\n",
      " [11  4  0  8  2  1  2]\n",
      " [ 1  0  0  1  2  0  2]\n",
      " [11  0  0  0  0  3  1]\n",
      " [ 4  0  0  0  0  0  7]]\n",
      "Précision: 0.6341400662829234\n",
      "Rappel: 0.4762832405689549\n",
      "Score F1: 0.4596169372566888\n",
      "Accuracy: 0.53\n"
     ]
    }
   ],
   "source": [
    "cm3 = confusion_matrix(y_test, y_pred25, labels = [\"Passif\", \"Aligné\", \"Engagé\",\"Moteur\",\"Déchiré\", \"Opposant\", \"Irréductible\"])\n",
    "print(cm3)\n",
    "print(\"Précision:\", precision_score(y_test, y_pred25, average='macro'))\n",
    "print(\"Rappel:\", recall_score(y_test, y_pred25, average='macro'))\n",
    "print(\"Score F1:\", f1_score(y_test, y_pred25, average='macro'))\n",
    "print(\"Accuracy:\", accuracy_score(y_test, y_pred25))"
   ]
  },
  {
   "cell_type": "markdown",
   "id": "5affeda6-1b27-4ba3-bd7e-6897b0c33bef",
   "metadata": {},
   "source": [
    "## Modèle 6 : MoritzLaurer/bge-m3-zeroshot-v2.0"
   ]
  },
  {
   "cell_type": "markdown",
   "id": "653900d6-302e-46a1-b4b4-9064e33e5a16",
   "metadata": {},
   "source": [
    "### Tache 1 : classification selon son niveau de synergie"
   ]
  },
  {
   "cell_type": "code",
   "execution_count": 83,
   "id": "98569d2e",
   "metadata": {},
   "outputs": [],
   "source": [
    "y_pred_synergy26 = []"
   ]
  },
  {
   "cell_type": "code",
   "execution_count": 84,
   "id": "6b74833e",
   "metadata": {},
   "outputs": [
    {
     "name": "stdout",
     "output_type": "stream",
     "text": [
      "Temps d'exécution : 5.96minutes\n"
     ]
    }
   ],
   "source": [
    "start = time.time()\n",
    "for text in avis[\"Sample_text\"]:\n",
    "    result = classifier6(text, text_synergy_labels2, multi_label = False )\n",
    "    result = result['labels'][0].split()[0]\n",
    "    if result == \"1\":\n",
    "        y_pred_synergy26.append(\"Minimaliste\")\n",
    "    elif result == \"2\":\n",
    "        y_pred_synergy26.append(\"Intéressé\")\n",
    "    elif result == \"3\" :\n",
    "        y_pred_synergy26.append(\"Coopérant\")\n",
    "    else :\n",
    "        y_pred_synergy26.append(\"Engagé\")\n",
    "end = time.time()\n",
    "execution_time261 = end - start\n",
    "execution_time261 = execution_time261/60\n",
    "\n",
    "print(f'Temps d\\'exécution : {execution_time261:.2f}minutes')"
   ]
  },
  {
   "cell_type": "code",
   "execution_count": 85,
   "id": "f07b5b16",
   "metadata": {},
   "outputs": [],
   "source": [
    "y_pred_synergy26 = np.array(y_pred_synergy26 )"
   ]
  },
  {
   "cell_type": "code",
   "execution_count": 86,
   "id": "80a9ab0b",
   "metadata": {},
   "outputs": [
    {
     "name": "stdout",
     "output_type": "stream",
     "text": [
      "[[29  1  0  0]\n",
      " [19  2  2  1]\n",
      " [ 3  0 13  3]\n",
      " [ 3  0 14 10]]\n",
      "Précision: 0.5915663200145959\n",
      "Rappel: 0.52614522417154\n",
      "Score F1: 0.4670239708349464\n",
      "Accuracy: 0.54\n"
     ]
    }
   ],
   "source": [
    "cm = confusion_matrix(y_test_synergy, y_pred_synergy26, labels = [\"Minimaliste\", \"Intéressé\", \"Coopérant\",\"Engagé\"])\n",
    "print(cm)\n",
    "print(\"Précision:\", precision_score(y_test_synergy, y_pred_synergy26, average='macro'))\n",
    "print(\"Rappel:\", recall_score(y_test_synergy, y_pred_synergy26, average='macro'))\n",
    "print(\"Score F1:\", f1_score(y_test_synergy, y_pred_synergy26, average='macro'))\n",
    "print(\"Accuracy:\", accuracy_score(y_test_synergy, y_pred_synergy26))"
   ]
  },
  {
   "cell_type": "markdown",
   "id": "5ceb1a49-97d0-46ac-b349-9004ff69979e",
   "metadata": {},
   "source": [
    "### Tache 2 : classification selon son niveau d'antagonisme"
   ]
  },
  {
   "cell_type": "code",
   "execution_count": 87,
   "id": "0dcd6adf",
   "metadata": {},
   "outputs": [],
   "source": [
    "y_pred_antagonism26 = []"
   ]
  },
  {
   "cell_type": "code",
   "execution_count": 88,
   "id": "dac4a2e6",
   "metadata": {},
   "outputs": [
    {
     "name": "stdout",
     "output_type": "stream",
     "text": [
      "Temps d'exécution : 5.66minutes\n"
     ]
    }
   ],
   "source": [
    "start = time.time()\n",
    "for text in avis[\"Sample_text\"]:\n",
    "    result = classifier6(text, text_antagonism_labels2, multi_label = False )\n",
    "    result = result['labels'][0].split()[0]\n",
    "    if result == \"1\":\n",
    "        y_pred_antagonism26.append(\"Conciliant\")\n",
    "    elif result == \"2\":\n",
    "        y_pred_antagonism26.append(\"Résistant\")\n",
    "    elif result == \"3\" :\n",
    "        y_pred_antagonism26.append(\"Opposant\")\n",
    "    else :\n",
    "        y_pred_antagonism26.append(\"Irréconciliant\")\n",
    "end = time.time()\n",
    "execution_time262 = end - start\n",
    "execution_time262 = execution_time262/60\n",
    "\n",
    "print(f'Temps d\\'exécution : {execution_time262:.2f}minutes')"
   ]
  },
  {
   "cell_type": "code",
   "execution_count": 89,
   "id": "889f0716",
   "metadata": {},
   "outputs": [],
   "source": [
    "y_pred_antagonism26 = np.array(y_pred_antagonism26)"
   ]
  },
  {
   "cell_type": "code",
   "execution_count": 90,
   "id": "ce51e3aa",
   "metadata": {},
   "outputs": [
    {
     "name": "stdout",
     "output_type": "stream",
     "text": [
      "[[23  0  2  1]\n",
      " [15 10  7  1]\n",
      " [ 9  9  3  3]\n",
      " [ 3  2  1 11]]\n",
      "Précision: 0.46361492673992677\n",
      "Rappel: 0.4899261277937748\n",
      "Score F1: 0.45111558927348405\n",
      "Accuracy: 0.47\n"
     ]
    }
   ],
   "source": [
    "cm2 = confusion_matrix(y_test_antagonism, y_pred_antagonism26, labels = [\"Conciliant\", \"Résistant\", \"Opposant\",\"Irréconciliant\"])\n",
    "print(cm2)\n",
    "print(\"Précision:\", precision_score(y_test_antagonism, y_pred_antagonism26, average='macro'))\n",
    "print(\"Rappel:\", recall_score(y_test_antagonism, y_pred_antagonism26, average='macro'))\n",
    "print(\"Score F1:\", f1_score(y_test_antagonism, y_pred_antagonism26, average='macro'))\n",
    "print(\"Accuracy:\", accuracy_score(y_test_antagonism, y_pred_antagonism26))"
   ]
  },
  {
   "cell_type": "code",
   "execution_count": 91,
   "id": "88bf3712",
   "metadata": {},
   "outputs": [],
   "source": [
    "predictions_bge_m3_zeroshot_v2_0_2 = pd.DataFrame({\n",
    "    'synergy': y_pred_synergy26,\n",
    "    'antagonism': y_pred_antagonism26\n",
    "})"
   ]
  },
  {
   "cell_type": "markdown",
   "id": "a59aac0c-609e-4819-b7ea-9d56ec4d5073",
   "metadata": {},
   "source": [
    "### Tache 3 : classification finale"
   ]
  },
  {
   "cell_type": "code",
   "execution_count": 92,
   "id": "bf333849",
   "metadata": {},
   "outputs": [],
   "source": [
    "predictions_bge_m3_zeroshot_v2_0_2['class'] =predictions_bge_m3_zeroshot_v2_0_2.apply(assign_group, axis=1)"
   ]
  },
  {
   "cell_type": "code",
   "execution_count": 93,
   "id": "e7389f23",
   "metadata": {},
   "outputs": [],
   "source": [
    "y_pred26 = predictions_bge_m3_zeroshot_v2_0_2[\"class\"]"
   ]
  },
  {
   "cell_type": "code",
   "execution_count": 94,
   "id": "001c7080",
   "metadata": {},
   "outputs": [
    {
     "name": "stdout",
     "output_type": "stream",
     "text": [
      "[[19  2  1  0  0  5  1]\n",
      " [ 1  4  1  0  1  0  0]\n",
      " [ 0  2  2  1  0  0  0]\n",
      " [ 3  6  4 13  1  0  1]\n",
      " [ 0  1  0  1  3  0  1]\n",
      " [12  0  0  0  0  2  1]\n",
      " [ 4  0  0  0  0  0  7]]\n",
      "Précision: 0.48465582037010607\n",
      "Rappel: 0.48342609771181205\n",
      "Score F1: 0.45811148240860133\n",
      "Accuracy: 0.5\n"
     ]
    }
   ],
   "source": [
    "cm3 = confusion_matrix(y_test, y_pred26, labels = [\"Passif\", \"Aligné\", \"Engagé\",\"Moteur\",\"Déchiré\", \"Opposant\", \"Irréductible\"])\n",
    "print(cm3)\n",
    "print(\"Précision:\", precision_score(y_test, y_pred26, average='macro'))\n",
    "print(\"Rappel:\", recall_score(y_test, y_pred26, average='macro'))\n",
    "print(\"Score F1:\", f1_score(y_test, y_pred26, average='macro'))\n",
    "print(\"Accuracy:\", accuracy_score(y_test, y_pred26))"
   ]
  },
  {
   "cell_type": "markdown",
   "id": "2daad874-108a-4107-9c5d-90dc2f3306a6",
   "metadata": {},
   "source": [
    "# Formulation optimale"
   ]
  },
  {
   "cell_type": "markdown",
   "id": "b2112459-dbfb-4b74-b91a-fbf9add2e5e5",
   "metadata": {},
   "source": [
    "## Modèle 1 : facebook/bart-large-mnli\""
   ]
  },
  {
   "cell_type": "markdown",
   "id": "ecd0fe7d-fd65-438d-84e2-ddbf1895cfc8",
   "metadata": {},
   "source": [
    "### Tache 1 : classification selon son niveau de synergie"
   ]
  },
  {
   "cell_type": "code",
   "execution_count": 95,
   "id": "1dd89d3d",
   "metadata": {},
   "outputs": [],
   "source": [
    "y_pred_synergy31 = []"
   ]
  },
  {
   "cell_type": "code",
   "execution_count": 96,
   "id": "23157181",
   "metadata": {},
   "outputs": [
    {
     "name": "stdout",
     "output_type": "stream",
     "text": [
      "Temps d'exécution : 11.53minutes\n"
     ]
    }
   ],
   "source": [
    "start = time.time()\n",
    "for text in avis[\"Sample_text\"]:\n",
    "    text = translator.translate(text, target_lang='en')\n",
    "    result = classifier1(text, text_synergy_labels3e, multi_label = False )\n",
    "    result = result['labels'][0].split()[0]\n",
    "    if result == \"1\":\n",
    "        y_pred_synergy31.append(\"Minimaliste\")\n",
    "    elif result == \"2\":\n",
    "        y_pred_synergy31.append(\"Intéressé\")\n",
    "    elif result == \"3\" :\n",
    "        y_pred_synergy31.append(\"Coopérant\")\n",
    "    else :\n",
    "        y_pred_synergy31.append(\"Engagé\")\n",
    "end = time.time()\n",
    "execution_time311 = end - start\n",
    "execution_time311 = execution_time311/60\n",
    "\n",
    "print(f'Temps d\\'exécution : {execution_time311:.2f}minutes')\n"
   ]
  },
  {
   "cell_type": "code",
   "execution_count": 97,
   "id": "c327b0ce",
   "metadata": {},
   "outputs": [],
   "source": [
    "y_pred_synergy31 = np.array(y_pred_synergy31)"
   ]
  },
  {
   "cell_type": "code",
   "execution_count": 98,
   "id": "483973cd",
   "metadata": {},
   "outputs": [
    {
     "data": {
      "text/plain": [
       "array(['Intéressé', 'Intéressé', 'Engagé', 'Intéressé', 'Intéressé',\n",
       "       'Minimaliste', 'Intéressé', 'Minimaliste', 'Intéressé',\n",
       "       'Minimaliste', 'Intéressé', 'Coopérant', 'Intéressé', 'Engagé',\n",
       "       'Minimaliste', 'Engagé', 'Intéressé', 'Intéressé', 'Intéressé',\n",
       "       'Intéressé', 'Minimaliste', 'Intéressé', 'Minimaliste',\n",
       "       'Minimaliste', 'Minimaliste', 'Intéressé', 'Intéressé',\n",
       "       'Intéressé', 'Intéressé', 'Engagé', 'Intéressé', 'Intéressé',\n",
       "       'Intéressé', 'Intéressé', 'Intéressé', 'Intéressé', 'Engagé',\n",
       "       'Minimaliste', 'Intéressé', 'Engagé', 'Minimaliste', 'Intéressé',\n",
       "       'Intéressé', 'Intéressé', 'Intéressé', 'Intéressé', 'Intéressé',\n",
       "       'Intéressé', 'Intéressé', 'Coopérant', 'Intéressé', 'Intéressé',\n",
       "       'Minimaliste', 'Intéressé', 'Intéressé', 'Intéressé', 'Intéressé',\n",
       "       'Engagé', 'Intéressé', 'Engagé', 'Coopérant', 'Engagé',\n",
       "       'Intéressé', 'Coopérant', 'Coopérant', 'Intéressé', 'Minimaliste',\n",
       "       'Intéressé', 'Intéressé', 'Minimaliste', 'Intéressé', 'Intéressé',\n",
       "       'Intéressé', 'Coopérant', 'Coopérant', 'Engagé', 'Minimaliste',\n",
       "       'Intéressé', 'Intéressé', 'Intéressé', 'Intéressé', 'Minimaliste',\n",
       "       'Minimaliste', 'Coopérant', 'Coopérant', 'Intéressé', 'Intéressé',\n",
       "       'Coopérant', 'Coopérant', 'Minimaliste', 'Intéressé', 'Coopérant',\n",
       "       'Intéressé', 'Intéressé', 'Intéressé', 'Intéressé', 'Engagé',\n",
       "       'Minimaliste', 'Intéressé', 'Intéressé'], dtype='<U11')"
      ]
     },
     "execution_count": 98,
     "metadata": {},
     "output_type": "execute_result"
    }
   ],
   "source": [
    "y_pred_synergy31"
   ]
  },
  {
   "cell_type": "code",
   "execution_count": 99,
   "id": "cd2c16aa",
   "metadata": {},
   "outputs": [
    {
     "name": "stdout",
     "output_type": "stream",
     "text": [
      "[[13 17  0  0]\n",
      " [ 2 21  0  1]\n",
      " [ 2  7  6  4]\n",
      " [ 1 14  6  6]]\n",
      "Précision: 0.5309022427666495\n",
      "Rappel: 0.4615862573099415\n",
      "Score F1: 0.43764425273249197\n",
      "Accuracy: 0.46\n"
     ]
    }
   ],
   "source": [
    "cm = confusion_matrix(y_test_synergy, y_pred_synergy31, labels = [\"Minimaliste\", \"Intéressé\", \"Coopérant\",\"Engagé\"])\n",
    "print(cm)\n",
    "print(\"Précision:\", precision_score(y_test_synergy, y_pred_synergy31, average='macro'))\n",
    "print(\"Rappel:\", recall_score(y_test_synergy, y_pred_synergy31, average='macro'))\n",
    "print(\"Score F1:\", f1_score(y_test_synergy, y_pred_synergy31, average='macro'))\n",
    "print(\"Accuracy:\", accuracy_score(y_test_synergy, y_pred_synergy31))"
   ]
  },
  {
   "cell_type": "markdown",
   "id": "5d2330e1-48af-4fa8-89cc-3b814ca5041e",
   "metadata": {},
   "source": [
    "### Tache 2 : classification selon son niveau d'antagonisme"
   ]
  },
  {
   "cell_type": "code",
   "execution_count": 100,
   "id": "dd0ea3cb",
   "metadata": {},
   "outputs": [],
   "source": [
    "y_pred_antagonism31 = []"
   ]
  },
  {
   "cell_type": "code",
   "execution_count": 101,
   "id": "83be11b4",
   "metadata": {},
   "outputs": [
    {
     "name": "stdout",
     "output_type": "stream",
     "text": [
      "Temps d'exécution : 10.80minutes\n"
     ]
    }
   ],
   "source": [
    "start = time.time()\n",
    "for text in avis[\"Sample_text\"]:\n",
    "    text = translator.translate(text, target_lang='en')\n",
    "    result = classifier1(text, text_antagonism_labels3e, multi_label = False )\n",
    "    result = result['labels'][0].split()[0]\n",
    "    if result == \"1\":\n",
    "        y_pred_antagonism31.append(\"Conciliant\")\n",
    "    elif result == \"2\":\n",
    "        y_pred_antagonism31.append(\"Résistant\")\n",
    "    elif result == \"3\" :\n",
    "        y_pred_antagonism31.append(\"Opposant\")\n",
    "    else :\n",
    "        y_pred_antagonism31.append(\"Irréconciliant\")\n",
    "end = time.time()\n",
    "execution_time312 = end - start\n",
    "execution_time312 = execution_time312/60\n",
    "\n",
    "print(f'Temps d\\'exécution : {execution_time312:.2f}minutes')"
   ]
  },
  {
   "cell_type": "code",
   "execution_count": 102,
   "id": "00b0a655",
   "metadata": {},
   "outputs": [],
   "source": [
    "y_pred_antagonism31 = np.array(y_pred_antagonism31)"
   ]
  },
  {
   "cell_type": "code",
   "execution_count": 103,
   "id": "a1e301b1",
   "metadata": {},
   "outputs": [
    {
     "name": "stdout",
     "output_type": "stream",
     "text": [
      "[[26  0  0  0]\n",
      " [ 5 28  0  0]\n",
      " [ 6 16  2  0]\n",
      " [ 3  5  7  2]]\n",
      "Précision: 0.6109126984126985\n",
      "Rappel: 0.5123663101604278\n",
      "Score F1: 0.45063601353716887\n",
      "Accuracy: 0.58\n"
     ]
    }
   ],
   "source": [
    "cm2 = confusion_matrix(y_test_antagonism, y_pred_antagonism31, labels = [\"Conciliant\", \"Résistant\", \"Opposant\",\"Irréconciliant\"])\n",
    "print(cm2)\n",
    "print(\"Précision:\", precision_score(y_test_antagonism, y_pred_antagonism31, average='macro'))\n",
    "print(\"Rappel:\", recall_score(y_test_antagonism, y_pred_antagonism31, average='macro'))\n",
    "print(\"Score F1:\", f1_score(y_test_antagonism, y_pred_antagonism31, average='macro'))\n",
    "print(\"Accuracy:\", accuracy_score(y_test_antagonism, y_pred_antagonism31))"
   ]
  },
  {
   "cell_type": "code",
   "execution_count": 104,
   "id": "9c6fd12a",
   "metadata": {},
   "outputs": [],
   "source": [
    "predictions_bart_large_mnli_3 = pd.DataFrame({\n",
    "    'synergy': y_pred_synergy31,\n",
    "    'antagonism': y_pred_antagonism31\n",
    "})"
   ]
  },
  {
   "cell_type": "markdown",
   "id": "28562084-40e1-442d-8d46-b15c9d45a805",
   "metadata": {},
   "source": [
    "### Tache 3 : classification finale"
   ]
  },
  {
   "cell_type": "code",
   "execution_count": 105,
   "id": "8d002f4e",
   "metadata": {},
   "outputs": [],
   "source": [
    "predictions_bart_large_mnli_3['class'] = predictions_bart_large_mnli_3.apply(assign_group, axis=1)"
   ]
  },
  {
   "cell_type": "code",
   "execution_count": 106,
   "id": "59fe5c3b",
   "metadata": {},
   "outputs": [],
   "source": [
    "y_pred31 = predictions_bart_large_mnli_3 [\"class\"]"
   ]
  },
  {
   "cell_type": "code",
   "execution_count": 107,
   "id": "fecba495",
   "metadata": {},
   "outputs": [
    {
     "name": "stdout",
     "output_type": "stream",
     "text": [
      "[[27  0  0  1  0  0  0]\n",
      " [ 3  2  2  0  0  0  0]\n",
      " [ 2  2  1  0  0  0  0]\n",
      " [16  1  2  9  0  0  0]\n",
      " [ 2  0  0  3  0  1  0]\n",
      " [13  0  0  0  0  2  0]\n",
      " [ 6  0  0  0  0  3  2]]\n",
      "Précision: 0.4309921962095875\n",
      "Rappel: 0.298082869511441\n",
      "Score F1: 0.2896038932390813\n",
      "Accuracy: 0.43\n"
     ]
    },
    {
     "name": "stderr",
     "output_type": "stream",
     "text": [
      "C:\\Users\\HP\\anaconda3\\lib\\site-packages\\sklearn\\metrics\\_classification.py:1318: UndefinedMetricWarning: Precision is ill-defined and being set to 0.0 in labels with no predicted samples. Use `zero_division` parameter to control this behavior.\n",
      "  _warn_prf(average, modifier, msg_start, len(result))\n"
     ]
    }
   ],
   "source": [
    "cm3 = confusion_matrix(y_test, y_pred31, labels = [\"Passif\", \"Aligné\", \"Engagé\",\"Moteur\",\"Déchiré\", \"Opposant\", \"Irréductible\"])\n",
    "print(cm3)\n",
    "print(\"Précision:\", precision_score(y_test, y_pred31, average='macro'))\n",
    "print(\"Rappel:\", recall_score(y_test, y_pred31, average='macro'))\n",
    "print(\"Score F1:\", f1_score(y_test, y_pred31, average='macro'))\n",
    "print(\"Accuracy:\", accuracy_score(y_test, y_pred31))"
   ]
  },
  {
   "cell_type": "markdown",
   "id": "75c816a5-2fe8-49c7-99f2-16669954b4bd",
   "metadata": {},
   "source": [
    "## Modèle 2 : \"MoritzLaurer/deberta-v3-large-zeroshot-v2.0\""
   ]
  },
  {
   "cell_type": "markdown",
   "id": "8553e22d-996c-4d77-a789-e6d902ef392d",
   "metadata": {},
   "source": [
    "### Tache 1 : classification selon son niveau de synergie"
   ]
  },
  {
   "cell_type": "code",
   "execution_count": 108,
   "id": "999f120f",
   "metadata": {},
   "outputs": [],
   "source": [
    "y_pred_synergy32 = []"
   ]
  },
  {
   "cell_type": "code",
   "execution_count": 109,
   "id": "e32303cd",
   "metadata": {},
   "outputs": [
    {
     "name": "stdout",
     "output_type": "stream",
     "text": [
      "Temps d'exécution : 10.42minutes\n"
     ]
    }
   ],
   "source": [
    "start = time.time()\n",
    "for text in avis[\"Sample_text\"]:\n",
    "    result = classifier2(text, text_synergy_labels3, multi_label = False )\n",
    "    result = result['labels'][0].split()[0]\n",
    "    if result == \"1\":\n",
    "        y_pred_synergy32.append(\"Minimaliste\")\n",
    "    elif result == \"2\":\n",
    "        y_pred_synergy32.append(\"Intéressé\")\n",
    "    elif result == \"3\" :\n",
    "        y_pred_synergy32.append(\"Coopérant\")\n",
    "    else :\n",
    "        y_pred_synergy32.append(\"Engagé\")\n",
    "end = time.time()\n",
    "execution_time321 = end - start\n",
    "execution_time321 = execution_time321/60\n",
    "\n",
    "print(f'Temps d\\'exécution : {execution_time321:.2f}minutes')\n"
   ]
  },
  {
   "cell_type": "code",
   "execution_count": 110,
   "id": "6c3e0523",
   "metadata": {},
   "outputs": [],
   "source": [
    "y_pred_synergy32 = np.array(y_pred_synergy32)"
   ]
  },
  {
   "cell_type": "code",
   "execution_count": 111,
   "id": "a070d5cc",
   "metadata": {},
   "outputs": [
    {
     "name": "stdout",
     "output_type": "stream",
     "text": [
      "[[26  4  0  0]\n",
      " [ 3 19  1  1]\n",
      " [ 1  0 13  5]\n",
      " [ 0  0  8 19]]\n",
      "Précision: 0.7609156785243743\n",
      "Rappel: 0.7615618908382066\n",
      "Score F1: 0.7600232192992962\n",
      "Accuracy: 0.77\n"
     ]
    }
   ],
   "source": [
    "cm = confusion_matrix(y_test_synergy, y_pred_synergy32, labels = [\"Minimaliste\", \"Intéressé\", \"Coopérant\",\"Engagé\"])\n",
    "print(cm)\n",
    "print(\"Précision:\", precision_score(y_test_synergy, y_pred_synergy32, average='macro'))\n",
    "print(\"Rappel:\", recall_score(y_test_synergy, y_pred_synergy32, average='macro'))\n",
    "print(\"Score F1:\", f1_score(y_test_synergy, y_pred_synergy32, average='macro'))\n",
    "print(\"Accuracy:\", accuracy_score(y_test_synergy, y_pred_synergy32))"
   ]
  },
  {
   "cell_type": "markdown",
   "id": "41f3ce51-8c03-4e44-a2ce-4005f05117b4",
   "metadata": {},
   "source": [
    "### Tache 2 : classification selon son niveau d'antagonisme"
   ]
  },
  {
   "cell_type": "code",
   "execution_count": 112,
   "id": "707014a5",
   "metadata": {},
   "outputs": [],
   "source": [
    "y_pred_antagonism32 = []"
   ]
  },
  {
   "cell_type": "code",
   "execution_count": 113,
   "id": "97eec8b6",
   "metadata": {},
   "outputs": [
    {
     "name": "stdout",
     "output_type": "stream",
     "text": [
      "Temps d'exécution : 10.80minutes\n"
     ]
    }
   ],
   "source": [
    "start = time.time()\n",
    "for text in avis[\"Sample_text\"]:\n",
    "    result = classifier2(text, text_antagonism_labels3, multi_label = False )\n",
    "    result = result['labels'][0].split()[0]\n",
    "    if result == \"1\":\n",
    "        y_pred_antagonism32.append(\"Conciliant\")\n",
    "    elif result == \"2\":\n",
    "        y_pred_antagonism32.append(\"Résistant\")\n",
    "    elif result == \"3\" :\n",
    "        y_pred_antagonism32.append(\"Opposant\")\n",
    "    else :\n",
    "        y_pred_antagonism32.append(\"Irréconciliant\")\n",
    "end = time.time()\n",
    "execution_time322 = end - start\n",
    "execution_time322 = execution_time322/60\n",
    "\n",
    "print(f'Temps d\\'exécution : {execution_time322:.2f}minutes')"
   ]
  },
  {
   "cell_type": "code",
   "execution_count": 114,
   "id": "fb93109b",
   "metadata": {},
   "outputs": [],
   "source": [
    "y_pred_antagonism32 = np.array(y_pred_antagonism32)"
   ]
  },
  {
   "cell_type": "code",
   "execution_count": 115,
   "id": "3da1c475",
   "metadata": {},
   "outputs": [
    {
     "name": "stdout",
     "output_type": "stream",
     "text": [
      "[[25  1  0  0]\n",
      " [ 4 29  0  0]\n",
      " [ 0  7 16  1]\n",
      " [ 0  3  3 11]]\n",
      "Précision: 0.8364602238354507\n",
      "Rappel: 0.7885129576306047\n",
      "Score F1: 0.8016045483007287\n",
      "Accuracy: 0.81\n"
     ]
    }
   ],
   "source": [
    "cm2 = confusion_matrix(y_test_antagonism, y_pred_antagonism32, labels = [\"Conciliant\", \"Résistant\", \"Opposant\",\"Irréconciliant\"])\n",
    "print(cm2)\n",
    "print(\"Précision:\", precision_score(y_test_antagonism, y_pred_antagonism32, average='macro'))\n",
    "print(\"Rappel:\", recall_score(y_test_antagonism, y_pred_antagonism32, average='macro'))\n",
    "print(\"Score F1:\", f1_score(y_test_antagonism, y_pred_antagonism32, average='macro'))\n",
    "print(\"Accuracy:\", accuracy_score(y_test_antagonism, y_pred_antagonism32))"
   ]
  },
  {
   "cell_type": "code",
   "execution_count": 116,
   "id": "94d28016",
   "metadata": {},
   "outputs": [],
   "source": [
    "predictions_deberta_v3_large_zeroshot_v2_0_3 = pd.DataFrame({\n",
    "    'synergy': y_pred_synergy32,\n",
    "    'antagonism': y_pred_antagonism32\n",
    "})"
   ]
  },
  {
   "cell_type": "markdown",
   "id": "d27c2140-f002-4a48-8ffb-05a0031d98cc",
   "metadata": {},
   "source": [
    "### Tache 3 : classification finale"
   ]
  },
  {
   "cell_type": "code",
   "execution_count": 117,
   "id": "91c446ee",
   "metadata": {},
   "outputs": [],
   "source": [
    "predictions_deberta_v3_large_zeroshot_v2_0_3['class'] =predictions_deberta_v3_large_zeroshot_v2_0_3.apply(assign_group, axis=1)"
   ]
  },
  {
   "cell_type": "code",
   "execution_count": 118,
   "id": "8ae8ba80",
   "metadata": {},
   "outputs": [],
   "source": [
    "y_pred32 = predictions_deberta_v3_large_zeroshot_v2_0_3[\"class\"]"
   ]
  },
  {
   "cell_type": "code",
   "execution_count": 119,
   "id": "8eac7f42",
   "metadata": {},
   "outputs": [
    {
     "name": "stdout",
     "output_type": "stream",
     "text": [
      "[[26  1  0  1  0  0  0]\n",
      " [ 0  5  2  0  0  0  0]\n",
      " [ 0  3  2  0  0  0  0]\n",
      " [ 1  2  0 24  1  0  0]\n",
      " [ 0  0  0  2  4  0  0]\n",
      " [ 3  0  0  0  0 12  0]\n",
      " [ 2  0  0  0  0  2  7]]\n",
      "Précision: 0.7590110286538858\n",
      "Rappel: 0.7147186147186148\n",
      "Score F1: 0.7245758073344281\n",
      "Accuracy: 0.8\n"
     ]
    }
   ],
   "source": [
    "cm3 = confusion_matrix(y_test, y_pred32, labels = [\"Passif\", \"Aligné\", \"Engagé\",\"Moteur\",\"Déchiré\", \"Opposant\", \"Irréductible\"])\n",
    "print(cm3)\n",
    "print(\"Précision:\", precision_score(y_test, y_pred32, average='macro'))\n",
    "print(\"Rappel:\", recall_score(y_test, y_pred32, average='macro'))\n",
    "print(\"Score F1:\", f1_score(y_test, y_pred32, average='macro'))\n",
    "print(\"Accuracy:\", accuracy_score(y_test, y_pred32))"
   ]
  },
  {
   "cell_type": "markdown",
   "id": "5594cdbb-6c1d-4927-8575-902e2df001c8",
   "metadata": {},
   "source": [
    "## Modèle 3 : MoritzLaurer/deberta-v3-large-zeroshot-v2.0-c"
   ]
  },
  {
   "cell_type": "markdown",
   "id": "91deff6d-5a7e-4eeb-adab-c7fa4d9838c8",
   "metadata": {},
   "source": [
    "## Tache 1 : classification selon son niveau de synergie"
   ]
  },
  {
   "cell_type": "code",
   "execution_count": 120,
   "id": "372ce623",
   "metadata": {},
   "outputs": [],
   "source": [
    "y_pred_synergy33 = []"
   ]
  },
  {
   "cell_type": "code",
   "execution_count": 121,
   "id": "c7737a97",
   "metadata": {},
   "outputs": [
    {
     "name": "stdout",
     "output_type": "stream",
     "text": [
      "Temps d'exécution : 0.18minutes\n"
     ]
    }
   ],
   "source": [
    "start = time.time()\n",
    "for text in avis[\"Sample_text\"]:\n",
    "    result = classifier3(text, text_synergy_labels3, multi_label = False )\n",
    "    result = result['labels'][0].split()[0]\n",
    "    if result == \"1\":\n",
    "        y_pred_synergy33.append(\"Minimaliste\")\n",
    "    elif result == \"2\":\n",
    "        y_pred_synergy33.append(\"Intéressé\")\n",
    "    elif result == \"3\" :\n",
    "        y_pred_synergy33.append(\"Coopérant\")\n",
    "    else :\n",
    "        y_pred_synergy33.append(\"Engagé\")\n",
    "end = time.time()\n",
    "execution_time331 = end - start\n",
    "execution_time331 = execution_time231/60\n",
    "\n",
    "print(f'Temps d\\'exécution : {execution_time331:.2f}minutes')"
   ]
  },
  {
   "cell_type": "code",
   "execution_count": 122,
   "id": "c7a5eec9",
   "metadata": {},
   "outputs": [],
   "source": [
    "y_pred_synergy33 = np.array(y_pred_synergy33)"
   ]
  },
  {
   "cell_type": "code",
   "execution_count": 123,
   "id": "3190f904",
   "metadata": {},
   "outputs": [
    {
     "name": "stdout",
     "output_type": "stream",
     "text": [
      "[[25  2  1  2]\n",
      " [ 6 15  2  1]\n",
      " [ 1  0 15  3]\n",
      " [ 0  1 18  8]]\n",
      "Précision: 0.6506696428571429\n",
      "Rappel: 0.636025828460039\n",
      "Score F1: 0.6141089437706275\n",
      "Accuracy: 0.63\n"
     ]
    }
   ],
   "source": [
    "cm = confusion_matrix(y_test_synergy, y_pred_synergy33, labels = [\"Minimaliste\", \"Intéressé\", \"Coopérant\",\"Engagé\"])\n",
    "print(cm)\n",
    "print(\"Précision:\", precision_score(y_test_synergy, y_pred_synergy33, average='macro'))\n",
    "print(\"Rappel:\", recall_score(y_test_synergy, y_pred_synergy33, average='macro'))\n",
    "print(\"Score F1:\", f1_score(y_test_synergy, y_pred_synergy33, average='macro'))\n",
    "print(\"Accuracy:\", accuracy_score(y_test_synergy, y_pred_synergy33))"
   ]
  },
  {
   "cell_type": "markdown",
   "id": "a4947fa6-e629-4ce5-be10-26b348c1f7ac",
   "metadata": {},
   "source": [
    "### Tache 2 : classification selon son niveau d'antagonisme"
   ]
  },
  {
   "cell_type": "code",
   "execution_count": 124,
   "id": "80d6dbc6",
   "metadata": {},
   "outputs": [],
   "source": [
    "y_pred_antagonism33 = []"
   ]
  },
  {
   "cell_type": "code",
   "execution_count": 125,
   "id": "878d2677",
   "metadata": {},
   "outputs": [
    {
     "name": "stdout",
     "output_type": "stream",
     "text": [
      "Temps d'exécution : 10.65minutes\n"
     ]
    }
   ],
   "source": [
    "start = time.time()\n",
    "for text in avis[\"Sample_text\"]:\n",
    "    result = classifier3(text, text_antagonism_labels3, multi_label = False )\n",
    "    result = result['labels'][0].split()[0]\n",
    "    if result == \"1\":\n",
    "        y_pred_antagonism33.append(\"Conciliant\")\n",
    "    elif result == \"2\":\n",
    "        y_pred_antagonism33.append(\"Résistant\")\n",
    "    elif result == \"3\" :\n",
    "        y_pred_antagonism33.append(\"Opposant\")\n",
    "    else :\n",
    "        y_pred_antagonism33.append(\"Irréconciliant\")\n",
    "end = time.time()\n",
    "execution_time332 = end - start\n",
    "execution_time332 = execution_time332/60\n",
    "\n",
    "print(f'Temps d\\'exécution : {execution_time332:.2f}minutes')"
   ]
  },
  {
   "cell_type": "code",
   "execution_count": 126,
   "id": "e11a416f",
   "metadata": {},
   "outputs": [],
   "source": [
    "y_pred_antagonism33 = np.array(y_pred_antagonism33)"
   ]
  },
  {
   "cell_type": "code",
   "execution_count": 127,
   "id": "d5a56a05",
   "metadata": {},
   "outputs": [
    {
     "name": "stdout",
     "output_type": "stream",
     "text": [
      "[[25  1  0  0]\n",
      " [ 4 29  0  0]\n",
      " [ 0 11 12  1]\n",
      " [ 0  2  4 11]]\n",
      "Précision: 0.8007885592087677\n",
      "Rappel: 0.7468462909639381\n",
      "Score F1: 0.7577173733707309\n",
      "Accuracy: 0.77\n"
     ]
    }
   ],
   "source": [
    "cm2 = confusion_matrix(y_test_antagonism, y_pred_antagonism33, labels = [\"Conciliant\", \"Résistant\", \"Opposant\",\"Irréconciliant\"])\n",
    "print(cm2)\n",
    "print(\"Précision:\", precision_score(y_test_antagonism, y_pred_antagonism33, average='macro'))\n",
    "print(\"Rappel:\", recall_score(y_test_antagonism, y_pred_antagonism33, average='macro'))\n",
    "print(\"Score F1:\", f1_score(y_test_antagonism, y_pred_antagonism33, average='macro'))\n",
    "print(\"Accuracy:\", accuracy_score(y_test_antagonism, y_pred_antagonism33))"
   ]
  },
  {
   "cell_type": "code",
   "execution_count": 128,
   "id": "79d1af48",
   "metadata": {},
   "outputs": [],
   "source": [
    "predictions_deberta_v3_large_zeroshot_v2_0_c_3 = pd.DataFrame({\n",
    "    'synergy': y_pred_synergy33,\n",
    "    'antagonism': y_pred_antagonism33\n",
    "})"
   ]
  },
  {
   "cell_type": "markdown",
   "id": "9227ea5d-5c0b-4ceb-ace8-1bb569e0b9a9",
   "metadata": {},
   "source": [
    "### Tache 3 : classification finale "
   ]
  },
  {
   "cell_type": "code",
   "execution_count": 129,
   "id": "8d636248",
   "metadata": {},
   "outputs": [],
   "source": [
    "predictions_deberta_v3_large_zeroshot_v2_0_c_3['class'] =predictions_deberta_v3_large_zeroshot_v2_0_c_3.apply(assign_group, axis=1)"
   ]
  },
  {
   "cell_type": "code",
   "execution_count": 130,
   "id": "8e4b14d8",
   "metadata": {},
   "outputs": [],
   "source": [
    "y_pred33 = predictions_deberta_v3_large_zeroshot_v2_0_c_3[\"class\"]"
   ]
  },
  {
   "cell_type": "code",
   "execution_count": 131,
   "id": "27074ad5",
   "metadata": {},
   "outputs": [
    {
     "name": "stdout",
     "output_type": "stream",
     "text": [
      "[[26  1  0  1  0  0  0]\n",
      " [ 0  6  1  0  0  0  0]\n",
      " [ 0  5  0  0  0  0  0]\n",
      " [ 2  3  0 22  1  0  0]\n",
      " [ 0  0  0  2  4  0  0]\n",
      " [ 5  0  0  2  0  8  0]\n",
      " [ 1  0  0  0  2  3  5]]\n",
      "Précision: 0.6111745708384364\n",
      "Rappel: 0.6037105751391465\n",
      "Score F1: 0.5771333505204472\n",
      "Accuracy: 0.71\n"
     ]
    }
   ],
   "source": [
    "cm3 = confusion_matrix(y_test, y_pred33, labels = [\"Passif\", \"Aligné\", \"Engagé\",\"Moteur\",\"Déchiré\", \"Opposant\", \"Irréductible\"])\n",
    "print(cm3)\n",
    "print(\"Précision:\", precision_score(y_test, y_pred33, average='macro'))\n",
    "print(\"Rappel:\", recall_score(y_test, y_pred33, average='macro'))\n",
    "print(\"Score F1:\", f1_score(y_test, y_pred33, average='macro'))\n",
    "print(\"Accuracy:\", accuracy_score(y_test, y_pred33))"
   ]
  },
  {
   "cell_type": "markdown",
   "id": "3f54d033-01de-4f1d-9ac0-4166675c8c70",
   "metadata": {},
   "source": [
    "## Modèle 4 : MoritzLaurer/deberta-v3-base-zeroshot-v2.0"
   ]
  },
  {
   "cell_type": "markdown",
   "id": "ca705d73-8d58-4405-913d-38c8d9a022a5",
   "metadata": {},
   "source": [
    "### Tache 1 : classification selon son niveau de synergie"
   ]
  },
  {
   "cell_type": "code",
   "execution_count": 132,
   "id": "3db6e4b1",
   "metadata": {},
   "outputs": [],
   "source": [
    "y_pred_synergy34 = []"
   ]
  },
  {
   "cell_type": "code",
   "execution_count": 133,
   "id": "0520c764",
   "metadata": {},
   "outputs": [
    {
     "name": "stdout",
     "output_type": "stream",
     "text": [
      "Temps d'exécution : 2.88minutes\n"
     ]
    }
   ],
   "source": [
    "start = time.time()\n",
    "for text in avis[\"Sample_text\"]:\n",
    "    result = classifier4(text, text_synergy_labels3, multi_label = False )\n",
    "    result = result['labels'][0].split()[0]\n",
    "    if result == \"1\":\n",
    "        y_pred_synergy34.append(\"Minimaliste\")\n",
    "    elif result == \"2\":\n",
    "        y_pred_synergy34.append(\"Intéressé\")\n",
    "    elif result == \"3\" :\n",
    "        y_pred_synergy34.append(\"Coopérant\")\n",
    "    else :\n",
    "        y_pred_synergy34.append(\"Engagé\")\n",
    "end = time.time()\n",
    "execution_time341 = end - start\n",
    "execution_time341 = execution_time341/60\n",
    "\n",
    "print(f'Temps d\\'exécution : {execution_time341:.2f}minutes')"
   ]
  },
  {
   "cell_type": "code",
   "execution_count": 134,
   "id": "5506e860",
   "metadata": {},
   "outputs": [],
   "source": [
    "y_pred_synergy34 = np.array(y_pred_synergy34 )"
   ]
  },
  {
   "cell_type": "code",
   "execution_count": 135,
   "id": "7e94f87c",
   "metadata": {},
   "outputs": [
    {
     "name": "stdout",
     "output_type": "stream",
     "text": [
      "[[26  1  0  3]\n",
      " [13  4  3  4]\n",
      " [ 1  0  5 13]\n",
      " [ 4  1  8 14]]\n",
      "Précision: 0.49546011586452765\n",
      "Rappel: 0.45375243664717346\n",
      "Score F1: 0.4285250121315695\n",
      "Accuracy: 0.49\n"
     ]
    }
   ],
   "source": [
    "cm = confusion_matrix(y_test_synergy, y_pred_synergy34, labels = [\"Minimaliste\", \"Intéressé\", \"Coopérant\",\"Engagé\"])\n",
    "print(cm)\n",
    "print(\"Précision:\", precision_score(y_test_synergy, y_pred_synergy34, average='macro'))\n",
    "print(\"Rappel:\", recall_score(y_test_synergy, y_pred_synergy34, average='macro'))\n",
    "print(\"Score F1:\", f1_score(y_test_synergy, y_pred_synergy34, average='macro'))\n",
    "print(\"Accuracy:\", accuracy_score(y_test_synergy, y_pred_synergy34))"
   ]
  },
  {
   "cell_type": "markdown",
   "id": "dba0ece5-2396-490a-a75d-e73e8bf884af",
   "metadata": {},
   "source": [
    "### Tache 2 : classification selon son niveau d'antagonisme"
   ]
  },
  {
   "cell_type": "code",
   "execution_count": 136,
   "id": "eaa42901",
   "metadata": {},
   "outputs": [],
   "source": [
    "y_pred_antagonism34 = []"
   ]
  },
  {
   "cell_type": "code",
   "execution_count": 137,
   "id": "dc0ad590",
   "metadata": {},
   "outputs": [
    {
     "name": "stdout",
     "output_type": "stream",
     "text": [
      "Temps d'exécution : 2.96minutes\n"
     ]
    }
   ],
   "source": [
    "start = time.time()\n",
    "for text in avis[\"Sample_text\"]:\n",
    "    result = classifier4(text, text_antagonism_labels3, multi_label = False )\n",
    "    result = result['labels'][0].split()[0]\n",
    "    if result == \"1\":\n",
    "        y_pred_antagonism34.append(\"Conciliant\")\n",
    "    elif result == \"2\":\n",
    "        y_pred_antagonism34.append(\"Résistant\")\n",
    "    elif result == \"3\" :\n",
    "        y_pred_antagonism34.append(\"Opposant\")\n",
    "    else :\n",
    "        y_pred_antagonism34.append(\"Irréconciliant\")\n",
    "end = time.time()\n",
    "execution_time342 = end - start\n",
    "execution_time342 = execution_time342/60\n",
    "\n",
    "print(f'Temps d\\'exécution : {execution_time342:.2f}minutes')"
   ]
  },
  {
   "cell_type": "code",
   "execution_count": 138,
   "id": "a12c85b2",
   "metadata": {},
   "outputs": [],
   "source": [
    "y_pred_antagonism34 = np.array(y_pred_antagonism34)"
   ]
  },
  {
   "cell_type": "code",
   "execution_count": 139,
   "id": "7bbc0e6d",
   "metadata": {},
   "outputs": [
    {
     "name": "stdout",
     "output_type": "stream",
     "text": [
      "[[26  0  0  0]\n",
      " [20 10  3  0]\n",
      " [13  3  7  1]\n",
      " [ 4  0  3 10]]\n",
      "Précision: 0.6573704073704073\n",
      "Rappel: 0.5457330659536542\n",
      "Score F1: 0.5279290910702733\n",
      "Accuracy: 0.53\n"
     ]
    }
   ],
   "source": [
    "cm2 = confusion_matrix(y_test_antagonism, y_pred_antagonism34, labels = [\"Conciliant\", \"Résistant\", \"Opposant\",\"Irréconciliant\"])\n",
    "print(cm2)\n",
    "print(\"Précision:\", precision_score(y_test_antagonism, y_pred_antagonism34, average='macro'))\n",
    "print(\"Rappel:\", recall_score(y_test_antagonism, y_pred_antagonism34, average='macro'))\n",
    "print(\"Score F1:\", f1_score(y_test_antagonism, y_pred_antagonism34, average='macro'))\n",
    "print(\"Accuracy:\", accuracy_score(y_test_antagonism, y_pred_antagonism34))"
   ]
  },
  {
   "cell_type": "code",
   "execution_count": 141,
   "id": "9578b17a",
   "metadata": {},
   "outputs": [],
   "source": [
    "predictions_deberta_v3_base_zeroshot_v2_0_3 = pd.DataFrame({\n",
    "    'synergy': y_pred_synergy34,\n",
    "    'antagonism': y_pred_antagonism34\n",
    "})"
   ]
  },
  {
   "cell_type": "markdown",
   "id": "30df7c93-bcc6-44a6-b999-b689c2f96b78",
   "metadata": {},
   "source": [
    "### Tache 3 : classification finale"
   ]
  },
  {
   "cell_type": "code",
   "execution_count": 142,
   "id": "8a2457ae",
   "metadata": {},
   "outputs": [],
   "source": [
    "predictions_deberta_v3_base_zeroshot_v2_0_3['class'] =predictions_deberta_v3_base_zeroshot_v2_0_3.apply(assign_group, axis=1)"
   ]
  },
  {
   "cell_type": "code",
   "execution_count": 143,
   "id": "07957354",
   "metadata": {},
   "outputs": [],
   "source": [
    "y_pred34 = predictions_deberta_v3_base_zeroshot_v2_0_3[\"class\"]"
   ]
  },
  {
   "cell_type": "code",
   "execution_count": 144,
   "id": "d277d9aa",
   "metadata": {},
   "outputs": [
    {
     "name": "stdout",
     "output_type": "stream",
     "text": [
      "[[18  0  5  3  0  2  0]\n",
      " [ 0  2  5  0  0  0  0]\n",
      " [ 0  1  4  0  0  0  0]\n",
      " [ 5  3 13  6  1  0  0]\n",
      " [ 0  2  1  0  2  0  1]\n",
      " [ 9  1  0  1  0  4  0]\n",
      " [ 1  0  0  0  0  3  7]]\n",
      "Précision: 0.4995207173778602\n",
      "Rappel: 0.4541743970315399\n",
      "Score F1: 0.41614250479651693\n",
      "Accuracy: 0.43\n"
     ]
    }
   ],
   "source": [
    "cm3 = confusion_matrix(y_test, y_pred34, labels = [\"Passif\", \"Aligné\", \"Engagé\",\"Moteur\",\"Déchiré\", \"Opposant\", \"Irréductible\"])\n",
    "print(cm3)\n",
    "print(\"Précision:\", precision_score(y_test, y_pred34, average='macro'))\n",
    "print(\"Rappel:\", recall_score(y_test, y_pred34, average='macro'))\n",
    "print(\"Score F1:\", f1_score(y_test, y_pred34, average='macro'))\n",
    "print(\"Accuracy:\", accuracy_score(y_test, y_pred34))"
   ]
  },
  {
   "cell_type": "markdown",
   "id": "02f86976-8672-4a51-bf99-05dc586b7b0b",
   "metadata": {},
   "source": [
    "## Modèle 5 : MoritzLaurer/roberta-large-zeroshot-v2.0"
   ]
  },
  {
   "cell_type": "markdown",
   "id": "d4ca8db9-3d3f-43a8-b013-8e458bcb460d",
   "metadata": {},
   "source": [
    "### Tache 1 : classification selon son niveau de synergie"
   ]
  },
  {
   "cell_type": "code",
   "execution_count": 145,
   "id": "9f079b14",
   "metadata": {},
   "outputs": [],
   "source": [
    "y_pred_synergy35 = []"
   ]
  },
  {
   "cell_type": "code",
   "execution_count": 146,
   "id": "0c300b3d",
   "metadata": {},
   "outputs": [
    {
     "name": "stdout",
     "output_type": "stream",
     "text": [
      "Temps d'exécution : 9.78minutes\n"
     ]
    }
   ],
   "source": [
    "start = time.time()\n",
    "for text in avis[\"Sample_text\"]:\n",
    "    text = translator.translate(text, target_lang='en')\n",
    "    result = classifier5(text, text_synergy_labels3e, multi_label = False )\n",
    "    result = result['labels'][0].split()[0]\n",
    "    if result == \"1\":\n",
    "        y_pred_synergy35.append(\"Minimaliste\")\n",
    "    elif result == \"2\":\n",
    "        y_pred_synergy35.append(\"Intéressé\")\n",
    "    elif result == \"3\" :\n",
    "        y_pred_synergy35.append(\"Coopérant\")\n",
    "    else :\n",
    "        y_pred_synergy35.append(\"Engagé\")\n",
    "end = time.time()\n",
    "execution_time351 = end - start\n",
    "execution_time351 = execution_time351/60\n",
    "\n",
    "print(f'Temps d\\'exécution : {execution_time351:.2f}minutes')\n"
   ]
  },
  {
   "cell_type": "code",
   "execution_count": 147,
   "id": "5e26b8bf",
   "metadata": {},
   "outputs": [],
   "source": [
    "y_pred_synergy35 = np.array(y_pred_synergy35 )"
   ]
  },
  {
   "cell_type": "code",
   "execution_count": 148,
   "id": "17786d93",
   "metadata": {},
   "outputs": [
    {
     "name": "stdout",
     "output_type": "stream",
     "text": [
      "[[26  2  0  2]\n",
      " [ 7 16  1  0]\n",
      " [ 0  7  7  5]\n",
      " [ 2  6  4 15]]\n",
      "Précision: 0.6310344225666806\n",
      "Rappel: 0.6143274853801169\n",
      "Score F1: 0.611418995750793\n",
      "Accuracy: 0.64\n"
     ]
    }
   ],
   "source": [
    "cm = confusion_matrix(y_test_synergy, y_pred_synergy35, labels = [\"Minimaliste\", \"Intéressé\", \"Coopérant\",\"Engagé\"])\n",
    "print(cm)\n",
    "print(\"Précision:\", precision_score(y_test_synergy, y_pred_synergy35, average='macro'))\n",
    "print(\"Rappel:\", recall_score(y_test_synergy, y_pred_synergy35, average='macro'))\n",
    "print(\"Score F1:\", f1_score(y_test_synergy, y_pred_synergy35, average='macro'))\n",
    "print(\"Accuracy:\", accuracy_score(y_test_synergy, y_pred_synergy35))"
   ]
  },
  {
   "cell_type": "markdown",
   "id": "ba2f6906-0e91-4b1c-8b9f-b03e3c94f2c1",
   "metadata": {},
   "source": [
    "### Tache 2 : classification selon son niveau d'antagonisme"
   ]
  },
  {
   "cell_type": "code",
   "execution_count": 149,
   "id": "fe297625",
   "metadata": {},
   "outputs": [],
   "source": [
    "y_pred_antagonism35 = []"
   ]
  },
  {
   "cell_type": "code",
   "execution_count": 150,
   "id": "f0f04079",
   "metadata": {},
   "outputs": [
    {
     "name": "stdout",
     "output_type": "stream",
     "text": [
      "Temps d'exécution : 10.41minutes\n"
     ]
    }
   ],
   "source": [
    "start = time.time()\n",
    "for text in avis[\"Sample_text\"]:\n",
    "    text = translator.translate(text, target_lang='en')\n",
    "    result = classifier5(text, text_antagonism_labels3e, multi_label = False )\n",
    "    result = result['labels'][0].split()[0]\n",
    "    if result == \"1\":\n",
    "        y_pred_antagonism35.append(\"Conciliant\")\n",
    "    elif result == \"2\":\n",
    "        y_pred_antagonism35.append(\"Résistant\")\n",
    "    elif result == \"3\" :\n",
    "        y_pred_antagonism35.append(\"Opposant\")\n",
    "    else :\n",
    "        y_pred_antagonism35.append(\"Irréconciliant\")\n",
    "end = time.time()\n",
    "execution_time352 = end - start\n",
    "execution_time352 = execution_time352/60\n",
    "\n",
    "print(f'Temps d\\'exécution : {execution_time352:.2f}minutes')"
   ]
  },
  {
   "cell_type": "code",
   "execution_count": 151,
   "id": "b8bf0467",
   "metadata": {},
   "outputs": [],
   "source": [
    "y_pred_antagonism35 = np.array(y_pred_antagonism35)"
   ]
  },
  {
   "cell_type": "code",
   "execution_count": 152,
   "id": "e8f10512",
   "metadata": {},
   "outputs": [
    {
     "name": "stdout",
     "output_type": "stream",
     "text": [
      "[[25  1  0  0]\n",
      " [ 5 28  0  0]\n",
      " [ 3 13  6  2]\n",
      " [ 0  1  2 14]]\n",
      "Précision: 0.7584346370683581\n",
      "Rappel: 0.720888180447004\n",
      "Score F1: 0.7019461452166627\n",
      "Accuracy: 0.73\n"
     ]
    }
   ],
   "source": [
    "cm2 = confusion_matrix(y_test_antagonism, y_pred_antagonism35, labels = [\"Conciliant\", \"Résistant\", \"Opposant\",\"Irréconciliant\"])\n",
    "print(cm2)\n",
    "print(\"Précision:\", precision_score(y_test_antagonism, y_pred_antagonism35, average='macro'))\n",
    "print(\"Rappel:\", recall_score(y_test_antagonism, y_pred_antagonism35, average='macro'))\n",
    "print(\"Score F1:\", f1_score(y_test_antagonism, y_pred_antagonism35, average='macro'))\n",
    "print(\"Accuracy:\", accuracy_score(y_test_antagonism, y_pred_antagonism35))"
   ]
  },
  {
   "cell_type": "code",
   "execution_count": 153,
   "id": "6138699c",
   "metadata": {},
   "outputs": [],
   "source": [
    "predictions_roberta_large_zeroshot_v2_0_3 = pd.DataFrame({\n",
    "    'synergy': y_pred_synergy35,\n",
    "    'antagonism': y_pred_antagonism35\n",
    "})"
   ]
  },
  {
   "cell_type": "markdown",
   "id": "ecaea3c6-d03d-4394-a4b0-5bb78bf72345",
   "metadata": {},
   "source": [
    "### Tache 3 : classification finale"
   ]
  },
  {
   "cell_type": "code",
   "execution_count": 154,
   "id": "1bd373f8",
   "metadata": {},
   "outputs": [],
   "source": [
    "predictions_roberta_large_zeroshot_v2_0_3['class'] =predictions_roberta_large_zeroshot_v2_0_3.apply(assign_group, axis=1)"
   ]
  },
  {
   "cell_type": "code",
   "execution_count": 155,
   "id": "4dac52a5",
   "metadata": {},
   "outputs": [],
   "source": [
    "y_pred35 = predictions_roberta_large_zeroshot_v2_0_3[\"class\"]"
   ]
  },
  {
   "cell_type": "code",
   "execution_count": 156,
   "id": "7caf8e1b",
   "metadata": {},
   "outputs": [
    {
     "name": "stdout",
     "output_type": "stream",
     "text": [
      "[[27  1  0  0  0  0  0]\n",
      " [ 2  4  1  0  0  0  0]\n",
      " [ 0  2  3  0  0  0  0]\n",
      " [12  1  2 10  2  1  0]\n",
      " [ 0  0  0  1  5  0  0]\n",
      " [10  0  0  1  0  4  0]\n",
      " [ 0  0  0  0  1  2  8]]\n",
      "Précision: 0.6513105242096839\n",
      "Rappel: 0.6171614100185528\n",
      "Score F1: 0.5974799319521885\n",
      "Accuracy: 0.61\n"
     ]
    }
   ],
   "source": [
    "cm3 = confusion_matrix(y_test, y_pred35, labels = [\"Passif\", \"Aligné\", \"Engagé\",\"Moteur\",\"Déchiré\", \"Opposant\", \"Irréductible\"])\n",
    "print(cm3)\n",
    "print(\"Précision:\", precision_score(y_test, y_pred35, average='macro'))\n",
    "print(\"Rappel:\", recall_score(y_test, y_pred35, average='macro'))\n",
    "print(\"Score F1:\", f1_score(y_test, y_pred35, average='macro'))\n",
    "print(\"Accuracy:\", accuracy_score(y_test, y_pred35))"
   ]
  },
  {
   "cell_type": "markdown",
   "id": "340d505f-9b51-49e0-b7b0-c9e91c7b9525",
   "metadata": {},
   "source": [
    "## Modèle 6 : MoritzLaurer/bge-m3-zeroshot-v2.0"
   ]
  },
  {
   "cell_type": "markdown",
   "id": "cb4697df-c6c3-425e-8df3-490ed6004ccb",
   "metadata": {},
   "source": [
    "### Tache 1 : classification selon son niveau de synergie"
   ]
  },
  {
   "cell_type": "code",
   "execution_count": 157,
   "id": "8e827636",
   "metadata": {},
   "outputs": [],
   "source": [
    "y_pred_synergy36 = []"
   ]
  },
  {
   "cell_type": "code",
   "execution_count": 158,
   "id": "1bb2f5a5",
   "metadata": {},
   "outputs": [
    {
     "name": "stdout",
     "output_type": "stream",
     "text": [
      "Temps d'exécution : 4.53minutes\n"
     ]
    }
   ],
   "source": [
    "start = time.time()\n",
    "for text in avis[\"Sample_text\"]:\n",
    "    result = classifier6(text, text_synergy_labels3, multi_label = False )\n",
    "    result = result['labels'][0].split()[0]\n",
    "    if result == \"1\":\n",
    "        y_pred_synergy36.append(\"Minimaliste\")\n",
    "    elif result == \"2\":\n",
    "        y_pred_synergy36.append(\"Intéressé\")\n",
    "    elif result == \"3\" :\n",
    "        y_pred_synergy36.append(\"Coopérant\")\n",
    "    else :\n",
    "        y_pred_synergy36.append(\"Engagé\")\n",
    "end = time.time()\n",
    "execution_time361 = end - start\n",
    "execution_time361 = execution_time361/60\n",
    "\n",
    "print(f'Temps d\\'exécution : {execution_time361:.2f}minutes')"
   ]
  },
  {
   "cell_type": "code",
   "execution_count": 159,
   "id": "f9b41d1a",
   "metadata": {},
   "outputs": [],
   "source": [
    "y_pred_synergy36 = np.array(y_pred_synergy36 )"
   ]
  },
  {
   "cell_type": "code",
   "execution_count": 160,
   "id": "aba9ab45",
   "metadata": {},
   "outputs": [
    {
     "name": "stdout",
     "output_type": "stream",
     "text": [
      "[[15  2  4  9]\n",
      " [ 3  0  6 15]\n",
      " [ 1  0 10  8]\n",
      " [ 0  0  5 22]]\n",
      "Précision: 0.3992202729044834\n",
      "Rappel: 0.46028265107212474\n",
      "Score F1: 0.40250005726196203\n",
      "Accuracy: 0.47\n"
     ]
    }
   ],
   "source": [
    "cm = confusion_matrix(y_test_synergy, y_pred_synergy36, labels = [\"Minimaliste\", \"Intéressé\", \"Coopérant\",\"Engagé\"])\n",
    "print(cm)\n",
    "print(\"Précision:\", precision_score(y_test_synergy, y_pred_synergy36, average='macro'))\n",
    "print(\"Rappel:\", recall_score(y_test_synergy, y_pred_synergy36, average='macro'))\n",
    "print(\"Score F1:\", f1_score(y_test_synergy, y_pred_synergy36, average='macro'))\n",
    "print(\"Accuracy:\", accuracy_score(y_test_synergy, y_pred_synergy36))"
   ]
  },
  {
   "cell_type": "markdown",
   "id": "b6927ec5-f4b2-488b-bd4c-4c05ee67484d",
   "metadata": {},
   "source": [
    "### Tache 2 : classification selon son niveau d'antagonisme"
   ]
  },
  {
   "cell_type": "code",
   "execution_count": 164,
   "id": "69d3bd0e",
   "metadata": {},
   "outputs": [],
   "source": [
    "y_pred_antagonism36 = []"
   ]
  },
  {
   "cell_type": "code",
   "execution_count": 165,
   "id": "caaec0f1",
   "metadata": {},
   "outputs": [
    {
     "name": "stdout",
     "output_type": "stream",
     "text": [
      "Temps d'exécution : 4.54minutes\n"
     ]
    }
   ],
   "source": [
    "start = time.time()\n",
    "for text in avis[\"Sample_text\"]:\n",
    "    result = classifier6(text, text_antagonism_labels3, multi_label = False )\n",
    "    result = result['labels'][0].split()[0]\n",
    "    if result == \"1\":\n",
    "        y_pred_antagonism36.append(\"Conciliant\")\n",
    "    elif result == \"2\":\n",
    "        y_pred_antagonism36.append(\"Résistant\")\n",
    "    elif result == \"3\" :\n",
    "        y_pred_antagonism36.append(\"Opposant\")\n",
    "    else :\n",
    "        y_pred_antagonism36.append(\"Irréconciliant\")\n",
    "end = time.time()\n",
    "execution_time362 = end - start\n",
    "execution_time362 = execution_time362/60\n",
    "\n",
    "print(f'Temps d\\'exécution : {execution_time362:.2f}minutes')"
   ]
  },
  {
   "cell_type": "code",
   "execution_count": 166,
   "id": "478e1215",
   "metadata": {},
   "outputs": [],
   "source": [
    "y_pred_antagonism36 = np.array(y_pred_antagonism36)"
   ]
  },
  {
   "cell_type": "code",
   "execution_count": 167,
   "id": "f5407cee",
   "metadata": {},
   "outputs": [
    {
     "name": "stdout",
     "output_type": "stream",
     "text": [
      "[[26  0  0  0]\n",
      " [20 12  1  0]\n",
      " [11  9  4  0]\n",
      " [ 4  1  6  6]]\n",
      "Précision: 0.5838301043219076\n",
      "Rappel: 0.47081105169340465\n",
      "Score F1: 0.4460938361987837\n",
      "Accuracy: 0.48\n"
     ]
    }
   ],
   "source": [
    "cm2 = confusion_matrix(y_test_antagonism, y_pred_antagonism36, labels = [\"Conciliant\", \"Résistant\", \"Opposant\",\"Irréconciliant\"])\n",
    "print(cm2)\n",
    "print(\"Précision:\", precision_score(y_test_antagonism, y_pred_antagonism36, average='macro'))\n",
    "print(\"Rappel:\", recall_score(y_test_antagonism, y_pred_antagonism36, average='macro'))\n",
    "print(\"Score F1:\", f1_score(y_test_antagonism, y_pred_antagonism36, average='macro'))\n",
    "print(\"Accuracy:\", accuracy_score(y_test_antagonism, y_pred_antagonism36))"
   ]
  },
  {
   "cell_type": "code",
   "execution_count": 168,
   "id": "11ce3321",
   "metadata": {},
   "outputs": [],
   "source": [
    "predictions_bge_m3_zeroshot_v2_0_3 = pd.DataFrame({\n",
    "    'synergy': y_pred_synergy36,\n",
    "    'antagonism': y_pred_antagonism36\n",
    "})"
   ]
  },
  {
   "cell_type": "markdown",
   "id": "2bdb5a95-0db2-4957-9ea6-0db9ca75acdd",
   "metadata": {},
   "source": [
    "### Tache 3 : classification finale"
   ]
  },
  {
   "cell_type": "code",
   "execution_count": 169,
   "id": "bb0236ac",
   "metadata": {},
   "outputs": [],
   "source": [
    "predictions_bge_m3_zeroshot_v2_0_3['class'] =predictions_bge_m3_zeroshot_v2_0_3.apply(assign_group, axis=1)"
   ]
  },
  {
   "cell_type": "code",
   "execution_count": 170,
   "id": "f8cc5ac2",
   "metadata": {},
   "outputs": [],
   "source": [
    "y_pred36 = predictions_bge_m3_zeroshot_v2_0_3[\"class\"]"
   ]
  },
  {
   "cell_type": "code",
   "execution_count": 171,
   "id": "cf7ccef1",
   "metadata": {},
   "outputs": [
    {
     "name": "stdout",
     "output_type": "stream",
     "text": [
      "[[ 7  4 11  5  0  1  0]\n",
      " [ 0  4  3  0  0  0  0]\n",
      " [ 0  2  3  0  0  0  0]\n",
      " [ 1  5 11 11  0  0  0]\n",
      " [ 0  1  2  3  0  0  0]\n",
      " [ 3  2  3  5  0  2  0]\n",
      " [ 0  0  1  1  2  3  4]]\n",
      "Précision: 0.38859349800526266\n",
      "Rappel: 0.33017934446505876\n",
      "Score F1: 0.28167491089323976\n",
      "Accuracy: 0.31\n"
     ]
    }
   ],
   "source": [
    "cm3 = confusion_matrix(y_test, y_pred36, labels = [\"Passif\", \"Aligné\", \"Engagé\",\"Moteur\",\"Déchiré\", \"Opposant\", \"Irréductible\"])\n",
    "print(cm3)\n",
    "print(\"Précision:\", precision_score(y_test, y_pred36, average='macro'))\n",
    "print(\"Rappel:\", recall_score(y_test, y_pred36, average='macro'))\n",
    "print(\"Score F1:\", f1_score(y_test, y_pred36, average='macro'))\n",
    "print(\"Accuracy:\", accuracy_score(y_test, y_pred36))"
   ]
  },
  {
   "cell_type": "markdown",
   "id": "b7e0dfc0-6139-4a10-bdfa-3cec22a15766",
   "metadata": {},
   "source": [
    "# Sauvegarde des résultats "
   ]
  },
  {
   "cell_type": "markdown",
   "id": "da6582b2-eef6-4b88-aa71-e8ff9084842b",
   "metadata": {},
   "source": [
    "## Modèle 1 : facebook/bart-large-mnli\""
   ]
  },
  {
   "cell_type": "code",
   "execution_count": 172,
   "id": "b8d26389-843a-4415-97a0-5c03a1a8dd9d",
   "metadata": {},
   "outputs": [],
   "source": [
    "#Prompt 1 \n",
    "predictions_bart_large_mnli_1.to_csv(\"predictions_bart_large_mnli_1.csv\", index = False)\n",
    "#Prompt 2 \n",
    "predictions_bart_large_mnli_2.to_csv(\"predictions_bart_large_mnli_2.csv\", index = False)\n",
    "#Prompt 3 \n",
    "predictions_bart_large_mnli_3.to_csv(\"predictions_bart_large_mnli_3.csv\", index = False)"
   ]
  },
  {
   "cell_type": "markdown",
   "id": "03a587e0-36ba-4b4f-918e-ee3827550e5a",
   "metadata": {},
   "source": [
    "## Modèle 2 : "
   ]
  },
  {
   "cell_type": "code",
   "execution_count": 173,
   "id": "347055ca-406a-44b3-b9df-1ed24484a6cf",
   "metadata": {},
   "outputs": [],
   "source": [
    "#Prompt 1 \n",
    "predictions_deberta_v3_large_zeroshot_v2_0_1.to_csv(\"predictions_deberta_v3_large_zeroshot_v2_0_1.csv\", index = False)\n",
    "#Prompt 2 \n",
    "predictions_deberta_v3_large_zeroshot_v2_0_2.to_csv(\"predictions_deberta_v3_large_zeroshot_v2_0_2.csv\", index = False)\n",
    "#Prompt 3 \n",
    "predictions_deberta_v3_large_zeroshot_v2_0_3.to_csv(\"predictions_deberta_v3_large_zeroshot_v2_0_3.csv\", index = False)"
   ]
  },
  {
   "cell_type": "markdown",
   "id": "830dbcdf-c13f-4514-94dc-96e5c756e44b",
   "metadata": {},
   "source": [
    "## Modèle 3:"
   ]
  },
  {
   "cell_type": "code",
   "execution_count": 174,
   "id": "b16dc822-5759-4349-8912-9460c7e229fa",
   "metadata": {},
   "outputs": [],
   "source": [
    "#Prompt 1 \n",
    "predictions_deberta_v3_large_zeroshot_v2_0_c_1.to_csv(\"predictions_deberta_v3_large_zeroshot_v2_0_c_1.csv\", index = False)\n",
    "#Prompt 2 \n",
    "predictions_deberta_v3_large_zeroshot_v2_0_c_2.to_csv(\"predictions_deberta_v3_large_zeroshot_v2_0_c_2.csv\", index = False)\n",
    "#Prompt 3 \n",
    "predictions_deberta_v3_large_zeroshot_v2_0_c_3.to_csv(\"predictions_deberta_v3_large_zeroshot_v2_0_c_3.csv\", index = False)"
   ]
  },
  {
   "cell_type": "markdown",
   "id": "a59ed14e-59b1-4ee9-94dd-e941ef1f4a4f",
   "metadata": {},
   "source": [
    "## Modèle 4 :"
   ]
  },
  {
   "cell_type": "code",
   "execution_count": 175,
   "id": "82725e26-ddba-4121-be7e-724ba7b6ec64",
   "metadata": {},
   "outputs": [],
   "source": [
    "#Prompt 1 \n",
    "predictions_deberta_v3_base_zeroshot_v2_0_1.to_csv(\"predictions_deberta_v3_base_zeroshot_v2_0_1.csv\", index = False)\n",
    "#Prompt 2 \n",
    "predictions_deberta_v3_base_zeroshot_v2_0_2.to_csv(\"predictions_deberta_v3_base_zeroshot_v2_0_2.csv\", index = False)\n",
    "#Prompt 3 \n",
    "predictions_deberta_v3_base_zeroshot_v2_0_3.to_csv(\"predictions_deberta_v3_base_zeroshot_v2_0_3.csv\", index = False)"
   ]
  },
  {
   "cell_type": "markdown",
   "id": "eab53f31-18ec-47ac-b88b-b40902b8ee70",
   "metadata": {},
   "source": [
    "## Modèle 5 :"
   ]
  },
  {
   "cell_type": "code",
   "execution_count": 176,
   "id": "7cb21a94-160a-43c1-90cc-8280207aa7fd",
   "metadata": {},
   "outputs": [],
   "source": [
    "#Prompt 1 \n",
    "predictions_roberta_large_zeroshot_v2_0_1.to_csv(\"predictions_roberta_large_zeroshot_v2_0_1.csv\", index = False)\n",
    "#Prompt 2 \n",
    "predictions_roberta_large_zeroshot_v2_0_2.to_csv(\"predictions_roberta_large_zeroshot_v2_0_2.csv\", index = False)\n",
    "#Prompt 3 \n",
    "predictions_roberta_large_zeroshot_v2_0_3.to_csv(\"predictions_roberta_large_zeroshot_v2_0_3.csv\", index = False)"
   ]
  },
  {
   "cell_type": "markdown",
   "id": "d0cb9459-5c4e-4e20-94f0-c1949c27cc98",
   "metadata": {},
   "source": [
    "## Modèle 6 :"
   ]
  },
  {
   "cell_type": "code",
   "execution_count": 177,
   "id": "6b2691c0-7618-4714-8609-d2d07f2fe2db",
   "metadata": {},
   "outputs": [],
   "source": [
    "#Prompt 1 \n",
    "predictions_bge_m3_zeroshot_v2_0_1.to_csv(\"predictions_bge_m3_zeroshot_v2_0_1.csv\", index = False)\n",
    "#Prompt 2 \n",
    "predictions_bge_m3_zeroshot_v2_0_2.to_csv(\"predictions_bge_m3_zeroshot_v2_0_2.csv\", index = False)\n",
    "#Prompt 3 \n",
    "predictions_bge_m3_zeroshot_v2_0_3.to_csv(\"predictions_bge_m3_zeroshot_v2_0_3.csv\", index = False)"
   ]
  }
 ],
 "metadata": {
  "kernelspec": {
   "display_name": "Python 3 (ipykernel)",
   "language": "python",
   "name": "python3"
  },
  "language_info": {
   "codemirror_mode": {
    "name": "ipython",
    "version": 3
   },
   "file_extension": ".py",
   "mimetype": "text/x-python",
   "name": "python",
   "nbconvert_exporter": "python",
   "pygments_lexer": "ipython3",
   "version": "3.9.13"
  }
 },
 "nbformat": 4,
 "nbformat_minor": 5
}
